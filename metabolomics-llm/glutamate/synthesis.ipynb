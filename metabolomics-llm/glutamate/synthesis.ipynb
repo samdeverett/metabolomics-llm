{
  "cells": [
    {
      "cell_type": "markdown",
      "metadata": {
        "id": "6m1nrxRnKdQA"
      },
      "source": [
        "See [README](https://github.com/samdeverett/metabolomics-llm/blob/glutamate/metabolomics-llm/glutamate/README.md) for experiment motivation.\n",
        "\n",
        "# Experiment 1: `Synthesis`\n",
        "\n",
        "**Question:** Can the LLM combine insights from the various pieces of context given to it? Does it provide a balanced response if the pieces of context disagree?\n",
        "  \n",
        "**Methodology:** Generate a natural language summary of the result from each paper. With the summaries prepended to the prompt, ask the LLM about the effect of exercise on glutamate and assess it's ability to synthesize the summaries."
      ]
    },
    {
      "cell_type": "code",
      "execution_count": 2,
      "metadata": {
        "id": "SzT7N8rJKdQC"
      },
      "outputs": [],
      "source": [
        "question = \"How does the presence of glutamate change in response to exercise?\""
      ]
    },
    {
      "cell_type": "code",
      "execution_count": 3,
      "metadata": {
        "id": "2AvDWGCaKdQE"
      },
      "outputs": [],
      "source": [
        "# Summary of results from each paper\n",
        "\n",
        "breit = \"\"\"\n",
        "  Table 1 shows that exercise causes an increase in glutamate, specifically a 1.12 MFC and 0.17 log_2(MFC).\n",
        "\"\"\"\n",
        "\n",
        "peake = \"\"\"\n",
        "  The plasma concentration of glutamate increased significantly only during high-intensity interval exercise.\n",
        "  In skeletal muscle, glutamate consumption increases markedly during the first few minutes of exercise, particularly when muscle glycogen is low.\n",
        "\"\"\"\n",
        "\n",
        "zauber = \"\"\"\n",
        "  Table 2 shows an increase in glutamate in both males and females during exercise, although only significantly for females.\n",
        "\"\"\"\n",
        "\n",
        "howe = \"\"\"\n",
        "  Table 1 shows a ratio of 0.528 for glutamate after an 80.5km run versus before, suggesting a decrease in glutamate in response to exercise.\n",
        "\"\"\"\n",
        "\n",
        "coelho = \"\"\"\n",
        "  Glutamate was up regulated immediately following exercise but returned to origin levels shortly after.\n",
        "\"\"\"\n",
        "\n",
        "danaher = \"\"\"\n",
        "  Glutamate significantly decreased during the recovery period after exercise.\n",
        "\"\"\""
      ]
    },
    {
      "cell_type": "code",
      "execution_count": 4,
      "metadata": {
        "id": "Hc70ytzVKdQF"
      },
      "outputs": [],
      "source": [
        "import pipeline\n",
        "\n",
        "from apikey import HF_AUTH_TOKEN"
      ]
    },
    {
      "cell_type": "code",
      "execution_count": 5,
      "metadata": {
        "id": "hEzROApVKdQG"
      },
      "outputs": [],
      "source": [
        "# Select model to use\n",
        "model_id = 'meta-llama/Llama-2-7b-chat-hf'"
      ]
    },
    {
      "cell_type": "code",
      "execution_count": 7,
      "metadata": {
        "colab": {
          "base_uri": "https://localhost:8080/",
          "height": 49,
          "referenced_widgets": [
            "6523bd7610b64502a0a47644a8331e86",
            "c25127df217749b3ba25a012d66dcc56",
            "bdcc1678c9e7470ebb785bed7567d9da",
            "86746f06c93d44fa9f7b546e0c5f0c1e",
            "a3500c2ae0e34921b005ddb128cf4e23",
            "cee54e56faff4b4ba10bfb5febdd72b8",
            "fe1ef4180be040f58fa91e30f95bd8c0",
            "31e647a7e5934060a58a511faf2bad5c",
            "285eb4da25444c329485cde046cd8292",
            "074881eed3ce4629bb0deffdfcdc2948",
            "427d8b97b5e74b1988e8839c2a9db37c"
          ]
        },
        "id": "-Y2bJxvrKdQG",
        "outputId": "5be067d8-267b-4716-e369-69764072cff4"
      },
      "outputs": [],
      "source": [
        "# # Load Model\n",
        "model = pipeline.init_model(model_id, HF_AUTH_TOKEN)\n",
        "tokenizer = pipeline.init_tokenizer(model_id, HF_AUTH_TOKEN)\n",
        "text_generation_pipeline = pipeline.init_text_generation_pipeline(\n",
        "    model,\n",
        "    tokenizer,\n",
        "    max_new_tokens=4096,\n",
        "    do_sample=True,\n",
        "    temperature=0.6,\n",
        "    top_p=0.9,\n",
        "    repetition_penalty=1.1\n",
        ")\n",
        "llm = pipeline.init_langchain_pipeline(text_generation_pipeline)"
      ]
    },
    {
      "cell_type": "code",
      "execution_count": 31,
      "metadata": {
        "id": "TmvPvtLZP6AZ"
      },
      "outputs": [],
      "source": [
        "prompt = f\"\"\"\n",
        "<s>[INST] <<SYS>>\n",
        "Act as a helpful research assistant capable of synthesizing insights.\n",
        "<</SYS>>\n",
        "Using the following summaries of research papers, answer the question at the end.\n",
        "If results from papers conflict with one another, say so; do not choose a side.\n",
        "Remember to synthesize results rather than just restate them.\n",
        "Summary of Breit paper: {breit}\n",
        "Summary of Peake paper: {peake}\n",
        "Summary of Zauber paper: {zauber}\n",
        "Summary of Howe paper: {howe}\n",
        "Summary of Coelho paper: {coelho}\n",
        "Summary of Danaher paper: {danaher}\n",
        "QUESTION: {question}\n",
        "ANSWER: [/INST]\n",
        "\"\"\""
      ]
    },
    {
      "cell_type": "markdown",
      "metadata": {
        "id": "REp9v455ociI"
      },
      "source": [
        "Due to the stochastic nature of causal language models, let's ask this prompt several times to assess the quality of responses."
      ]
    },
    {
      "cell_type": "code",
      "execution_count": 35,
      "metadata": {
        "colab": {
          "base_uri": "https://localhost:8080/"
        },
        "id": "ipzm2XBCkRky",
        "outputId": "2b677e30-9cfd-47e3-8d94-5a4a65b8a76f"
      },
      "outputs": [
        {
          "name": "stdout",
          "output_type": "stream",
          "text": [
            "Based on the summaries provided, it appears that there is some inconsistency in how glutamate levels change in response to exercise. Here are the main findings from each study:\n",
            "\n",
            "* Breit et al. (2016) found that exercise caused an increase in glutamate levels by 1.12 million fold cells (MFC) and 0.17 log_2(MFC).\n",
            "* Peake et al. (2017) found that glutamate levels in plasma increased significantly only during high-intensity interval exercise, and that glutamate consumption in skeletal muscle increases markedly during the first few minutes of exercise, particularly when muscle glycogen is low.\n",
            "* Zauber et al. (2018) found that glutamate levels increased in both males and females during exercise, although only significantly for females.\n",
            "* Howe et al. (2019) found that glutamate levels decreased after an 80.5km run, with a ratio of 0.528 compared to pre-exercise levels.\n",
            "* Coelho et al. (2020) found that glutamate was upregulated immediately following exercise but returned to baseline levels shortly after.\n",
            "* Danaher et al. (2020) found that glutamate levels significantly decreased during the recovery period after exercise.\n",
            "\n",
            "Overall, it seems that glutamate levels can either increase or decrease in response to exercise, depending on the type and intensity of the exercise, as well as individual differences between studies. It is important to note that these findings may have implications for our understanding of the role of glutamate in exercise physiology and sports performance, as well as potential applications in areas such as sports nutrition and injury prevention. However, further research is needed to confirm and expand upon these findings.\n"
          ]
        }
      ],
      "source": [
        "response = llm(prompt)\n",
        "print(response)"
      ]
    },
    {
      "cell_type": "code",
      "execution_count": 33,
      "metadata": {
        "colab": {
          "base_uri": "https://localhost:8080/"
        },
        "id": "kYa1IEAGjbH3",
        "outputId": "ec2c97bb-9bae-43f8-c0c8-c278801a298e"
      },
      "outputs": [
        {
          "name": "stdout",
          "output_type": "stream",
          "text": [
            "Based on the summarized research papers, it appears that the presence of glutamate changes in response to exercise in different ways depending on the type and intensity of exercise. Here are some key findings:\n",
            "\n",
            "* Exercise can cause an increase in glutamate levels, as shown by the Breit et al. study (1.12 MFC and 0.17 log_2(MFC) increase in Table 1).\n",
            "* However, this increase may not be observed in all types of exercise, as suggested by the Peake et al. study, which found that glutamate concentrations only increased significantly during high-intensity interval exercise.\n",
            "* Additionally, the timing and duration of glutamate increase seem to vary, as the Peake et al. study found that glutamate consumption increases markedly during the first few minutes of exercise, particularly when muscle glycogen is low.\n",
            "* The Zauber et al. study found that glutamate levels increased in both males and females during exercise, although the significance of the increase was only observed in females.\n",
            "* Interestingly, the Howe et al. study found a decrease in glutamate levels after an 80.5km run, suggesting that prolonged exercise may lead to a decrease in glutamate levels.\n",
            "* Finally, the Coelho et al. study found that glutamate levels were upregulated immediately following exercise but returned to baseline levels shortly after.\n",
            "\n",
            "Overall, it seems that glutamate levels can change in response to different types and intensities of exercise, and may also be affected by factors such as the duration and intensity of exercise and individual differences in metabolism.\n"
          ]
        }
      ],
      "source": [
        "response = llm(prompt)\n",
        "print(response)"
      ]
    },
    {
      "cell_type": "code",
      "execution_count": 32,
      "metadata": {
        "colab": {
          "base_uri": "https://localhost:8080/"
        },
        "id": "XoNOoWi_lEoV",
        "outputId": "6ff5a4b6-e5f5-4658-8193-b42a0b7b1bce"
      },
      "outputs": [
        {
          "name": "stdout",
          "output_type": "stream",
          "text": [
            "Based on the summarized research papers, it appears that there is a complex and dynamic relationship between glutamate and exercise. Here are some key findings:\n",
            "\n",
            "1. Exercise can lead to an increase in glutamate levels:\n",
            "\t* Breit et al. (2019) found that exercise resulted in a significant increase in glutamate concentrations in the brain, specifically a 1.12 MFC and 0.17 log_2(MFC).\n",
            "\t* Peake et al. (2016) observed an increase in plasma glutamate concentrations during high-intensity interval exercise.\n",
            "\t* Zauber et al. (2018) reported a significant increase in glutamate levels in both males and females during exercise, although only for females.\n",
            "2. Glutamate levels may fluctuate during exercise:\n",
            "\t* Howe et al. (2017) found that glutamate levels decreased after an 80.5km run, suggesting a decrease in glutamate in response to prolonged exercise.\n",
            "\t* Coelho et al. (2015) observed an immediate increase in glutamate levels following exercise, which returned to baseline levels soon after.\n",
            "3. The relationship between glutamate and exercise may vary depending on factors such as intensity and duration of exercise:\n",
            "\t* Breit et al. (2019) found that the increase in glutamate levels was most pronounced during low-intensity exercise.\n",
            "\t* Peake et al. (2016) observed that glutamate levels increased significantly only during high-intensity interval exercise.\n",
            "4. Glutamate levels may be influenced by individual differences:\n",
            "\t* Zauber et al. (2018) found that the increase in glutamate levels during exercise was more pronounced in younger individuals.\n",
            "\n",
            "In summary, the presence of glutamate changes in response to exercise, with some studies showing an increase in glutamate levels during or after exercise, while others have found fluctuations or decreases in glutamate levels depending on the intensity and duration of exercise. Further research is needed to fully understand the complex relationship between glutamate and exercise.\n"
          ]
        }
      ],
      "source": [
        "response = llm(prompt)\n",
        "print(response)"
      ]
    },
    {
      "cell_type": "markdown",
      "metadata": {
        "id": "68uDfPlZRL40"
      },
      "source": [
        "#### Analysis\n",
        "\n",
        "Each response correctly calls out the complexity of the relationship between exercise and glutamate. That's a major positive result.\n",
        "\n",
        "That said, only the last response meaningfully synthesizes the results rather than restates the summaries. There is likely a need for more prompt engineering to ensure this happens more often."
      ]
    },
    {
      "cell_type": "markdown",
      "metadata": {
        "id": "7CX_Jw3nTHfe"
      },
      "source": [
        "### Larger Models\n",
        "\n",
        "The responses above are from the 7B version of Llama 2. Let's see if the larger versions produce notably better responses given the same prompt, system prompt, and hyperparameters.\n",
        "\n",
        "[Llama 2 13B](https://huggingface.co/spaces/huggingface-projects/llama-2-13b-chat):\n",
        "\n",
        "> Based on the summaries of the research papers provided, there is evidence to suggest that exercise can cause changes in the levels of glutamate in the body. However, the specifics of these changes are not entirely clear and may depend on factors such as the intensity and duration of exercise, as well as individual differences among people.\n",
        ">\n",
        "> The Breit paper found an increase in glutamate levels (specifically, a 1.12 MFC and 0.17 log_2(MFC)) after exercise (Table 1). The Peake paper also found an increase in plasma glutamate concentrations during high-intensity interval exercise, particularly when muscle glycogen was low (Table 1). The Zauber paper found an increase in glutamate levels in both males and females during exercise, although the increase was only significant for females (Table 2).\n",
        ">\n",
        "> On the other hand, the Howe paper found a decrease in glutamate levels after an 80.5km run (ratio of 0.528 before vs. after), while the Coelho paper found that glutamate was upregulated immediately following exercise but returned to baseline levels shortly after. Finally, the Danaher paper found that glutamate significantly decreased during the recovery period after exercise.\n",
        ">\n",
        "> In summary, the results of these studies suggest that exercise can lead to changes in glutamate levels, but the direction and extent of these changes may vary depending on the specifics of the exercise and the individual. It is important to note that these findings are based on limited information and more research is needed to fully understand how exercise affects glutamate levels in the body.\n",
        "\n",
        "[Llama 2 70B](https://huggingface.co/spaces/ysharma/Explore_llamav2_with_TGI):\n",
        "\n",
        "> The presence of glutamate appears to change differently depending on the intensity, duration, and individual factors related to exercise. According to the summaries provided, here are some observations:\n",
        "> 1. High-intensity interval exercise: The Peake paper indicates that plasma glutamate concentrations increase significantly during high-intensity interval exercise.\n",
        "> 2. Muscle glycogen depletion: The Peake paper also suggests that glutamate consumption in skeletal muscle increases markedly during the first few minutes of exercise, particularly when muscle glycogen is low.\n",
        "> 3. Gender differences: The Zauber paper shows an increase in glutamate during exercise for both males and females, but the increase is only significant for females.\n",
        "> 4. Endurance exercise: The Howe paper suggests a decrease in glutamate after an 80.5km run.\n",
        "> 5. Short-term exercise: The Coelho paper indicates that glutamate is upregulated immediately following exercise but returns to original levels shortly after.\n",
        "> 6. Recovery period: The Danaher paper shows that glutamate significantly decreases during the recovery period after exercise.\n",
        ">\n",
        "> In summary, the presence of glutamate seems to be affected by various factors related to exercise, including intensity, duration, gender, and individual differences. While some studies suggest an increase in glutamate during or after exercise, others indicate a decrease. It is essential to consider the specific conditions of each study when interpreting the results. Further research may help clarify the overall effect of exercise on glutamate levels and provide a more comprehensive understanding of its role in exercise physiology.\n",
        "\n",
        "These responses also acknowledge the conflict in results and arguably do a better job providing more helpful responses, suggesting that scaling to larger models may further increase quality."
      ]
    }
  ],
  "metadata": {
    "accelerator": "GPU",
    "colab": {
      "gpuType": "T4",
      "provenance": []
    },
    "kernelspec": {
      "display_name": "Python 3",
      "name": "python3"
    },
    "language_info": {
      "codemirror_mode": {
        "name": "ipython",
        "version": 3
      },
      "file_extension": ".py",
      "mimetype": "text/x-python",
      "name": "python",
      "nbconvert_exporter": "python",
      "pygments_lexer": "ipython3",
      "version": "3.9.18"
    },
    "widgets": {
      "application/vnd.jupyter.widget-state+json": {
        "074881eed3ce4629bb0deffdfcdc2948": {
          "model_module": "@jupyter-widgets/base",
          "model_module_version": "1.2.0",
          "model_name": "LayoutModel",
          "state": {
            "_model_module": "@jupyter-widgets/base",
            "_model_module_version": "1.2.0",
            "_model_name": "LayoutModel",
            "_view_count": null,
            "_view_module": "@jupyter-widgets/base",
            "_view_module_version": "1.2.0",
            "_view_name": "LayoutView",
            "align_content": null,
            "align_items": null,
            "align_self": null,
            "border": null,
            "bottom": null,
            "display": null,
            "flex": null,
            "flex_flow": null,
            "grid_area": null,
            "grid_auto_columns": null,
            "grid_auto_flow": null,
            "grid_auto_rows": null,
            "grid_column": null,
            "grid_gap": null,
            "grid_row": null,
            "grid_template_areas": null,
            "grid_template_columns": null,
            "grid_template_rows": null,
            "height": null,
            "justify_content": null,
            "justify_items": null,
            "left": null,
            "margin": null,
            "max_height": null,
            "max_width": null,
            "min_height": null,
            "min_width": null,
            "object_fit": null,
            "object_position": null,
            "order": null,
            "overflow": null,
            "overflow_x": null,
            "overflow_y": null,
            "padding": null,
            "right": null,
            "top": null,
            "visibility": null,
            "width": null
          }
        },
        "285eb4da25444c329485cde046cd8292": {
          "model_module": "@jupyter-widgets/controls",
          "model_module_version": "1.5.0",
          "model_name": "ProgressStyleModel",
          "state": {
            "_model_module": "@jupyter-widgets/controls",
            "_model_module_version": "1.5.0",
            "_model_name": "ProgressStyleModel",
            "_view_count": null,
            "_view_module": "@jupyter-widgets/base",
            "_view_module_version": "1.2.0",
            "_view_name": "StyleView",
            "bar_color": null,
            "description_width": ""
          }
        },
        "31e647a7e5934060a58a511faf2bad5c": {
          "model_module": "@jupyter-widgets/base",
          "model_module_version": "1.2.0",
          "model_name": "LayoutModel",
          "state": {
            "_model_module": "@jupyter-widgets/base",
            "_model_module_version": "1.2.0",
            "_model_name": "LayoutModel",
            "_view_count": null,
            "_view_module": "@jupyter-widgets/base",
            "_view_module_version": "1.2.0",
            "_view_name": "LayoutView",
            "align_content": null,
            "align_items": null,
            "align_self": null,
            "border": null,
            "bottom": null,
            "display": null,
            "flex": null,
            "flex_flow": null,
            "grid_area": null,
            "grid_auto_columns": null,
            "grid_auto_flow": null,
            "grid_auto_rows": null,
            "grid_column": null,
            "grid_gap": null,
            "grid_row": null,
            "grid_template_areas": null,
            "grid_template_columns": null,
            "grid_template_rows": null,
            "height": null,
            "justify_content": null,
            "justify_items": null,
            "left": null,
            "margin": null,
            "max_height": null,
            "max_width": null,
            "min_height": null,
            "min_width": null,
            "object_fit": null,
            "object_position": null,
            "order": null,
            "overflow": null,
            "overflow_x": null,
            "overflow_y": null,
            "padding": null,
            "right": null,
            "top": null,
            "visibility": null,
            "width": null
          }
        },
        "427d8b97b5e74b1988e8839c2a9db37c": {
          "model_module": "@jupyter-widgets/controls",
          "model_module_version": "1.5.0",
          "model_name": "DescriptionStyleModel",
          "state": {
            "_model_module": "@jupyter-widgets/controls",
            "_model_module_version": "1.5.0",
            "_model_name": "DescriptionStyleModel",
            "_view_count": null,
            "_view_module": "@jupyter-widgets/base",
            "_view_module_version": "1.2.0",
            "_view_name": "StyleView",
            "description_width": ""
          }
        },
        "6523bd7610b64502a0a47644a8331e86": {
          "model_module": "@jupyter-widgets/controls",
          "model_module_version": "1.5.0",
          "model_name": "HBoxModel",
          "state": {
            "_dom_classes": [],
            "_model_module": "@jupyter-widgets/controls",
            "_model_module_version": "1.5.0",
            "_model_name": "HBoxModel",
            "_view_count": null,
            "_view_module": "@jupyter-widgets/controls",
            "_view_module_version": "1.5.0",
            "_view_name": "HBoxView",
            "box_style": "",
            "children": [
              "IPY_MODEL_c25127df217749b3ba25a012d66dcc56",
              "IPY_MODEL_bdcc1678c9e7470ebb785bed7567d9da",
              "IPY_MODEL_86746f06c93d44fa9f7b546e0c5f0c1e"
            ],
            "layout": "IPY_MODEL_a3500c2ae0e34921b005ddb128cf4e23"
          }
        },
        "86746f06c93d44fa9f7b546e0c5f0c1e": {
          "model_module": "@jupyter-widgets/controls",
          "model_module_version": "1.5.0",
          "model_name": "HTMLModel",
          "state": {
            "_dom_classes": [],
            "_model_module": "@jupyter-widgets/controls",
            "_model_module_version": "1.5.0",
            "_model_name": "HTMLModel",
            "_view_count": null,
            "_view_module": "@jupyter-widgets/controls",
            "_view_module_version": "1.5.0",
            "_view_name": "HTMLView",
            "description": "",
            "description_tooltip": null,
            "layout": "IPY_MODEL_074881eed3ce4629bb0deffdfcdc2948",
            "placeholder": "​",
            "style": "IPY_MODEL_427d8b97b5e74b1988e8839c2a9db37c",
            "value": " 2/2 [01:07&lt;00:00, 30.89s/it]"
          }
        },
        "a3500c2ae0e34921b005ddb128cf4e23": {
          "model_module": "@jupyter-widgets/base",
          "model_module_version": "1.2.0",
          "model_name": "LayoutModel",
          "state": {
            "_model_module": "@jupyter-widgets/base",
            "_model_module_version": "1.2.0",
            "_model_name": "LayoutModel",
            "_view_count": null,
            "_view_module": "@jupyter-widgets/base",
            "_view_module_version": "1.2.0",
            "_view_name": "LayoutView",
            "align_content": null,
            "align_items": null,
            "align_self": null,
            "border": null,
            "bottom": null,
            "display": null,
            "flex": null,
            "flex_flow": null,
            "grid_area": null,
            "grid_auto_columns": null,
            "grid_auto_flow": null,
            "grid_auto_rows": null,
            "grid_column": null,
            "grid_gap": null,
            "grid_row": null,
            "grid_template_areas": null,
            "grid_template_columns": null,
            "grid_template_rows": null,
            "height": null,
            "justify_content": null,
            "justify_items": null,
            "left": null,
            "margin": null,
            "max_height": null,
            "max_width": null,
            "min_height": null,
            "min_width": null,
            "object_fit": null,
            "object_position": null,
            "order": null,
            "overflow": null,
            "overflow_x": null,
            "overflow_y": null,
            "padding": null,
            "right": null,
            "top": null,
            "visibility": null,
            "width": null
          }
        },
        "bdcc1678c9e7470ebb785bed7567d9da": {
          "model_module": "@jupyter-widgets/controls",
          "model_module_version": "1.5.0",
          "model_name": "FloatProgressModel",
          "state": {
            "_dom_classes": [],
            "_model_module": "@jupyter-widgets/controls",
            "_model_module_version": "1.5.0",
            "_model_name": "FloatProgressModel",
            "_view_count": null,
            "_view_module": "@jupyter-widgets/controls",
            "_view_module_version": "1.5.0",
            "_view_name": "ProgressView",
            "bar_style": "success",
            "description": "",
            "description_tooltip": null,
            "layout": "IPY_MODEL_31e647a7e5934060a58a511faf2bad5c",
            "max": 2,
            "min": 0,
            "orientation": "horizontal",
            "style": "IPY_MODEL_285eb4da25444c329485cde046cd8292",
            "value": 2
          }
        },
        "c25127df217749b3ba25a012d66dcc56": {
          "model_module": "@jupyter-widgets/controls",
          "model_module_version": "1.5.0",
          "model_name": "HTMLModel",
          "state": {
            "_dom_classes": [],
            "_model_module": "@jupyter-widgets/controls",
            "_model_module_version": "1.5.0",
            "_model_name": "HTMLModel",
            "_view_count": null,
            "_view_module": "@jupyter-widgets/controls",
            "_view_module_version": "1.5.0",
            "_view_name": "HTMLView",
            "description": "",
            "description_tooltip": null,
            "layout": "IPY_MODEL_cee54e56faff4b4ba10bfb5febdd72b8",
            "placeholder": "​",
            "style": "IPY_MODEL_fe1ef4180be040f58fa91e30f95bd8c0",
            "value": "Loading checkpoint shards: 100%"
          }
        },
        "cee54e56faff4b4ba10bfb5febdd72b8": {
          "model_module": "@jupyter-widgets/base",
          "model_module_version": "1.2.0",
          "model_name": "LayoutModel",
          "state": {
            "_model_module": "@jupyter-widgets/base",
            "_model_module_version": "1.2.0",
            "_model_name": "LayoutModel",
            "_view_count": null,
            "_view_module": "@jupyter-widgets/base",
            "_view_module_version": "1.2.0",
            "_view_name": "LayoutView",
            "align_content": null,
            "align_items": null,
            "align_self": null,
            "border": null,
            "bottom": null,
            "display": null,
            "flex": null,
            "flex_flow": null,
            "grid_area": null,
            "grid_auto_columns": null,
            "grid_auto_flow": null,
            "grid_auto_rows": null,
            "grid_column": null,
            "grid_gap": null,
            "grid_row": null,
            "grid_template_areas": null,
            "grid_template_columns": null,
            "grid_template_rows": null,
            "height": null,
            "justify_content": null,
            "justify_items": null,
            "left": null,
            "margin": null,
            "max_height": null,
            "max_width": null,
            "min_height": null,
            "min_width": null,
            "object_fit": null,
            "object_position": null,
            "order": null,
            "overflow": null,
            "overflow_x": null,
            "overflow_y": null,
            "padding": null,
            "right": null,
            "top": null,
            "visibility": null,
            "width": null
          }
        },
        "fe1ef4180be040f58fa91e30f95bd8c0": {
          "model_module": "@jupyter-widgets/controls",
          "model_module_version": "1.5.0",
          "model_name": "DescriptionStyleModel",
          "state": {
            "_model_module": "@jupyter-widgets/controls",
            "_model_module_version": "1.5.0",
            "_model_name": "DescriptionStyleModel",
            "_view_count": null,
            "_view_module": "@jupyter-widgets/base",
            "_view_module_version": "1.2.0",
            "_view_name": "StyleView",
            "description_width": ""
          }
        }
      }
    }
  },
  "nbformat": 4,
  "nbformat_minor": 0
}
