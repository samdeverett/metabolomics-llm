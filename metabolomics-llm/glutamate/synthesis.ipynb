{
 "cells": [
  {
   "cell_type": "markdown",
   "metadata": {},
   "source": [
    "See [README](https://github.com/samdeverett/metabolomics-llm/blob/glutamate/metabolomics-llm/glutamate/README.md) for experiment motivation.\n",
    "\n",
    "# Experiment 1: `Synthesis` \n",
    "\n",
    "**Question:** Can the LLM combine insights from the various pieces of context given to it? Does it provide a balanced response if the pieces of context disagree?\n",
    "  \n",
    "**Methodology:** Generate a natural language summary of the result from each paper. With the summaries prepended to the prompt, ask the LLM about the effect of exercise on glutamate and assess it's ability to synthesize the summaries."
   ]
  },
  {
   "cell_type": "code",
   "execution_count": 1,
   "metadata": {},
   "outputs": [],
   "source": [
    "question = \"How does the presence of glutamate change in response to exercise?\""
   ]
  },
  {
   "cell_type": "code",
   "execution_count": 2,
   "metadata": {},
   "outputs": [],
   "source": [
    "# Summary of results from each paper\n",
    "\n",
    "breit = \"\"\"\n",
    "    Table 1 shows that exercise causes an increase in glutamate, specifically a 1.12 MFC and 0.17 log_2(MFC). \n",
    "\"\"\"\n",
    "\n",
    "peake = \"\"\"\n",
    "    The plasma concentration of glutamate increased significantly only during high-intensity interval exercise.\n",
    "    In skeletal muscle, glutamate consumption increases markedly during the first few minutes of exercise, particularly when muscle glycogen is low.  \n",
    "\"\"\"\n",
    "\n",
    "zauber = \"\"\"\n",
    "    Table 2 shows an increase in glutamate in both males and females during exercise, although only significantly for females.  \n",
    "\"\"\"\n",
    "\n",
    "howe = \"\"\"\n",
    "    Table 1 shows a ratio of 0.528 for glutamate after an 80.5km run versus before, suggesting a decrease in glutamate in response to exercise.  \n",
    "\"\"\"\n",
    "\n",
    "coelho = \"\"\"\n",
    "    Glutamate was up regulated immediately following exercise but returned to origin levels shortly after.\n",
    "\"\"\"\n",
    "\n",
    "danaher = \"\"\"\n",
    "    Glutamate significantly decreased during the recovery period after exercise.\n",
    "\"\"\""
   ]
  },
  {
   "cell_type": "code",
   "execution_count": 4,
   "metadata": {},
   "outputs": [],
   "source": [
    "import pipeline\n",
    "\n",
    "from apikey import HF_AUTH_TOKEN"
   ]
  },
  {
   "cell_type": "code",
   "execution_count": 3,
   "metadata": {},
   "outputs": [],
   "source": [
    "# Select model to use\n",
    "model_id = 'meta-llama/Llama-2-7b-chat-hf'"
   ]
  },
  {
   "cell_type": "code",
   "execution_count": null,
   "metadata": {},
   "outputs": [],
   "source": [
    "model = pipeline.init_model(model_id, HF_AUTH_TOKEN)\n",
    "tokenizer = pipeline.init_tokenizer(model_id, HF_AUTH_TOKEN)\n",
    "text_generation_pipeline = pipeline.init_text_generation_pipeline(model, tokenizer)\n",
    "llm = pipeline.init_langchain_pipeline(text_generation_pipeline)"
   ]
  },
  {
   "cell_type": "code",
   "execution_count": 5,
   "metadata": {},
   "outputs": [],
   "source": [
    "prompt = f\"\"\"\n",
    "<s>[INST] <<SYS>>\n",
    "Act as a helpful research assistant capable of synthesizing insights.\n",
    "<</SYS>>\n",
    "Using the following summaries of research papers, answer the question at the end.\n",
    "Summary of Breit paper: {breit}\n",
    "Summary of Peake paper: {peake}\n",
    "Summary of Zauber paper: {zauber}\n",
    "Summary of Howe paper: {howe}\n",
    "Summary of Coelho paper: {coelho}\n",
    "Summary of Danaher paper: {danaher}\n",
    "QUESTION: {question}\n",
    "ANSWER: [/INST]\n",
    "\"\"\""
   ]
  },
  {
   "cell_type": "code",
   "execution_count": null,
   "metadata": {},
   "outputs": [],
   "source": [
    "llm(prompt)"
   ]
  }
 ],
 "metadata": {
  "kernelspec": {
   "display_name": "mit",
   "language": "python",
   "name": "python3"
  },
  "language_info": {
   "codemirror_mode": {
    "name": "ipython",
    "version": 3
   },
   "file_extension": ".py",
   "mimetype": "text/x-python",
   "name": "python",
   "nbconvert_exporter": "python",
   "pygments_lexer": "ipython3",
   "version": "3.9.18"
  }
 },
 "nbformat": 4,
 "nbformat_minor": 2
}
