{
 "cells": [
  {
   "cell_type": "markdown",
   "metadata": {},
   "source": [
    "See [README](https://github.com/samdeverett/metabolomics-llm/blob/glutamate/metabolomics-llm/glutamate/README.md) for experiment motivation.\n",
    "\n",
    "# Experiment 2: `Retrieval` \n",
    "\n",
    "**Question:** \n",
    "  \n",
    "**Methodology:** "
   ]
  },
  {
   "cell_type": "code",
   "execution_count": 7,
   "metadata": {},
   "outputs": [],
   "source": [
    "# Summary of results from each paper\n",
    "\n",
    "breit = \"\"\"\n",
    "    Table 1 shows an increase in glutamate, specifically a 1.12 MFC and 0.17 log_2(MFC). \n",
    "\"\"\"\n",
    "\n",
    "peake = \"\"\"\n",
    "    The plasma concentration of glutamate increased significantly only during high-intensity interval exercise.\n",
    "    In skeletal muscle, glutamate consumption increases markedly during the first few minutes of exercise, particularly when muscle glycogen is low.  \n",
    "\"\"\"\n",
    "\n",
    "zauber = \"\"\"\n",
    "    Table 2 shows an increase in glutamate in both males and females, although only significantly for females.  \n",
    "\"\"\"\n",
    "\n",
    "howe = \"\"\"\n",
    "    Table 1 shows a ratio of 0.528 for glutamate after an 80.5km run versus before, suggesting a decrease in glutamate.  \n",
    "\"\"\"\n",
    "\n",
    "coelho = \"\"\"\n",
    "    Glutamate was up regulated immediately following exercise but returned to origin levels shortly after.\n",
    "\"\"\"\n",
    "\n",
    "danaher = \"\"\"\n",
    "    Glutamate significantly decreased during the recovery period after exercise.\n",
    "\"\"\"\n",
    "\n",
    "summaries = [\n",
    "    breit,\n",
    "    peake,\n",
    "    zauber,\n",
    "    howe,\n",
    "    coelho,\n",
    "    danaher\n",
    "]"
   ]
  },
  {
   "cell_type": "code",
   "execution_count": null,
   "metadata": {},
   "outputs": [],
   "source": [
    "data = pd.DataFrame({\n",
    "    'id': range()\n",
    "})"
   ]
  },
  {
   "cell_type": "code",
   "execution_count": 8,
   "metadata": {},
   "outputs": [
    {
     "data": {
      "text/plain": [
       "'\\n    Table 1 shows an increase in glutamate, specifically a 1.12 MFC and 0.17 log_2(MFC). \\n'"
      ]
     },
     "execution_count": 8,
     "metadata": {},
     "output_type": "execute_result"
    }
   ],
   "source": [
    "import embed\n",
    "import index\n",
    "import pipeline\n",
    "import retrieve\n",
    "\n",
    "from apikey import PINECONE_API_KEY, PINECONE_ENV, HF_AUTH_TOKEN"
   ]
  },
  {
   "cell_type": "code",
   "execution_count": null,
   "metadata": {},
   "outputs": [],
   "source": [
    "# Select models to use\n",
    "\n",
    "embed_model_name = 'sentence-transformers/all-MiniLM-L6-v2'\n",
    "\n",
    "\n",
    "# Set index parameters\n",
    "\n",
    "index_name = 'synthesis'\n",
    "index_metric = 'cosine'"
   ]
  },
  {
   "cell_type": "code",
   "execution_count": null,
   "metadata": {},
   "outputs": [],
   "source": [
    "embed_model = embed.init_embed_model(embed_model_name)\n",
    "embed_length = embed.get_embed_length(embed_model)\n",
    "\n",
    "index = index.Pinecone(\n",
    "    PINECONE_API_KEY,\n",
    "    PINECONE_ENV,\n",
    "    index_name,\n",
    "    embed_length,\n",
    "    index_metric\n",
    ")\n",
    "index.insert(data, embed_model)"
   ]
  }
 ],
 "metadata": {
  "kernelspec": {
   "display_name": "mit",
   "language": "python",
   "name": "python3"
  },
  "language_info": {
   "codemirror_mode": {
    "name": "ipython",
    "version": 3
   },
   "file_extension": ".py",
   "mimetype": "text/x-python",
   "name": "python",
   "nbconvert_exporter": "python",
   "pygments_lexer": "ipython3",
   "version": "3.9.18"
  }
 },
 "nbformat": 4,
 "nbformat_minor": 2
}
