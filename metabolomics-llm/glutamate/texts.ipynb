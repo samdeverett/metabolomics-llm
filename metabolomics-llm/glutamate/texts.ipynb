{
 "cells": [
  {
   "cell_type": "markdown",
   "metadata": {},
   "source": [
    "This notebook is used to generate `.csv` files with chunks from the texts in `glutamate/texts` to be used for RAG in `glutamate.ipynb`."
   ]
  },
  {
   "cell_type": "code",
   "execution_count": 1,
   "metadata": {},
   "outputs": [],
   "source": [
    "import os\n",
    "import pandas as pd\n",
    "from langchain.text_splitter import RecursiveCharacterTextSplitter"
   ]
  },
  {
   "cell_type": "code",
   "execution_count": 2,
   "metadata": {},
   "outputs": [],
   "source": [
    "files = [\n",
    "    \"breit.txt\",\n",
    "    \"coelho.txt\",\n",
    "    \"danaher.txt\",\n",
    "    \"howe.txt\",\n",
    "    \"peake.txt\",\n",
    "    \"zauber.txt\"\n",
    "]"
   ]
  },
  {
   "cell_type": "code",
   "execution_count": 3,
   "metadata": {},
   "outputs": [],
   "source": [
    "texts = []\n",
    "for file in files:\n",
    "    path = os.path.join(\"texts\", file)\n",
    "    text = open(path, \"r\").read()\n",
    "    texts.append(text)"
   ]
  },
  {
   "cell_type": "code",
   "execution_count": 4,
   "metadata": {},
   "outputs": [],
   "source": [
    "text_splitter = RecursiveCharacterTextSplitter(\n",
    "    chunk_size = 800,\n",
    "    chunk_overlap = 100,\n",
    "    length_function = len,\n",
    ")\n",
    "metadata = [ \n",
    "    {\n",
    "        \"id\": i, \n",
    "        \"file\": files[i]\n",
    "    } for i in range(len(files))\n",
    "]\n",
    "docs = text_splitter.create_documents(texts, metadata)"
   ]
  },
  {
   "cell_type": "code",
   "execution_count": 5,
   "metadata": {},
   "outputs": [
    {
     "data": {
      "text/plain": [
       "510"
      ]
     },
     "execution_count": 5,
     "metadata": {},
     "output_type": "execute_result"
    }
   ],
   "source": [
    "len(docs)"
   ]
  },
  {
   "cell_type": "code",
   "execution_count": 6,
   "metadata": {},
   "outputs": [
    {
     "data": {
      "text/plain": [
       "Document(page_content='ABSTRACT\\nThe objectives of this work were the classification of dynamic\\nmetabolic biomarker candidates and the modeling and characterization\\nof kinetic regulatory mechanisms in human metabolism with response to\\nexternal perturbations by physical activity. Longitudinal metabolic\\nconcentration data of 47 individuals from 4 different groups were\\nexamined, obtained from a cycle ergometry cohort study. In total, 110\\nmetabolites (within the classes of acylcarnitines, amino acids, and\\nsugars) were measured through a targeted metabolomics approach,\\ncombining tandem mass spectrometry (MS/MS) with the concept of stable\\nisotope dilution (SID) for metabolite quantitation. Biomarker\\ncandidates were selected by combined analysis of maximum fold changes', metadata={'id': 0, 'file': 'breit.txt'})"
      ]
     },
     "execution_count": 6,
     "metadata": {},
     "output_type": "execute_result"
    }
   ],
   "source": [
    "docs[0]"
   ]
  },
  {
   "cell_type": "code",
   "execution_count": 7,
   "metadata": {},
   "outputs": [
    {
     "name": "stdout",
     "output_type": "stream",
     "text": [
      "breit.txt: 96\n",
      "coelho.txt: 60\n",
      "danaher.txt: 89\n",
      "howe.txt: 62\n",
      "peake.txt: 92\n",
      "zauber.txt: 111\n"
     ]
    }
   ],
   "source": [
    "for file in files:\n",
    "\n",
    "    # Print number of chunks.\n",
    "    file_docs = [ doc for doc in docs if doc.metadata[\"file\"] == file ]\n",
    "    num_chunks = len(file_docs)\n",
    "    print(f\"{file}: {num_chunks}\")\n",
    "\n",
    "    # Add chunk_id to metadata.\n",
    "    for chunk_id in range(num_chunks):\n",
    "        file_docs[chunk_id].metadata[\"chunk_id\"] = chunk_id"
   ]
  },
  {
   "cell_type": "code",
   "execution_count": 8,
   "metadata": {},
   "outputs": [
    {
     "data": {
      "text/html": [
       "<div>\n",
       "<style scoped>\n",
       "    .dataframe tbody tr th:only-of-type {\n",
       "        vertical-align: middle;\n",
       "    }\n",
       "\n",
       "    .dataframe tbody tr th {\n",
       "        vertical-align: top;\n",
       "    }\n",
       "\n",
       "    .dataframe thead th {\n",
       "        text-align: right;\n",
       "    }\n",
       "</style>\n",
       "<table border=\"1\" class=\"dataframe\">\n",
       "  <thead>\n",
       "    <tr style=\"text-align: right;\">\n",
       "      <th></th>\n",
       "      <th>id</th>\n",
       "      <th>chunk_id</th>\n",
       "      <th>chunk</th>\n",
       "      <th>file</th>\n",
       "    </tr>\n",
       "  </thead>\n",
       "  <tbody>\n",
       "    <tr>\n",
       "      <th>0</th>\n",
       "      <td>0</td>\n",
       "      <td>0</td>\n",
       "      <td>ABSTRACT\\nThe objectives of this work were the...</td>\n",
       "      <td>breit.txt</td>\n",
       "    </tr>\n",
       "    <tr>\n",
       "      <th>1</th>\n",
       "      <td>0</td>\n",
       "      <td>1</td>\n",
       "      <td>candidates were selected by combined analysis ...</td>\n",
       "      <td>breit.txt</td>\n",
       "    </tr>\n",
       "    <tr>\n",
       "      <th>2</th>\n",
       "      <td>0</td>\n",
       "      <td>2</td>\n",
       "      <td>MFC and statistical significance, was classifi...</td>\n",
       "      <td>breit.txt</td>\n",
       "    </tr>\n",
       "    <tr>\n",
       "      <th>3</th>\n",
       "      <td>0</td>\n",
       "      <td>3</td>\n",
       "      <td>biomarker identification and the investigation...</td>\n",
       "      <td>breit.txt</td>\n",
       "    </tr>\n",
       "    <tr>\n",
       "      <th>4</th>\n",
       "      <td>0</td>\n",
       "      <td>4</td>\n",
       "      <td>through a cycle ergometry stress test. In tota...</td>\n",
       "      <td>breit.txt</td>\n",
       "    </tr>\n",
       "    <tr>\n",
       "      <th>...</th>\n",
       "      <td>...</td>\n",
       "      <td>...</td>\n",
       "      <td>...</td>\n",
       "      <td>...</td>\n",
       "    </tr>\n",
       "    <tr>\n",
       "      <th>505</th>\n",
       "      <td>5</td>\n",
       "      <td>106</td>\n",
       "      <td>New perspectives arise from metabolomic analys...</td>\n",
       "      <td>zauber.txt</td>\n",
       "    </tr>\n",
       "    <tr>\n",
       "      <th>506</th>\n",
       "      <td>5</td>\n",
       "      <td>107</td>\n",
       "      <td>Table 3. Overrepresentation analysis of GO ter...</td>\n",
       "      <td>zauber.txt</td>\n",
       "    </tr>\n",
       "    <tr>\n",
       "      <th>507</th>\n",
       "      <td>5</td>\n",
       "      <td>108</td>\n",
       "      <td>Male\\tSignal transduction\\t0.052\\t0.035\\t0.687...</td>\n",
       "      <td>zauber.txt</td>\n",
       "    </tr>\n",
       "    <tr>\n",
       "      <th>508</th>\n",
       "      <td>5</td>\n",
       "      <td>109</td>\n",
       "      <td>In summary, our study is one of the first case...</td>\n",
       "      <td>zauber.txt</td>\n",
       "    </tr>\n",
       "    <tr>\n",
       "      <th>509</th>\n",
       "      <td>5</td>\n",
       "      <td>110</td>\n",
       "      <td>insights into regular protein and metabolite a...</td>\n",
       "      <td>zauber.txt</td>\n",
       "    </tr>\n",
       "  </tbody>\n",
       "</table>\n",
       "<p>510 rows × 4 columns</p>\n",
       "</div>"
      ],
      "text/plain": [
       "     id  chunk_id                                              chunk  \\\n",
       "0     0         0  ABSTRACT\\nThe objectives of this work were the...   \n",
       "1     0         1  candidates were selected by combined analysis ...   \n",
       "2     0         2  MFC and statistical significance, was classifi...   \n",
       "3     0         3  biomarker identification and the investigation...   \n",
       "4     0         4  through a cycle ergometry stress test. In tota...   \n",
       "..   ..       ...                                                ...   \n",
       "505   5       106  New perspectives arise from metabolomic analys...   \n",
       "506   5       107  Table 3. Overrepresentation analysis of GO ter...   \n",
       "507   5       108  Male\\tSignal transduction\\t0.052\\t0.035\\t0.687...   \n",
       "508   5       109  In summary, our study is one of the first case...   \n",
       "509   5       110  insights into regular protein and metabolite a...   \n",
       "\n",
       "           file  \n",
       "0     breit.txt  \n",
       "1     breit.txt  \n",
       "2     breit.txt  \n",
       "3     breit.txt  \n",
       "4     breit.txt  \n",
       "..          ...  \n",
       "505  zauber.txt  \n",
       "506  zauber.txt  \n",
       "507  zauber.txt  \n",
       "508  zauber.txt  \n",
       "509  zauber.txt  \n",
       "\n",
       "[510 rows x 4 columns]"
      ]
     },
     "execution_count": 8,
     "metadata": {},
     "output_type": "execute_result"
    }
   ],
   "source": [
    "df = pd.DataFrame({\n",
    "    \"id\": [doc.metadata[\"id\"] for doc in docs],\n",
    "    \"chunk_id\": [doc.metadata[\"chunk_id\"] for doc in docs],\n",
    "    \"chunk\": [doc.page_content for doc in docs],\n",
    "    \"file\": [doc.metadata[\"file\"] for doc in docs]\n",
    "})\n",
    "df"
   ]
  },
  {
   "cell_type": "code",
   "execution_count": 9,
   "metadata": {},
   "outputs": [],
   "source": [
    "df.to_csv(\"glutamate.csv\")"
   ]
  }
 ],
 "metadata": {
  "kernelspec": {
   "display_name": "mit",
   "language": "python",
   "name": "python3"
  },
  "language_info": {
   "codemirror_mode": {
    "name": "ipython",
    "version": 3
   },
   "file_extension": ".py",
   "mimetype": "text/x-python",
   "name": "python",
   "nbconvert_exporter": "python",
   "pygments_lexer": "ipython3",
   "version": "3.9.18"
  },
  "orig_nbformat": 4
 },
 "nbformat": 4,
 "nbformat_minor": 2
}
