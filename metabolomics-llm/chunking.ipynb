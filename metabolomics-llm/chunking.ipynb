{
 "cells": [
  {
   "cell_type": "markdown",
   "metadata": {},
   "source": [
    "# Chunking\n",
    "\n",
    "This notebook explores various methods for separating a text into chunks."
   ]
  },
  {
   "cell_type": "code",
   "execution_count": 52,
   "metadata": {},
   "outputs": [],
   "source": [
    "from langchain.text_splitter import CharacterTextSplitter, RecursiveCharacterTextSplitter\n",
    "from utils import get_works_from_years"
   ]
  },
  {
   "cell_type": "code",
   "execution_count": 32,
   "metadata": {},
   "outputs": [],
   "source": [
    "df = get_works_from_years(start_year=2023, end_year=2023)\n",
    "text = df.text.iloc[1]"
   ]
  },
  {
   "cell_type": "code",
   "execution_count": 33,
   "metadata": {},
   "outputs": [],
   "source": [
    "# Get to the meat of the paper\n",
    "start = text.index(\"1. Introduction\")\n",
    "# Examine only a part of the paper (i.e., the introduction)\n",
    "end = text.index(\"2. Analytical Techniques in Metabolomics\")\n",
    "\n",
    "text = text[start:end]"
   ]
  },
  {
   "cell_type": "code",
   "execution_count": 38,
   "metadata": {},
   "outputs": [
    {
     "data": {
      "text/plain": [
       "'1. IntroductionTo understand the biological pathway underlying the phenotype of plants, a systemsbiology approach can be used [1–3]. In systems biology, the information and interac-tion of the functional physical structure and the genetic information are integrated toprovide a comprehensive model of the organism (Figure 1). Different high-throughputtechnologies are used to study the genetic program of the various -omics fields: genomics,transcriptomics, proteomics, and metabolomics.Metabolomics was the newest field added to the systems biology toolbox at the begin-ning of the 21st century. Metabolomics gives a quantitative and qualitative overview ofall the metabolites, small molecules with a molecular weight of 30–3000 Da, present in anorganism with various properties and functions [4]. There are approximately 1,000,000 dif-ferent metabolites available in the plant kingdom, which makes metabolomics a challengingfield [5]. Moreover, the metabolome changes quite quickly due to circadian rhythm [6–8]and environmental stresses [9,10] and differs between organs, tissues and even for sin-gle cells [11,12]. The metabolome is most closely related to the phenotype of a plantsince metabolites are the end products of cellular processes [13]. Metabolomics is usedto study development under normal and abiotic conditions (temperature, light, salt) [14]and biotic stress conditions (fungal, insects) [15,16], the safety assessment of geneticallymodified crops [17], speed up crop improvements [18], the effect of fruit storage [19] andthe detection of food fraud [20,21].The link between the gene regulatory network and the functional physical structure(the double arrow in Figure 1) is generally considered highly complex, with many pathwaysand pathway nodes interacting in what are often considered multifactorial processes. Whileit is undoubtedly flexible and adaptable to environmental constraints, the underlying linksfor a specific phenotype may turn out to be monofactorial, particularly in plants that canMolecules 2021, 26, 931. https://doi.org/10.3390/molecules26040931 https://www.mdpi.com/journal/moleculesMolecules 2021, 26, 931 2 of 18be grown under highly controlled conditions. The ultimate goal is to understand thecomplexity of organisms using metabolomics and to understand the underlying pathwaysof the phenotype of the organisms in a general framework [22]. This requires techniquesthat can study metabolomics directly in native state.Molecules 2021, 26, x FOR PEER REVIEW 2 of 19    Figure 1. In systems biology, the information from the genetic program is integrated with infor-mation from functional physical structures to provide a comprehensive model of plants. The link between the gene regulatory network and the functional physical structure (the double arrow in Figure 1) is generally considered highly complex, with many path-ways and pathway nodes interacting in what are often considered multifactorial pro-cesses. While it is undoubtedly flexible and adaptable to environmental constraints, the underlying links for a specific phenotype may turn out to be monofactorial, particularly in plants that can be grown under highly controlled conditions. The ultimate goal is to understand the complexity of organisms using metabolomics and to understand the un-derlying pathways of the phenotype of the organisms in a general framework [22]. This requires techniques that can study metabolomics directly in native state. '"
      ]
     },
     "execution_count": 38,
     "metadata": {},
     "output_type": "execute_result"
    }
   ],
   "source": [
    "text"
   ]
  },
  {
   "cell_type": "markdown",
   "metadata": {},
   "source": [
    "### Basic Method: Fixed-Length "
   ]
  },
  {
   "cell_type": "markdown",
   "metadata": {},
   "source": [
    "**Pros:**\n",
    "* Straight-forward\n",
    "\n",
    "**Cons:**\n",
    "* Often results in sentences being split\n",
    "* Requires specifying a `chunk_size` and `chunk_overlap`, and it's unclear how these should be chosen"
   ]
  },
  {
   "cell_type": "code",
   "execution_count": 56,
   "metadata": {},
   "outputs": [],
   "source": [
    "text_splitter = RecursiveCharacterTextSplitter(\n",
    "    chunk_size = 1000,\n",
    "    chunk_overlap = 200,\n",
    "    length_function = len,\n",
    ")\n",
    "docs = text_splitter.create_documents([text])"
   ]
  },
  {
   "cell_type": "code",
   "execution_count": 57,
   "metadata": {},
   "outputs": [
    {
     "name": "stdout",
     "output_type": "stream",
     "text": [
      "Number of chunks: 5.\n"
     ]
    }
   ],
   "source": [
    "print(f\"Number of chunks: {len(docs)}.\")"
   ]
  },
  {
   "cell_type": "code",
   "execution_count": 58,
   "metadata": {},
   "outputs": [
    {
     "name": "stdout",
     "output_type": "stream",
     "text": [
      "Doc 0:\n",
      "1. IntroductionTo understand the biological pathway underlying the phenotype of plants, a systemsbiology approach can be used [1–3]. In systems biology, the information and interac-tion of the functional physical structure and the genetic information are integrated toprovide a comprehensive model of the organism (Figure 1). Different high-throughputtechnologies are used to study the genetic program of the various -omics fields: genomics,transcriptomics, proteomics, and metabolomics.Metabolomics was the newest field added to the systems biology toolbox at the begin-ning of the 21st century. Metabolomics gives a quantitative and qualitative overview ofall the metabolites, small molecules with a molecular weight of 30–3000 Da, present in anorganism with various properties and functions [4]. There are approximately 1,000,000 dif-ferent metabolites available in the plant kingdom, which makes metabolomics a challengingfield [5]. Moreover, the metabolome changes quite quickly due to circadian\n",
      "\n",
      "Doc 1:\n",
      "are approximately 1,000,000 dif-ferent metabolites available in the plant kingdom, which makes metabolomics a challengingfield [5]. Moreover, the metabolome changes quite quickly due to circadian rhythm [6–8]and environmental stresses [9,10] and differs between organs, tissues and even for sin-gle cells [11,12]. The metabolome is most closely related to the phenotype of a plantsince metabolites are the end products of cellular processes [13]. Metabolomics is usedto study development under normal and abiotic conditions (temperature, light, salt) [14]and biotic stress conditions (fungal, insects) [15,16], the safety assessment of geneticallymodified crops [17], speed up crop improvements [18], the effect of fruit storage [19] andthe detection of food fraud [20,21].The link between the gene regulatory network and the functional physical structure(the double arrow in Figure 1) is generally considered highly complex, with many pathwaysand pathway nodes interacting in what are often\n",
      "\n",
      "Doc 2:\n",
      "gene regulatory network and the functional physical structure(the double arrow in Figure 1) is generally considered highly complex, with many pathwaysand pathway nodes interacting in what are often considered multifactorial processes. Whileit is undoubtedly flexible and adaptable to environmental constraints, the underlying linksfor a specific phenotype may turn out to be monofactorial, particularly in plants that canMolecules 2021, 26, 931. https://doi.org/10.3390/molecules26040931 https://www.mdpi.com/journal/moleculesMolecules 2021, 26, 931 2 of 18be grown under highly controlled conditions. The ultimate goal is to understand thecomplexity of organisms using metabolomics and to understand the underlying pathwaysof the phenotype of the organisms in a general framework [22]. This requires techniquesthat can study metabolomics directly in native state.Molecules 2021, 26, x FOR PEER REVIEW 2 of 19    Figure 1. In systems biology, the information from the genetic program is integrated\n",
      "\n",
      "Doc 3:\n",
      "techniquesthat can study metabolomics directly in native state.Molecules 2021, 26, x FOR PEER REVIEW 2 of 19    Figure 1. In systems biology, the information from the genetic program is integrated with infor-mation from functional physical structures to provide a comprehensive model of plants. The link between the gene regulatory network and the functional physical structure (the double arrow in Figure 1) is generally considered highly complex, with many path-ways and pathway nodes interacting in what are often considered multifactorial pro-cesses. While it is undoubtedly flexible and adaptable to environmental constraints, the underlying links for a specific phenotype may turn out to be monofactorial, particularly in plants that can be grown under highly controlled conditions. The ultimate goal is to understand the complexity of organisms using metabolomics and to understand the un-derlying pathways of the phenotype of the organisms in a general framework [22]. This requires\n",
      "\n",
      "Doc 4:\n",
      "ultimate goal is to understand the complexity of organisms using metabolomics and to understand the un-derlying pathways of the phenotype of the organisms in a general framework [22]. This requires techniques that can study metabolomics directly in native state.\n",
      "\n"
     ]
    }
   ],
   "source": [
    "for i, doc in enumerate(docs):\n",
    "    print(f\"Doc {i}:\")\n",
    "    print(doc.page_content)\n",
    "    print()"
   ]
  }
 ],
 "metadata": {
  "kernelspec": {
   "display_name": "mit",
   "language": "python",
   "name": "python3"
  },
  "language_info": {
   "codemirror_mode": {
    "name": "ipython",
    "version": 3
   },
   "file_extension": ".py",
   "mimetype": "text/x-python",
   "name": "python",
   "nbconvert_exporter": "python",
   "pygments_lexer": "ipython3",
   "version": "3.9.18"
  },
  "orig_nbformat": 4
 },
 "nbformat": 4,
 "nbformat_minor": 2
}
