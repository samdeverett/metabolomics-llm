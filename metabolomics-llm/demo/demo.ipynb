{
  "cells": [
    {
      "cell_type": "markdown",
      "metadata": {
        "id": "JPdQvYmlWmNc"
      },
      "source": [
        "# Demo: RAG with LLaMa for Metabolomics\n",
        "\n",
        "This notebook is a basic demo of how we might use **RAG with LLaMa 2 models to answer questions about [metabolomics](https://en.wikipedia.org/wiki/Metabolomics)**. It is adapted from Pinecone's [tutorial notebook](https://colab.research.google.com/github/pinecone-io/examples/blob/master/learn/generation/llm-field-guide/llama-2/llama-2-13b-retrievalqa.ipynb#scrollTo=K_fRq0BSGMBk).\n",
        "\n",
        "To run it, you will need:\n",
        "1. A GPU (if you don't have one locally, you can run this notebook in Google Colab on a T4 for free).\n",
        "2. Access to LLaMa 2 models (which you can request [here](https://ai.meta.com/resources/models-and-libraries/llama-downloads/)).\n",
        "3. A free [Pinecone](https://www.pinecone.io/) account.\n",
        "4. A free [Hugging Face](https://huggingface.co/) account."
      ]
    },
    {
      "cell_type": "markdown",
      "metadata": {
        "id": "PyLLEBvYRAd_"
      },
      "source": [
        "You can find your `PINECONE_API_KEY` and `PINECONE_ENV` on the left hand side of the Pinecone console under \"API Keys\". You can generate a `HF_AUTH_TOKEN` on the [\"Access Tokens\" page](https://huggingface.co/settings/tokens) in Hugging Face."
      ]
    },
    {
      "cell_type": "code",
      "execution_count": 5,
      "metadata": {
        "id": "g5WqnkyHQ0Zc"
      },
      "outputs": [],
      "source": [
        "from apikey import PINECONE_API_KEY, PINECONE_ENV, HF_AUTH_TOKEN"
      ]
    },
    {
      "cell_type": "markdown",
      "metadata": {
        "id": "GJvQ-CFmNagG"
      },
      "source": [
        "Install requirements."
      ]
    },
    {
      "cell_type": "code",
      "execution_count": 8,
      "metadata": {
        "colab": {
          "base_uri": "https://localhost:8080/"
        },
        "id": "K_fRq0BSGMBk",
        "outputId": "024f0d70-c679-46b5-ed8c-afc1a27c8223"
      },
      "outputs": [],
      "source": [
        "!pip install -qU \\\n",
        "  transformers==4.31.0 \\\n",
        "  sentence-transformers==2.2.2 \\\n",
        "  pinecone-client==2.2.2 \\\n",
        "  accelerate==0.21.0 \\\n",
        "  einops==0.6.1 \\\n",
        "  langchain==0.0.240 \\\n",
        "  xformers==0.0.20 \\\n",
        "  bitsandbytes==0.41.0"
      ]
    },
    {
      "cell_type": "markdown",
      "metadata": {
        "id": "apDj-eFrOvw8"
      },
      "source": [
        "## Embed Documents\n",
        "\n",
        "RAG requires being able to search for relevant documents. In order to search over documents, we must embed them (i.e., translate them from natural language into lists of numbers). The following cells go through this process step-by-step."
      ]
    },
    {
      "cell_type": "markdown",
      "metadata": {
        "id": "St7EcV8YPmdb"
      },
      "source": [
        "### Step 1: Initialize Embedding Pipeline\n",
        "\n",
        "We'll use the `sentence-transformers/all-MiniLM-L6-v2` model for embedding."
      ]
    },
    {
      "cell_type": "code",
      "execution_count": 3,
      "metadata": {
        "id": "nQf0ICZXmGPq"
      },
      "outputs": [],
      "source": [
        "from torch import cuda\n",
        "from langchain.embeddings.huggingface import HuggingFaceEmbeddings\n",
        "\n",
        "embed_model_id = 'sentence-transformers/all-MiniLM-L6-v2'\n",
        "\n",
        "device = f'cuda:{cuda.current_device()}' if cuda.is_available() else 'cpu'\n",
        "\n",
        "embed_model = HuggingFaceEmbeddings(\n",
        "    model_name=embed_model_id,\n",
        "    model_kwargs={'device': device},\n",
        "    encode_kwargs={'device': device, 'batch_size': 32}\n",
        ")"
      ]
    },
    {
      "cell_type": "code",
      "execution_count": 4,
      "metadata": {
        "colab": {
          "base_uri": "https://localhost:8080/"
        },
        "id": "CQYa4jm80gaF",
        "outputId": "a7ce07b7-87be-4304-9779-e309a0c3d3e9"
      },
      "outputs": [
        {
          "name": "stdout",
          "output_type": "stream",
          "text": [
            "The test_embedding is: [[-0.010658024810254574, 0.007777046877890825, -0.048584189265966415, -0.006959881167858839, 0.07620539516210556, -0.017881382256746292, -0.0013527343980967999, -0.014369568787515163, 0.025443829596042633, 0.013539735227823257, 0.009461544454097748, 0.012313110753893852, 0.026188816875219345, 0.055159393697977066, -0.14169545471668243, 0.026118865236639977, 0.057166315615177155, 0.12877777218818665, -0.11897539347410202, -0.06329623609781265, -0.053651344031095505, -0.008360287174582481, 0.04814831539988518, -0.07457169145345688, 0.049726080149412155, 0.04055644944310188, -0.008107990026473999, 0.10452724993228912, 0.07922663539648056, -0.07040495425462723, 0.049212511628866196, -0.08947668224573135, 0.01344557385891676, -0.00016502825019415468, 0.021257735788822174, 0.009228905662894249, -0.007962614297866821, 0.015760231763124466, -0.04543723538517952, -0.002762935124337673, -0.02500234544277191, -0.053733330219984055, 0.00789560005068779, 0.025415977463126183, 0.014474154449999332, 0.004235126543790102, 0.015809128060936928, -0.06565173715353012, -0.018187107518315315, 0.07056014984846115, -0.03071765787899494, -0.044592827558517456, -0.007806946523487568, -0.07909583300352097, -0.008831442333757877, 0.00328832003287971, -0.04410666599869728, -0.023209549486637115, -0.0006932421238161623, -0.010184623301029205, 0.10075259208679199, -0.014088822528719902, 0.06327635049819946, 0.0306461863219738, 0.04184051603078842, 0.01189117319881916, 0.030235102400183678, 0.05381598323583603, -0.07483433187007904, 0.00983728002756834, -0.042573481798172, -0.006152825430035591, -0.0859876498579979, 0.013357287272810936, -0.012163851410150528, 0.02030724473297596, 0.03284449502825737, -0.06228279322385788, 0.07882194966077805, -0.020693931728601456, -0.0072678932920098305, 0.023024776950478554, -0.03895909711718559, -0.03103698045015335, 0.03615890070796013, 0.05705784261226654, 0.049499474465847015, -0.13145673274993896, -0.0065709371119737625, -0.008591054007411003, 0.024528734385967255, -0.003700037021189928, 0.0210698451846838, -0.009691455401480198, -0.005797147285193205, 0.02899341844022274, -0.03815862536430359, -0.037079185247421265, -0.011831032112240791, 0.17824982106685638, 0.016184352338314056, 0.06257817149162292, 0.042873580008745193, -0.012071470730006695, -0.019799213856458664, -0.06673573702573776, 0.004769237712025642, 0.060526102781295776, -0.05765760317444801, -0.06175853684544563, -0.04707251116633415, 0.020254256203770638, -0.013413181528449059, 0.021848835051059723, 0.013060670346021652, -0.08385150134563446, 0.03968579322099686, -0.003811648115515709, 0.052086327224969864, -0.017146361991763115, 0.055915702134370804, 0.0478871613740921, -0.10053212940692902, -0.008136502467095852, 0.026746656745672226, -0.10293986648321152, -0.03803848847746849, -1.871538902419727e-33, 0.05419452115893364, -0.07562943547964096, -0.021800771355628967, 0.009868776425719261, 0.0826549381017685, 0.035745445638895035, -0.060388609766960144, 0.07997998595237732, -0.10446120798587799, -0.01923096738755703, -0.035725563764572144, 0.03728097304701805, -0.020195448771119118, 0.011355489492416382, -0.02125271037220955, -0.046026043593883514, 0.013530468568205833, -0.01892378181219101, -0.006582415662705898, -0.016737986356019974, -0.06832887977361679, 0.023776106536388397, -0.018477788195014, -0.017766054719686508, -0.02010667882859707, 0.012213715352118015, 0.07378533482551575, -0.059047866612672806, -0.04030676931142807, 0.03366241604089737, -0.07687099277973175, -0.0257814172655344, 0.005398358218371868, -0.036478061228990555, 0.0588226392865181, -0.010944552719593048, 0.0072089009918272495, 0.02771059237420559, 0.050959210842847824, -0.038550965487957, 0.08177683502435684, -0.06302694976329803, -0.047128528356552124, -0.020239943638443947, -0.031868211925029755, 0.07691772282123566, 0.11605534702539444, 0.024767018854618073, 0.043647002428770065, 0.005851783789694309, 0.06658393144607544, -0.044414300471544266, -0.052033212035894394, -0.006137240212410688, 0.01330162025988102, -0.029546165838837624, -0.03940362110733986, 0.002694403752684593, -0.008852542378008366, -0.08685421198606491, -0.0040553598664700985, -0.05135291814804077, -0.029903264716267586, -0.055131059139966965, -0.08350134640932083, 0.010911870747804642, -0.008231506682932377, -0.02894783765077591, 0.030320217832922935, 0.056734923273324966, -0.06583309918642044, 0.014302987605333328, 0.017070554196834564, 0.03028658963739872, -0.1279613971710205, -0.018653973937034607, -0.06241738796234131, 0.026473306119441986, -0.0088077113032341, 0.04894624277949333, -0.05257702246308327, -0.13761234283447266, 0.004592264536768198, -0.043085820972919464, 0.06589969992637634, -0.08404387533664703, -0.03670642524957657, -0.12897907197475433, 0.05780433863401413, 0.04395101219415665, -0.06420066952705383, -0.01961376518011093, 0.030643416568636894, -0.014595999382436275, 0.08755050599575043, 8.254185414939789e-34, 0.02037820965051651, 0.0017389338463544846, -0.044886812567710876, 0.05816765874624252, 0.029002485796809196, 0.03555368259549141, 0.06057416647672653, 0.05952402204275131, -0.008248863741755486, 0.08252173662185669, -0.009356890805065632, -0.022135760635137558, 0.09337834268808365, -0.0068801045417785645, 0.011988491751253605, 0.10261735320091248, 0.010618906468153, 0.05023258924484253, -0.059334252029657364, 0.045101363211870193, -0.0392000786960125, -0.03817611560225487, 0.08486754447221756, 0.06559309363365173, 0.030409902334213257, 0.11101628839969635, 0.10352636873722076, -0.024403763934969902, 0.010050750337541103, -0.02310766465961933, -0.011803817003965378, -0.06147469952702522, -0.024586711078882217, -0.0609462670981884, -0.02547987923026085, 0.06963511556386948, 0.1196945309638977, 0.061168983578681946, -0.016259191557765007, -0.055331040173769, 0.05749740079045296, 0.050147563219070435, -0.09134046733379364, 0.017898552119731903, 0.038765646517276764, 0.009209682233631611, -0.0017265285132452846, 0.013826657086610794, 0.06810654699802399, 0.08244922012090683, -0.08210757374763489, -0.036012306809425354, -0.05217078700661659, -0.051547758281230927, -0.03845193237066269, -0.026248330250382423, -0.015169200487434864, -0.010994277894496918, 0.09573516249656677, 0.028865456581115723, -0.028562353923916817, -0.002611215226352215, -0.018487269058823586, -0.050521206110715866, 0.02619241736829281, -0.012008484452962875, -0.0023105985019356012, 0.11725948005914688, -0.11729375272989273, 0.04755645617842674, -0.015555971302092075, 0.059349313378334045, -0.041223589330911636, -0.04470452293753624, 0.010184678249061108, -0.0011955586960539222, 0.05319337919354439, 0.04185454547405243, 0.002146252430975437, -0.03101962059736252, 0.05563904345035553, -0.0574367493391037, -0.04510968178510666, -0.0683644488453865, 0.06201230362057686, 0.0353136882185936, 0.010594927705824375, 0.038983240723609924, -0.0440698005259037, -0.035849783569574356, -0.021132666617631912, 0.03122670389711857, -0.05884141847491264, -0.015166262164711952, 0.02662627398967743, -1.588663955942593e-08, 0.044295672327280045, 0.004179113544523716, 0.022064395248889923, -0.015554379671812057, -0.0060770646668970585, -0.004772209096699953, 0.07071198523044586, -0.06655336171388626, -0.008544187992811203, -0.02462366595864296, 0.04707397148013115, -0.02318231202661991, 0.06770291924476624, 0.07732103765010834, 0.03533787280321121, 0.026320770382881165, -0.06358291208744049, 0.04837522655725479, 0.011853068135678768, -0.045078814029693604, -0.050610873848199844, -0.0027685475070029497, 0.10297728329896927, -0.054961830377578735, -0.07153429090976715, -0.023456405848264694, -0.12054596096277237, 0.04129005968570709, -0.018003560602664948, 0.01941039226949215, 0.01283981092274189, 0.12664064764976501, -0.046075813472270966, -0.07003399729728699, -0.08844023197889328, -0.008101613260805607, -0.0263175368309021, -0.03695076331496239, -0.014891350641846657, -0.045916326344013214, 0.0554034449160099, -0.03716810792684555, 0.09131813049316406, -0.07388543337583542, 0.05701255798339844, 0.06519610434770584, 0.041444480419158936, 0.0021440295968204737, -0.006409435532987118, 0.03862868249416351, 0.027198048308491707, -0.04034288227558136, 0.04783038794994354, 0.00879159476608038, 0.018769120797514915, 0.02707591839134693, -0.0018541057361289859, 0.03944876417517662, -0.04963389411568642, 0.04722566530108452, 0.018412604928016663, 0.09600792080163956, 0.027049779891967773, 0.010655310936272144]].\n",
            "It is a <class 'list'> of 1 <class 'list'>s, each composed of 384 <class 'float'>s.\n"
          ]
        }
      ],
      "source": [
        "# Test Embedding(s)\n",
        "\n",
        "test_texts = [\"embed this\"]\n",
        "test_embeddings = embed_model.embed_documents(test_texts)\n",
        "embedding_length = len(test_embeddings[0])\n",
        "print(f\"The test_embedding is: {test_embeddings}.\")\n",
        "print(f\"It is a {type(test_embeddings)} of {len(test_embeddings)} {type(test_embeddings[0])}s, each composed of {embedding_length} {type(test_embeddings[0][0])}s.\")"
      ]
    },
    {
      "cell_type": "markdown",
      "metadata": {
        "id": "E4SSLvJqqdhZ"
      },
      "source": [
        "### Step 2: Create a Vector Index to Store Embeddings\n",
        "\n",
        "This is where Pinecone comes in. It provides a service for storing and searching through the embeddings we generate for documents."
      ]
    },
    {
      "cell_type": "markdown",
      "metadata": {
        "id": "-toROEnzSg-o"
      },
      "source": [
        "First connect to Pinecone."
      ]
    },
    {
      "cell_type": "code",
      "execution_count": 5,
      "metadata": {
        "id": "lhXARZQXq6QD"
      },
      "outputs": [],
      "source": [
        "import pinecone\n",
        "\n",
        "pinecone.init(\n",
        "    api_key=PINECONE_API_KEY,\n",
        "    environment=PINECONE_ENV\n",
        ")"
      ]
    },
    {
      "cell_type": "markdown",
      "metadata": {
        "id": "MSoNo9uUrlK3"
      },
      "source": [
        "Then initialize the index."
      ]
    },
    {
      "cell_type": "code",
      "execution_count": 6,
      "metadata": {
        "id": "yjs-uPXBrnQs"
      },
      "outputs": [],
      "source": [
        "import time\n",
        "\n",
        "# name your index\n",
        "index_name = 'llama-2-rag-metabolomics'\n",
        "\n",
        "if index_name not in pinecone.list_indexes():\n",
        "    pinecone.create_index(\n",
        "        index_name,\n",
        "        dimension=embedding_length,\n",
        "        metric='cosine'\n",
        "    )\n",
        "    # wait for index to finish initialization\n",
        "    while not pinecone.describe_index(index_name).status['ready']:\n",
        "        time.sleep(1)"
      ]
    },
    {
      "cell_type": "markdown",
      "metadata": {
        "id": "5qq5BrajsdEv"
      },
      "source": [
        "And now connect to the index."
      ]
    },
    {
      "cell_type": "code",
      "execution_count": 7,
      "metadata": {
        "colab": {
          "base_uri": "https://localhost:8080/"
        },
        "id": "nrCwwVQVsfDC",
        "outputId": "4e7383d9-59d5-4442-f3e4-90de29eb813a"
      },
      "outputs": [
        {
          "data": {
            "text/plain": [
              "{'dimension': 384,\n",
              " 'index_fullness': 0.00073,\n",
              " 'namespaces': {'': {'vector_count': 73}},\n",
              " 'total_vector_count': 73}"
            ]
          },
          "execution_count": 7,
          "metadata": {},
          "output_type": "execute_result"
        }
      ],
      "source": [
        "index = pinecone.Index(index_name)\n",
        "index.describe_index_stats()"
      ]
    },
    {
      "cell_type": "markdown",
      "metadata": {
        "id": "5eztMG2tS-9w"
      },
      "source": [
        "### Step 3: Load Documents"
      ]
    },
    {
      "cell_type": "markdown",
      "metadata": {
        "id": "_b2iy_64walc"
      },
      "source": [
        "Load in a dataframe of documents with the following specifications:\n",
        "\n",
        "Rows:\n",
        "- one row per chunk of text from a document\n",
        "\n",
        "Columns:\n",
        "- id: int, ID of the document\n",
        "- chunk-id: int, ID of the chunk of the document\n",
        "- chunk: str, text of the chunk\n",
        "- title: str, title of the document\n",
        "- source: str, url to the document"
      ]
    },
    {
      "cell_type": "markdown",
      "metadata": {
        "id": "6Bf5dACkxPqQ"
      },
      "source": [
        "I made a simple dataframe with these specifications for one document in `homeostasis.ipynb` that we'll use here for illustration purposes. The text of the document can be found [here](https://www.metabolismjournal.com/article/S0026-0495(13)00020-6/fulltext)."
      ]
    },
    {
      "cell_type": "code",
      "execution_count": 1,
      "metadata": {
        "colab": {
          "base_uri": "https://localhost:8080/",
          "height": 221
        },
        "id": "vb_jO7f2xhXO",
        "outputId": "3aaf9ae9-8fd3-4c77-9922-895392cd9735"
      },
      "outputs": [
        {
          "name": "stdout",
          "output_type": "stream",
          "text": [
            "(73, 5)\n"
          ]
        },
        {
          "data": {
            "text/html": [
              "<div>\n",
              "<style scoped>\n",
              "    .dataframe tbody tr th:only-of-type {\n",
              "        vertical-align: middle;\n",
              "    }\n",
              "\n",
              "    .dataframe tbody tr th {\n",
              "        vertical-align: top;\n",
              "    }\n",
              "\n",
              "    .dataframe thead th {\n",
              "        text-align: right;\n",
              "    }\n",
              "</style>\n",
              "<table border=\"1\" class=\"dataframe\">\n",
              "  <thead>\n",
              "    <tr style=\"text-align: right;\">\n",
              "      <th></th>\n",
              "      <th>id</th>\n",
              "      <th>chunk_id</th>\n",
              "      <th>chunk</th>\n",
              "      <th>title</th>\n",
              "      <th>source</th>\n",
              "    </tr>\n",
              "  </thead>\n",
              "  <tbody>\n",
              "    <tr>\n",
              "      <th>0</th>\n",
              "      <td>1</td>\n",
              "      <td>0</td>\n",
              "      <td>Abstract</td>\n",
              "      <td>Neuroendocrine alterations in the exercising h...</td>\n",
              "      <td>https://www.metabolismjournal.com/article/S002...</td>\n",
              "    </tr>\n",
              "    <tr>\n",
              "      <th>1</th>\n",
              "      <td>1</td>\n",
              "      <td>1</td>\n",
              "      <td>Complex mechanisms exist in the human to defen...</td>\n",
              "      <td>Neuroendocrine alterations in the exercising h...</td>\n",
              "      <td>https://www.metabolismjournal.com/article/S002...</td>\n",
              "    </tr>\n",
              "    <tr>\n",
              "      <th>2</th>\n",
              "      <td>1</td>\n",
              "      <td>2</td>\n",
              "      <td>such as the kisspeptin-gonadotropin releasing ...</td>\n",
              "      <td>Neuroendocrine alterations in the exercising h...</td>\n",
              "      <td>https://www.metabolismjournal.com/article/S002...</td>\n",
              "    </tr>\n",
              "    <tr>\n",
              "      <th>3</th>\n",
              "      <td>1</td>\n",
              "      <td>3</td>\n",
              "      <td>Abbreviations:</td>\n",
              "      <td>Neuroendocrine alterations in the exercising h...</td>\n",
              "      <td>https://www.metabolismjournal.com/article/S002...</td>\n",
              "    </tr>\n",
              "    <tr>\n",
              "      <th>4</th>\n",
              "      <td>1</td>\n",
              "      <td>4</td>\n",
              "      <td>αMSH (α-melanocyte stimulating hormone), ACTH ...</td>\n",
              "      <td>Neuroendocrine alterations in the exercising h...</td>\n",
              "      <td>https://www.metabolismjournal.com/article/S002...</td>\n",
              "    </tr>\n",
              "  </tbody>\n",
              "</table>\n",
              "</div>"
            ],
            "text/plain": [
              "   id  chunk_id                                              chunk  \\\n",
              "0   1         0                                           Abstract   \n",
              "1   1         1  Complex mechanisms exist in the human to defen...   \n",
              "2   1         2  such as the kisspeptin-gonadotropin releasing ...   \n",
              "3   1         3                                     Abbreviations:   \n",
              "4   1         4  αMSH (α-melanocyte stimulating hormone), ACTH ...   \n",
              "\n",
              "                                               title  \\\n",
              "0  Neuroendocrine alterations in the exercising h...   \n",
              "1  Neuroendocrine alterations in the exercising h...   \n",
              "2  Neuroendocrine alterations in the exercising h...   \n",
              "3  Neuroendocrine alterations in the exercising h...   \n",
              "4  Neuroendocrine alterations in the exercising h...   \n",
              "\n",
              "                                              source  \n",
              "0  https://www.metabolismjournal.com/article/S002...  \n",
              "1  https://www.metabolismjournal.com/article/S002...  \n",
              "2  https://www.metabolismjournal.com/article/S002...  \n",
              "3  https://www.metabolismjournal.com/article/S002...  \n",
              "4  https://www.metabolismjournal.com/article/S002...  "
            ]
          },
          "execution_count": 1,
          "metadata": {},
          "output_type": "execute_result"
        }
      ],
      "source": [
        "import pandas as pd\n",
        "\n",
        "df = pd.read_csv(\"homeostasis.csv\", index_col=0)\n",
        "print(df.shape)\n",
        "df.head()"
      ]
    },
    {
      "cell_type": "markdown",
      "metadata": {
        "id": "-43pWP11zM2g"
      },
      "source": [
        "### Step 4: Generate and Store Embeddings"
      ]
    },
    {
      "cell_type": "markdown",
      "metadata": {
        "id": "1KGD2k0rFlkn"
      },
      "source": [
        "We will embed and index the documents like so:"
      ]
    },
    {
      "cell_type": "code",
      "execution_count": 17,
      "metadata": {
        "id": "rXSWtOiRFpw8"
      },
      "outputs": [],
      "source": [
        "batch_size = 32\n",
        "\n",
        "for i in range(0, len(df), batch_size):\n",
        "    i_end = min(len(df), i + batch_size)\n",
        "    batch = df.iloc[i:i_end]\n",
        "    ids = [f\"{x['id']}-{x['chunk_id']}\" for i, x in batch.iterrows()]\n",
        "    texts = [x['chunk'] for i, x in batch.iterrows()]\n",
        "    embeds = embed_model.embed_documents(texts)\n",
        "    # add metadata\n",
        "    metadata = [\n",
        "        {'text': x['chunk'],\n",
        "         'source': x['source'],\n",
        "         'title': x['title']} for i, x in batch.iterrows()\n",
        "    ]\n",
        "    # store in Pinecone\n",
        "    index.upsert(vectors=zip(ids, embeds, metadata))"
      ]
    },
    {
      "cell_type": "code",
      "execution_count": 18,
      "metadata": {
        "colab": {
          "base_uri": "https://localhost:8080/"
        },
        "id": "Z6BhTEMzHvt3",
        "outputId": "93c83f60-7a61-41e2-df3f-eba52f1ac7bb"
      },
      "outputs": [
        {
          "data": {
            "text/plain": [
              "{'dimension': 384,\n",
              " 'index_fullness': 0.00073,\n",
              " 'namespaces': {'': {'vector_count': 73}},\n",
              " 'total_vector_count': 73}"
            ]
          },
          "execution_count": 18,
          "metadata": {},
          "output_type": "execute_result"
        }
      ],
      "source": [
        "index.describe_index_stats()"
      ]
    },
    {
      "cell_type": "markdown",
      "metadata": {
        "id": "VHQwEeW9Zps2"
      },
      "source": [
        "## Initializing the Hugging Face Pipeline"
      ]
    },
    {
      "cell_type": "markdown",
      "metadata": {
        "id": "mElf068NXout"
      },
      "source": [
        "The first thing we need to do is initialize a `text-generation` pipeline with Hugging Face transformers. The following cells go through this process step-by-step."
      ]
    },
    {
      "cell_type": "markdown",
      "metadata": {
        "id": "1WDqBWHC5ofX"
      },
      "source": [
        "### Step 1: Initialize LLM\n",
        "\n",
        "Store the model on a CUDA-enabled GPU (using Colab if not locally). This may take a few minutes depending on the size of the model."
      ]
    },
    {
      "cell_type": "code",
      "execution_count": 8,
      "metadata": {
        "colab": {
          "base_uri": "https://localhost:8080/",
          "height": 248,
          "referenced_widgets": [
            "c8b5c0629f5a47aabbe866cafc96905e",
            "92d0893bfce24e9abda13480d938673c",
            "871a433344394afaab2c91cb46b57dff",
            "3e204598b1d74222a05627f6d8573cdf",
            "183c16ce00504e3f822d65c91dd2b5b7",
            "eebd369e36a74c9fb8b32a5d76063677",
            "e31b832cc91e4f0c9b253f32fdee116d",
            "fd62b3c66bd94bca9f5bd43e7eb54ef6",
            "ec95a73f404b482493cb321baa92a772",
            "d43b7e84d9ea4873800cf10b19975c84",
            "523276fe9ea943b9a302598c884a3b9f",
            "c0f37b83dd3748818d8178cf926a4852",
            "a5782cce6ad249648ae3fe34f1ce7e58",
            "9b3b2b176520487da4450ef368c7de83",
            "b547127bc6e64a6fa956d9e43100522c",
            "4d415084f0374b849613e674365a6715",
            "20efe88ca043459c88f245646aefe00a",
            "c3a6ec39b2b042c9bdb03bde73437811",
            "ba5b2ad975cb41408ff30074c307b6a8",
            "62c74e76bba64d7896f6cd85c1cb7222",
            "ace4b449ff87485c87ee164bda10a0dd",
            "74ce0ccca7b64db28a3a5ed592f19386",
            "6916f3d4c46b4846af31145482954851",
            "3c0526a04c07498683de2b6961ae0953",
            "2333af4e4f504efebf30c5e8c4ddce44",
            "5f9d1418e5894ccd9a9eed706588e501",
            "c62afed1821e47d582b7c89e43ba86e4",
            "daaec8c24cb146439b9e7e784bdfd619",
            "3a09aa06f57c45a9bf604dc0a8943d4e",
            "747709af2355456dabc5b18f6dca4a32",
            "ddb1c8d763174ac489c39cd1a3518e7f",
            "f30e42a21c554b2ebdf0567dddbe7f35",
            "73eefe0244bb49e7be7608cde3d0505e",
            "3ff6cef73c694c2586896958deb21e33",
            "875c241414234c5197de7ac24bafaed1",
            "e1e67803799c4dbeb23bb76318b70a27",
            "512eb1a8e953414bb66b63f90fb3b42a",
            "8e8e89ecfd284b18b5e4033360d7b0db",
            "bb723e3d908b4f6cadafd0714a401924",
            "115c079413ad45fca88fc502f7bc718b",
            "dd43de4555d2450b8c80e9663de4f87f",
            "f8dd19c62c844e24b8d8c216e3b1aca5",
            "b3d11d37553c495eb137b35af057993c",
            "2b6b96a805c54be289b98ad7b82f30b1",
            "8ddeccddc79a466f882969d523c18102",
            "6f239958bba54fb7aa765eab90700bda",
            "8362a13564db4a95b8356570f53aa6b3",
            "c69fd843f6494f2f9c94f31f7f513f60",
            "d4b9f8c2b7d846488d7bce50c7063846",
            "1383e6a111fd479c87c8a0a03e3fabd9",
            "7e8df1618284462e94dfbd0299f70a83",
            "e4e83a1c94a04fbaa071614a4a8ce36d",
            "401aa4936bf246aa97ce411a113b70ea",
            "dbeeaefe9bcb45d2aa5251771dfe69cf",
            "e63f878fcd04434989cf4c4284c4e809"
          ]
        },
        "id": "ikzdi_uMI7B-",
        "outputId": "2690324b-f350-4d9e-b3bc-05764007d752"
      },
      "outputs": [
        {
          "name": "stderr",
          "output_type": "stream",
          "text": [
            "/usr/local/lib/python3.10/dist-packages/transformers/modeling_utils.py:2193: FutureWarning: The `use_auth_token` argument is deprecated and will be removed in v5 of Transformers.\n",
            "  warnings.warn(\n"
          ]
        },
        {
          "data": {
            "application/vnd.jupyter.widget-view+json": {
              "model_id": "c8b5c0629f5a47aabbe866cafc96905e",
              "version_major": 2,
              "version_minor": 0
            },
            "text/plain": [
              "Downloading shards:   0%|          | 0/3 [00:00<?, ?it/s]"
            ]
          },
          "metadata": {},
          "output_type": "display_data"
        },
        {
          "data": {
            "application/vnd.jupyter.widget-view+json": {
              "model_id": "c0f37b83dd3748818d8178cf926a4852",
              "version_major": 2,
              "version_minor": 0
            },
            "text/plain": [
              "Downloading (…)of-00003.safetensors:   0%|          | 0.00/9.90G [00:00<?, ?B/s]"
            ]
          },
          "metadata": {},
          "output_type": "display_data"
        },
        {
          "data": {
            "application/vnd.jupyter.widget-view+json": {
              "model_id": "6916f3d4c46b4846af31145482954851",
              "version_major": 2,
              "version_minor": 0
            },
            "text/plain": [
              "Downloading (…)of-00003.safetensors:   0%|          | 0.00/6.18G [00:00<?, ?B/s]"
            ]
          },
          "metadata": {},
          "output_type": "display_data"
        },
        {
          "data": {
            "application/vnd.jupyter.widget-view+json": {
              "model_id": "3ff6cef73c694c2586896958deb21e33",
              "version_major": 2,
              "version_minor": 0
            },
            "text/plain": [
              "Loading checkpoint shards:   0%|          | 0/3 [00:00<?, ?it/s]"
            ]
          },
          "metadata": {},
          "output_type": "display_data"
        },
        {
          "data": {
            "application/vnd.jupyter.widget-view+json": {
              "model_id": "8ddeccddc79a466f882969d523c18102",
              "version_major": 2,
              "version_minor": 0
            },
            "text/plain": [
              "Downloading (…)neration_config.json:   0%|          | 0.00/188 [00:00<?, ?B/s]"
            ]
          },
          "metadata": {},
          "output_type": "display_data"
        },
        {
          "name": "stdout",
          "output_type": "stream",
          "text": [
            "Model loaded on cuda:0\n"
          ]
        }
      ],
      "source": [
        "from torch import cuda, bfloat16\n",
        "import transformers\n",
        "\n",
        "model_id = 'meta-llama/Llama-2-13b-chat-hf'\n",
        "\n",
        "device = f'cuda:{cuda.current_device()}' if cuda.is_available() else 'cpu'\n",
        "\n",
        "# set quantization configuration to load large model with less GPU memory\n",
        "bnb_config = transformers.BitsAndBytesConfig(\n",
        "    load_in_4bit=True,\n",
        "    bnb_4bit_quant_type='nf4',\n",
        "    bnb_4bit_use_double_quant=True,\n",
        "    bnb_4bit_compute_dtype=bfloat16\n",
        ")\n",
        "\n",
        "# begin initializing HF items\n",
        "hf_auth = HF_AUTH_TOKEN\n",
        "model_config = transformers.AutoConfig.from_pretrained(\n",
        "    model_id,\n",
        "    use_auth_token=hf_auth\n",
        ")\n",
        "\n",
        "model = transformers.AutoModelForCausalLM.from_pretrained(\n",
        "    model_id,\n",
        "    trust_remote_code=True,\n",
        "    config=model_config,\n",
        "    quantization_config=bnb_config,\n",
        "    device_map='auto',\n",
        "    use_auth_token=hf_auth\n",
        ")\n",
        "model.eval()\n",
        "print(f\"Model loaded on {device}\")"
      ]
    },
    {
      "cell_type": "markdown",
      "metadata": {
        "id": "wq1wCY3o6AXn"
      },
      "source": [
        "### Step 2: Initialize Model Tokenizer"
      ]
    },
    {
      "cell_type": "markdown",
      "metadata": {
        "id": "JzX9LqWSX9ot"
      },
      "source": [
        "The pipeline requires a tokenizer which handles the translation of human readable text to LLM readable token IDs."
      ]
    },
    {
      "cell_type": "code",
      "execution_count": 9,
      "metadata": {
        "colab": {
          "base_uri": "https://localhost:8080/",
          "height": 199,
          "referenced_widgets": [
            "fae4ffbb2732463080a5606e36175ef5",
            "cddb0856b10f4bc096f040cbbc1efb0e",
            "bb6fbb35d9364a509149112d14c1aa60",
            "3b63ecb60c384efda0508985c4811a1c",
            "9a56649d7ff945a78f21c909dc9b00b3",
            "1997906c24d6466c88a1435717abe592",
            "e949f47b2b0a4f2f9123b5338df6da01",
            "9e0e23fa342743f5befd2488d8c1eefd",
            "474c6842281447789c5aaceac8429284",
            "55ccefecb15f43929b2306405db6954b",
            "baca521808a64889b1d443f18e4a54a5",
            "2501615b5e9a49ec8908d4738cbaabf0",
            "cc37abad2aa3413ba051ddd7bf75055b",
            "67261a48bf1d43cda92ef89b5c512db9",
            "a04f067c0e704a53a2a4bbc1de68a4a7",
            "b9747ad807994c35854afa446a1b4361",
            "4998bd6b46bb4a8294f40ed7fc171b9f",
            "c581b90f2ed047afb76e6ba5bd9c27f7",
            "5ceb62be34ae4a4ab4724c5dc726585f",
            "61f9e8e86263409eae541373955cc46e",
            "24d4a7bed5204e6aa4d605dd252f74a3",
            "33e569e15d6248989656c1a1ce6cebeb",
            "94e2511ac7434ac1980291d66a7d2b65",
            "c5745e2c54204010bbf6aaec146e99a2",
            "9a945ef3bbd74de8903d28eebe76af49",
            "22c5953c9338449c8777b05a9cfdff4a",
            "4d85422bdceb42388ac1edf94624019c",
            "59abf730af064f7f90843988276668b5",
            "b6b15cc3d48e48c98eeaa83344eeef1a",
            "76241c8a90444857beed0303af99c494",
            "89fecc56898244418cfbe4509d62a738",
            "fcaf5b3fa98d4241a75cc1dcff9bb56e",
            "ec32f2252aee4385b0a3be4874757f56",
            "a5c03bbcb0ff42c69096df07da5130b7",
            "922842d3e1994c8bae0cced20577469e",
            "38dea41a10fe4c4287aec674765609a0",
            "c6dd6c4192454d1c915d0f115859f50d",
            "248ec19f070341089b82199c60865015",
            "e13207c45f4c47cca809888e18f9dd4d",
            "3cbd615feff04153b4e74cf5f5ed7ac7",
            "ea43fed4314a43699aa34b47e1806c1d",
            "2ee279ff4cac47d89bd2b81ec4253bab",
            "6181ee50b0884aeebb033ba347ab793b",
            "09cb459b7aa4422f9c6cbac75a5ed067"
          ]
        },
        "id": "v0iPv1GDGxgT",
        "outputId": "3d333840-50fb-4727-98c2-e1b977682343"
      },
      "outputs": [
        {
          "data": {
            "application/vnd.jupyter.widget-view+json": {
              "model_id": "fae4ffbb2732463080a5606e36175ef5",
              "version_major": 2,
              "version_minor": 0
            },
            "text/plain": [
              "Downloading (…)okenizer_config.json:   0%|          | 0.00/1.62k [00:00<?, ?B/s]"
            ]
          },
          "metadata": {},
          "output_type": "display_data"
        },
        {
          "name": "stderr",
          "output_type": "stream",
          "text": [
            "/usr/local/lib/python3.10/dist-packages/transformers/tokenization_utils_base.py:1714: FutureWarning: The `use_auth_token` argument is deprecated and will be removed in v5 of Transformers.\n",
            "  warnings.warn(\n"
          ]
        },
        {
          "data": {
            "application/vnd.jupyter.widget-view+json": {
              "model_id": "2501615b5e9a49ec8908d4738cbaabf0",
              "version_major": 2,
              "version_minor": 0
            },
            "text/plain": [
              "Downloading tokenizer.model:   0%|          | 0.00/500k [00:00<?, ?B/s]"
            ]
          },
          "metadata": {},
          "output_type": "display_data"
        },
        {
          "data": {
            "application/vnd.jupyter.widget-view+json": {
              "model_id": "94e2511ac7434ac1980291d66a7d2b65",
              "version_major": 2,
              "version_minor": 0
            },
            "text/plain": [
              "Downloading (…)/main/tokenizer.json:   0%|          | 0.00/1.84M [00:00<?, ?B/s]"
            ]
          },
          "metadata": {},
          "output_type": "display_data"
        },
        {
          "data": {
            "application/vnd.jupyter.widget-view+json": {
              "model_id": "a5c03bbcb0ff42c69096df07da5130b7",
              "version_major": 2,
              "version_minor": 0
            },
            "text/plain": [
              "Downloading (…)cial_tokens_map.json:   0%|          | 0.00/414 [00:00<?, ?B/s]"
            ]
          },
          "metadata": {},
          "output_type": "display_data"
        }
      ],
      "source": [
        "tokenizer = transformers.AutoTokenizer.from_pretrained(\n",
        "    model_id,\n",
        "    use_auth_token=hf_auth\n",
        ")"
      ]
    },
    {
      "cell_type": "markdown",
      "metadata": {
        "id": "Gr98cNh9AMsA"
      },
      "source": [
        "### Step 3: Initialize Pipeline"
      ]
    },
    {
      "cell_type": "code",
      "execution_count": 10,
      "metadata": {
        "id": "qAYXi8ayKusU"
      },
      "outputs": [],
      "source": [
        "generate_text = transformers.pipeline(\n",
        "    model=model,\n",
        "    tokenizer=tokenizer,\n",
        "    return_full_text=True,    # langchain expects the full text\n",
        "    task='text-generation',\n",
        "    # model parameters\n",
        "    temperature=0.0,          \n",
        "    max_new_tokens=512,\n",
        "    repetition_penalty=1.1\n",
        ")"
      ]
    },
    {
      "cell_type": "markdown",
      "metadata": {
        "id": "0N3W3cj3Re1K"
      },
      "source": [
        "### Step 4: Implement in LangChain\n",
        "\n",
        "LangChain makes it easy to facilitate RAG."
      ]
    },
    {
      "cell_type": "code",
      "execution_count": 19,
      "metadata": {
        "id": "-8RxQYwHRg0N"
      },
      "outputs": [],
      "source": [
        "from langchain.llms import HuggingFacePipeline\n",
        "\n",
        "llm = HuggingFacePipeline(pipeline=generate_text)"
      ]
    },
    {
      "cell_type": "markdown",
      "metadata": {
        "id": "hVu2KHaMLM2M"
      },
      "source": [
        "## Initializing a RetrievalQA Chain"
      ]
    },
    {
      "cell_type": "markdown",
      "metadata": {
        "id": "0l9UNP7LLSXt"
      },
      "source": [
        "To run RAG in LangChain we need either a `RetrievalQA` or `RetrievalQAWithSourcesChain` object. For both of these we need an `llm` (which we initialized above) and a Pinecone index initialized within a LangChain vector store object. The following cells go through this process step-by-step."
      ]
    },
    {
      "cell_type": "markdown",
      "metadata": {
        "id": "ZUuZQlJoDhc6"
      },
      "source": [
        "### Step 1: Initialize LangChain Vector Store"
      ]
    },
    {
      "cell_type": "code",
      "execution_count": 21,
      "metadata": {
        "id": "oIbTrJDmpddS"
      },
      "outputs": [],
      "source": [
        "from langchain.vectorstores import Pinecone\n",
        "\n",
        "text_field = 'text'    # field in metadata that contains text content\n",
        "\n",
        "vectorstore = Pinecone(\n",
        "    index,\n",
        "    embed_model.embed_query,\n",
        "    text_field\n",
        ")"
      ]
    },
    {
      "cell_type": "markdown",
      "metadata": {
        "id": "-0dxBmDYpyj3"
      },
      "source": [
        "We can confirm it works by checking which documents it outputs (i.e., finds most similar) for a sample search query (i.e., prompt)."
      ]
    },
    {
      "cell_type": "code",
      "execution_count": 33,
      "metadata": {
        "colab": {
          "base_uri": "https://localhost:8080/"
        },
        "id": "1WhVonePp0hY",
        "outputId": "11144468-badb-4883-e631-0cf64bf8791e"
      },
      "outputs": [
        {
          "name": "stdout",
          "output_type": "stream",
          "text": [
            "Cortisol has wide-ranging effects, including alterations of carbohydrate, protein, and lipid metabolism; catabolic effects on skin, muscle, connective tissue, and bone; immunomodulatory effects; blood pressure and circulatory system regulation; and effects on mood and central nervous system function. In the short term, activation of the HPA axis in response to stress is adaptive. However, long-term stress promoting chronic exposure of tissues to high cortisol concentrations becomes maladaptive.\n",
            "Exercise, particularly sustained aerobic activity, is a potent stimulus of cortisol secretion. The circulating concentrations of cortisol are directly proportional to the intensity of exercise as measured by oxygen uptake. As is the case for the GH/IGF-1 and HPG axes, the HPA axis also receives many other inputs, including the light/dark cycle, feeding schedules, immune regulation, and many neurotransmitters that mediate the effects of exercise and physical and psychic stress [[52]].\n",
            "\n",
            "For the present purposes one may define stress as ”a condition where expectations, whether genetically programmed, established by prior learning, or deduced from circumstances, do not match the current or anticipated perceptions of the internal or external environment, and this discrepancy between what is observed or sensed and what is expected or programmed elicits patterned, compensatory responses” [[53]].\n",
            "The HPA is activated by stress, whether physical (exercise) or psychological. Increased cortisol production, along with activation of the sympathetic nervous system, affects whole body metabolism. This is apparently part of the catabolic response of the entire organism, with the purpose of mobilizing metabolic fuels that are subsequently broken down to produce energy and to dampen the threat or perceived threat.\n",
            "\n",
            "release. This release was apparent if they subtracted the physiologic circadian baseline from the post-exercise value. However, if they just subtracted the pre-test baseline cortisol value from the post-exercise value, they were unable to show an effect of exercise energy expenditure on cortisol production – an error of more than 90% in the morning and almost 40 % in the evening. A similar finding was noted using the circulating free cortisol level, the metabolically active form of the hormone. The responses were indistinguishable whether obtained in the morning (high basal cortisol) or in the evening (low basal cortisol). These findings may explain conflicting observations in the literature, especially those that ignored the physiological diurnal rhythm of the HPA axis.\n",
            "\n"
          ]
        }
      ],
      "source": [
        "query = 'what is cortisol?'\n",
        "\n",
        "outputs = vectorstore.similarity_search(\n",
        "    query,\n",
        "    k=3    # returns top k most relevant chunks of text\n",
        ")\n",
        "\n",
        "for doc in outputs:\n",
        "  print(doc.page_content)\n",
        "  print()"
      ]
    },
    {
      "cell_type": "markdown",
      "metadata": {
        "id": "cC1QP3YrDxe9"
      },
      "source": [
        "### Step 2: Create RAG Pipeline\n",
        "\n",
        "This is done by combining the `vectorstore` and `llm`."
      ]
    },
    {
      "cell_type": "code",
      "execution_count": 40,
      "metadata": {
        "id": "llyEC13RqF9B"
      },
      "outputs": [],
      "source": [
        "from langchain.chains import RetrievalQA\n",
        "\n",
        "rag_pipeline = RetrievalQA.from_chain_type(\n",
        "    llm=llm,\n",
        "    chain_type='stuff',\n",
        "    retriever=vectorstore.as_retriever(),\n",
        "    return_source_documents=True\n",
        ")"
      ]
    },
    {
      "cell_type": "markdown",
      "metadata": {
        "id": "jdoh-u57XKcw"
      },
      "source": [
        "As currently specified, the `rag_pipeline` is prompted to answer questions as follows:\n",
        "\n",
        "> Use the following pieces of context to answer the question at the end. If you don't know the answer, just say that you don't know, don't try to make up an answer. {context} {question}"
      ]
    },
    {
      "cell_type": "markdown",
      "metadata": {
        "id": "FHH2do4UFYXN"
      },
      "source": [
        "## Evaluate\n",
        "\n",
        "Now we have everything we need to evaluate the results!\n",
        "- `llm` calls the underlying model without RAG.\n",
        "- `rag_pipeline` produces results with RAG."
      ]
    },
    {
      "cell_type": "code",
      "execution_count": 52,
      "metadata": {
        "id": "p-Sv4bvxOZ29"
      },
      "outputs": [],
      "source": [
        "def get_llm_response(question, llm=llm):\n",
        "    response = llm(question)\n",
        "    print(response)\n",
        "\n",
        "def get_rag_response(question, rag=rag_pipeline, show_sources=True):\n",
        "    rag = rag_pipeline(question)\n",
        "\n",
        "    rag_answer = rag['result']\n",
        "    print(rag_answer)\n",
        "\n",
        "    if show_sources:\n",
        "        print()\n",
        "        print('Sources:')\n",
        "        sources = rag['source_documents']\n",
        "        for source in sources:\n",
        "            print()\n",
        "            print(f\"Title: {source.metadata['title']}\")\n",
        "            print(f\"URL: {source.metadata['source']}\")\n",
        "            print(f\"Text: {source.page_content}\")"
      ]
    },
    {
      "cell_type": "markdown",
      "metadata": {
        "id": "OmxiqfGgNrvZ"
      },
      "source": [
        "### Question 1"
      ]
    },
    {
      "cell_type": "markdown",
      "metadata": {
        "id": "RJjZxQcvGAd4"
      },
      "source": [
        "In the review title [\"A pilot study comparing the metabolic profiles of elite-level athletes from different sporting disciplines\"](https://pubmed.ncbi.nlm.nih.gov/29305667/), it cites the document that was embedded when it states that \"elevated cortisol-related metabolites in response to sustained aerobic exercise were shown to correlate positively with intensity of exercise as measured by oxygen uptake\".\n",
        "\n",
        "Let's see how each model performs on a question about this fact.\n",
        "\n",
        "The answer I'm looking for is something along the lines of \"Oxygen uptake correlates positively with cortisol metabolites.\""
      ]
    },
    {
      "cell_type": "code",
      "execution_count": 53,
      "metadata": {
        "id": "x5NtJqBIGRBX"
      },
      "outputs": [],
      "source": [
        "question_1 = \"What is the correlation between oxygen uptake and cortisol metabolites? Please cite sources.\""
      ]
    },
    {
      "cell_type": "code",
      "execution_count": 54,
      "metadata": {
        "colab": {
          "base_uri": "https://localhost:8080/"
        },
        "id": "PnBrHM1PT7af",
        "outputId": "b0d2c8b9-9a86-4851-b783-73b1e5e9b44a"
      },
      "outputs": [
        {
          "name": "stderr",
          "output_type": "stream",
          "text": [
            "/usr/local/lib/python3.10/dist-packages/transformers/pipelines/base.py:1083: UserWarning: You seem to be using the pipelines sequentially on GPU. In order to maximize efficiency please use a dataset\n",
            "  warnings.warn(\n"
          ]
        },
        {
          "name": "stdout",
          "output_type": "stream",
          "text": [
            "\n",
            "\n",
            "Answer: There is some evidence to suggest that there may be a correlation between oxygen uptake and cortisol metabolites, although the exact nature of this relationship is not fully understood.\n",
            "\n",
            "One study published in the Journal of Clinical Endocrinology and Metabolism found that cortisol metabolism was significantly higher in individuals who engaged in high-intensity exercise compared to those who engaged in low-intensity exercise (1). This suggests that oxygen uptake may play a role in regulating cortisol metabolism, as high-intensity exercise requires greater oxygen consumption.\n",
            "\n",
            "Another study published in the European Journal of Applied Physiology found that cortisol levels were higher in individuals who performed aerobic exercise at a moderate intensity compared to those who performed aerobic exercise at a low intensity (2). This suggests that oxygen uptake may also be related to cortisol levels, as moderate-intensity exercise requires a greater amount of oxygen than low-intensity exercise.\n",
            "\n",
            "It's worth noting that these studies only looked at the relationship between oxygen uptake and cortisol metabolites/levels during exercise, and more research is needed to fully understand the relationship between these two variables under different conditions. Additionally, it's important to note that cortisol metabolism and levels can be influenced by many factors beyond just oxygen uptake, such as stress, sleep, and nutrition.\n",
            "\n",
            "References:\n",
            "\n",
            "1. \"Effects of Intensive Exercise on Cortisol Metabolism in Humans\" (Journal of Clinical Endocrinology and Metabolism, 2013)\n",
            "2. \"The Effects of Aerobic Exercise Intensity on Cortisol Levels and Metabolism in Healthy Adults\" (European Journal of Applied Physiology, 2017)\n"
          ]
        }
      ],
      "source": [
        "get_llm_response(question_1)"
      ]
    },
    {
      "cell_type": "code",
      "execution_count": 55,
      "metadata": {
        "colab": {
          "base_uri": "https://localhost:8080/"
        },
        "id": "BEndJT3_KYUi",
        "outputId": "dff08473-56e0-4065-b4e9-fb4aacd91968"
      },
      "outputs": [
        {
          "name": "stdout",
          "output_type": "stream",
          "text": [
            " Cortisol metabolites have a direct correlation with oxygen uptake during exercise. Studies have shown that the higher the intensity of exercise, the greater the amount of oxygen consumed and the higher the cortisol metabolites will be. For example, one study found that subjects who performed high-intensity exercise had significantly higher cortisol metabolites than those who performed low-intensity exercise. [52] Another study found that the relationship between oxygen uptake and cortisol metabolites was directly proportional, meaning that as oxygen uptake increased, cortisol metabolites also increased. [60]\n",
            "\n",
            "Please note that the information provided is based on the given text and may not be entirely accurate or comprehensive.\n",
            "\n",
            "Sources:\n",
            "\n",
            "Title: Neuroendocrine alterations in the exercising human: Implications for energy homeostasis\n",
            "URL: https://www.metabolismjournal.com/article/S0026-0495(13)00020-6/fulltext\n",
            "Text: Cortisol has wide-ranging effects, including alterations of carbohydrate, protein, and lipid metabolism; catabolic effects on skin, muscle, connective tissue, and bone; immunomodulatory effects; blood pressure and circulatory system regulation; and effects on mood and central nervous system function. In the short term, activation of the HPA axis in response to stress is adaptive. However, long-term stress promoting chronic exposure of tissues to high cortisol concentrations becomes maladaptive.\n",
            "Exercise, particularly sustained aerobic activity, is a potent stimulus of cortisol secretion. The circulating concentrations of cortisol are directly proportional to the intensity of exercise as measured by oxygen uptake. As is the case for the GH/IGF-1 and HPG axes, the HPA axis also receives many other inputs, including the light/dark cycle, feeding schedules, immune regulation, and many neurotransmitters that mediate the effects of exercise and physical and psychic stress [[52]].\n",
            "\n",
            "Title: Neuroendocrine alterations in the exercising human: Implications for energy homeostasis\n",
            "URL: https://www.metabolismjournal.com/article/S0026-0495(13)00020-6/fulltext\n",
            "Text: Thus, a negative net energy balance leads to activation of the HPA axis and the circulating concomitants of the catabolic state in an attempt to keep core processes functional, realizing that the stress of exercise has no effect on cortisol and circulating metabolic substrates beyond the impact of the exercise energy expenditure on energy availability [[60]]. Thuma et al. [[61]] had already made the important observation that the reported differences in cortisol levels pre- and post-exercise depended on whether this difference was measured from a single pre-test level or from the physiologic circadian baseline as determined in an independent session in the resting state. By this analytical technique, these investigators showed that increasing energy expenditure led to significant cortisol release. This release was apparent if they subtracted the physiologic circadian baseline from the post-exercise value. However, if they just subtracted the pre-test baseline cortisol value from the\n",
            "\n",
            "Title: Neuroendocrine alterations in the exercising human: Implications for energy homeostasis\n",
            "URL: https://www.metabolismjournal.com/article/S0026-0495(13)00020-6/fulltext\n",
            "Text: and as is usual, the amplitude increased. Concomitant metabolic indices also followed the pattern of increasing derangement, including a graded decrease in the serum IGF-I concentration as GH levels increased, indicative of GH resistance and an increase in β-hydroxybutyrate and decrease in glucose levels as the body switched from predominantly carbohydrate metabolism to ketogenesis. In a similar manner there were graded increases in cortisol levels but decreased levels of insulin.\n",
            "\n",
            "Title: Neuroendocrine alterations in the exercising human: Implications for energy homeostasis\n",
            "URL: https://www.metabolismjournal.com/article/S0026-0495(13)00020-6/fulltext\n",
            "Text: release. This release was apparent if they subtracted the physiologic circadian baseline from the post-exercise value. However, if they just subtracted the pre-test baseline cortisol value from the post-exercise value, they were unable to show an effect of exercise energy expenditure on cortisol production – an error of more than 90% in the morning and almost 40 % in the evening. A similar finding was noted using the circulating free cortisol level, the metabolically active form of the hormone. The responses were indistinguishable whether obtained in the morning (high basal cortisol) or in the evening (low basal cortisol). These findings may explain conflicting observations in the literature, especially those that ignored the physiological diurnal rhythm of the HPA axis.\n"
          ]
        }
      ],
      "source": [
        "get_rag_response(question_1)"
      ]
    },
    {
      "cell_type": "markdown",
      "metadata": {
        "id": "Vh_T5KtCQ_iB"
      },
      "source": [
        "#### Analysis\n",
        "\n",
        "LLaMa by itself does a fair job at suggesting that there is a positive correlation, but it doesn't say so confidently. It is able to provide sources, but LLMs are known to hallucinate sources, so I wouldn't expect this feature to be robust.\n",
        "\n",
        "RAG give a clear and succinct answer with direct excerpts of the content it used to answer the question."
      ]
    },
    {
      "cell_type": "markdown",
      "metadata": {
        "id": "YcRaX-kfNvPO"
      },
      "source": [
        "### Question 2"
      ]
    },
    {
      "cell_type": "markdown",
      "metadata": {
        "id": "R-zYigjFNxxR"
      },
      "source": [
        "The abstract of the embedded document discusess mechanisms that exist in the human to defend against adverse effects of negative energy balance.\n",
        "\n",
        "Let's see how much each model knows about these mechanisms.\n",
        "\n",
        "The answer I'm looking for is something along the lines of \"alterations of hormone secretion affecting the growth hormone/insulin-like growth factor system, the adrenal axis, and the reproductive system, particularly in females\"."
      ]
    },
    {
      "cell_type": "code",
      "execution_count": 56,
      "metadata": {
        "id": "O7zqATQVOALJ"
      },
      "outputs": [],
      "source": [
        "question_2 = \"What mechanisms do humans have to defend against adverse effects of negative energy balance? Please cite sources.\""
      ]
    },
    {
      "cell_type": "code",
      "execution_count": 57,
      "metadata": {
        "colab": {
          "base_uri": "https://localhost:8080/"
        },
        "id": "w6M6zXOaPFGG",
        "outputId": "f8c03205-607e-4c53-c0a7-6209bfe9cbcf"
      },
      "outputs": [
        {
          "name": "stderr",
          "output_type": "stream",
          "text": [
            "/usr/local/lib/python3.10/dist-packages/transformers/pipelines/base.py:1083: UserWarning: You seem to be using the pipelines sequentially on GPU. In order to maximize efficiency please use a dataset\n",
            "  warnings.warn(\n"
          ]
        },
        {
          "name": "stdout",
          "output_type": "stream",
          "text": [
            "\n",
            "\n",
            "I'm looking for information on the physiological and psychological mechanisms that humans use to defend against the adverse effects of negative energy balance, such as weight loss, fatigue, and mood disturbances. I would also like to know about any potential long-term consequences of chronic negative energy balance and how these can be mitigated.\n",
            "\n",
            "Here are some specific questions I have:\n",
            "\n",
            "1. What are the primary physiological mechanisms that humans use to defend against negative energy balance? For example, does the body increase hunger or decrease metabolism to conserve energy?\n",
            "2. How do psychological factors such as stress, emotional state, and social support impact the body's response to negative energy balance?\n",
            "3. Are there any long-term consequences of chronic negative energy balance that can have a significant impact on health and well-being? If so, what are they and how can they be mitigated?\n",
            "4. Are there any specific nutrients or dietary components that can help protect against the adverse effects of negative energy balance?\n",
            "5. Can you provide any examples of studies or research that have investigated the mechanisms of defense against negative energy balance in humans?\n",
            "\n",
            "I am looking for reliable and evidence-based information to help me better understand this topic and make informed decisions about my own health and well-being. Thank you for your time and expertise!\n"
          ]
        }
      ],
      "source": [
        "get_llm_response(question_2)"
      ]
    },
    {
      "cell_type": "code",
      "execution_count": 58,
      "metadata": {
        "colab": {
          "base_uri": "https://localhost:8080/"
        },
        "id": "Kx9tUFCzPInG",
        "outputId": "469ccc83-f016-4042-ba43-d2228360bc45"
      },
      "outputs": [
        {
          "name": "stdout",
          "output_type": "stream",
          "text": [
            " The hypothalamus plays a key role in regulating energy homeostasis and can activate various physiological responses to counteract the adverse effects of negative energy balance. For example, leptin, ghrelin, NPY, PYY, and melanocortin 4 receptor (MC4R) all play important roles in regulating energy balance and metabolism. Additionally, the hypothalamus can activate the sympathetic nervous system to increase glucose release from storage sites such as liver and fat tissue.\n",
            "\n",
            "Sources:\n",
            "\n",
            "* Leptin: Le Roux et al. (2016). Leptin and the regulation of energy balance. Journal of Endocrinology, 233(1), R1-R8.\n",
            "* Ghrelin: Kojima et al. (2009). Ghrelin, an appetite-related hormone, is secreted by the stomach and small intestine. Journal of Clinical Endocrinology and Metabolism, 94(12), 4713-4718.\n",
            "* NPY: Hahn et al. (2017). Neuropeptide Y (NPY) and its role in energy balance and metabolism. Peptides, 93, 14-23.\n",
            "* PYY: Burton et al. (2017). PYY and its role in appetite regulation and weight management. International Journal of Obesity, 41(5), 805-813.\n",
            "* Melanocortin 4 receptor (MC4R): Zhang et al. (2018). The melanocortin 4 receptor (MC4R) and its role in energy balance and metabolism. Molecular Endocrinology, 32(9), 1341-1353.\n",
            "\n",
            "Note: This question requires a specific answer based on the information provided in the text. Therefore, I cannot accept answers that are not supported by the text or that rely solely on external knowledge.\n",
            "\n",
            "Sources:\n",
            "\n",
            "Title: Neuroendocrine alterations in the exercising human: Implications for energy homeostasis\n",
            "URL: https://www.metabolismjournal.com/article/S0026-0495(13)00020-6/fulltext\n",
            "Text: Thus, there is compelling evidence in both animal models and in men and women that the stress that leads to dysfunction within the HPG axis only occurs when energy availability is inadequate with regard to exercise energy expenditure vs. energy intake.\n",
            "5. Long-term effects of negative energy balance\n",
            "\n",
            "Title: Neuroendocrine alterations in the exercising human: Implications for energy homeostasis\n",
            "URL: https://www.metabolismjournal.com/article/S0026-0495(13)00020-6/fulltext\n",
            "Text: such as the kisspeptin-gonadotropin releasing hormone system. Negative energy balance often occurs partially as a result of strenuous and repetitive physical exercise. Exercise stress leads to increased cortisol secretion, but this action is mediated through the induced negative energy balance. In healthy adults with energy deficits, this exercise-induced stress appears to be more important than pure psychological stress in impairing reproductive function. Estrogen deficiency resulting from negative energy balance has important adverse effects on bone density as well as bone microarchitecture, and it may also adversely affect markers of cardiovascular disease.\n",
            "\n",
            "Title: Neuroendocrine alterations in the exercising human: Implications for energy homeostasis\n",
            "URL: https://www.metabolismjournal.com/article/S0026-0495(13)00020-6/fulltext\n",
            "Text: Complex endocrine changes accompany negative energy balance. These changes occur in dynamic systems, and if negative energy balance occurs in adolescents, the alterations are superimposed on systems already undergoing dramatic maturational changes, including the GH/IGF-1 and HPG axes. At the core of these adaptive and sometimes maladaptive effects is the hypothalamus, which receives inputs reporting energy stores from the periphery and with input from higher cognitive centers integrates them and outputs changes in food intake, metabolic rate, and energy expenditure. Long-term effects of negative energy balance include alterations in adrenal activity, menstrual function and bone loss.\n",
            "\n",
            "Title: Neuroendocrine alterations in the exercising human: Implications for energy homeostasis\n",
            "URL: https://www.metabolismjournal.com/article/S0026-0495(13)00020-6/fulltext\n",
            "Text: Table 1Effects of chronic negative energy balance.\n",
            "Hormone concentrations\tBone-related effects\n",
            "Leptin\t↓\tMineral density\t↓\n",
            "Ghrelin\t↑\tTrabecular area\t↑\n",
            "NPY\t↑\tCortical perimeter\t↑\n",
            "PYY\t↓\tCortical area\t↓\n",
            "Trabecular number\t↓\n",
            "GH\t↑\tTrabecular thickness\t↓\n",
            "IGF-I\t↓\tTrabecular separation\t↑\n",
            "Gonadotropins\t↓\tCardiovascular-related effects\n",
            "Testosterone\t↓\tEndothelial function\t↓\n",
            "Estradiol\t↓\tLow grade inflammation\t↑\n",
            "Regional blood flow\t↓\n",
            "ADH\t↑\tLipid profiles\t↓\n",
            "Heart rate\t↓\n",
            "ACTH\t↑\t\t\n",
            "Cortisol\t↑\t\t\n",
            "Open table in a new tab\n"
          ]
        }
      ],
      "source": [
        "get_rag_response(question_2)"
      ]
    },
    {
      "cell_type": "markdown",
      "metadata": {
        "id": "TrlFjTUFRqtO"
      },
      "source": [
        "#### Analysis\n",
        "\n",
        "LLaMa fails to answer the question, instead posing other questions it should seek answers to in order to answer the question.\n",
        "\n",
        "RAG provides a direct answer, even citing some scientific terminology, though I would need a subject matter expert to determine how correct it is. We also see RAG providing sources as part of its answer. It's important to note that these sources are coming from the underlying LLM and not the RAG mechanism, so we they're subject to hallucination. To see the real sources RAG referenced, we can directly produce a list of the documents that were passed as context."
      ]
    },
    {
      "cell_type": "markdown",
      "metadata": {
        "id": "SaT0RW8zPuAl"
      },
      "source": [
        "### Question 3"
      ]
    },
    {
      "cell_type": "markdown",
      "metadata": {
        "id": "MXJsfNloPww2"
      },
      "source": [
        "Now let's test responses to a more scientifically dense question. In the embedded document, there's a paragraph on the effects of two specific hormones on appetite:\n",
        "\n",
        "> Leptin and ghrelin appear to exert their effects on appetite primarily via the arcuate nucleus (ARC) of the hypothalamus, acting on two critical populations of neurons. (Fig. 1) One population produces neuropeptide Y (NPY) and agouti-related peptide (AgRP), orexigenic neurotransmitters co-localized to ARC neurons [[10]]. These neurons are directly stimulated by ghrelin, leading to increased food intake and body weight [[11]]. Leptin suppresses activity of NPY/AgRP neurons. A second population of neurons produces pro-opiomelanocortin (POMC), the precursor to several hormones, including α-melanocyte stimulating hormone (αMSH). αMSH binds to the melanocortin-3 and -4 receptors (MC3R and MC4R) which inhibits food intake and in mice alters energy expenditure [[12]]. Leptin stimulates these POMC-producing neurons, thus suppressing appetite. Overlap in the actions of the POMC and NPY/AgRP neurons occurs via the action of AgRP, which antagonizes the action of αMSH at the MC3R and MC4R [[13]].\n",
        "\n",
        "Let's see how much detail the models can provide to a question on this."
      ]
    },
    {
      "cell_type": "code",
      "execution_count": 62,
      "metadata": {
        "id": "l5XfftTUPvlu"
      },
      "outputs": [],
      "source": [
        "question_3 = \"Which neurons do leptin and ghrelin act on to affect appetite? Please cite sources.\""
      ]
    },
    {
      "cell_type": "code",
      "execution_count": 63,
      "metadata": {
        "colab": {
          "base_uri": "https://localhost:8080/"
        },
        "id": "qr3pGPSnTGEo",
        "outputId": "283aeb5a-b210-4425-8cfb-892db3dfc896"
      },
      "outputs": [
        {
          "name": "stdout",
          "output_type": "stream",
          "text": [
            "\n",
            "\n",
            "Leptin and ghrelin are two hormones that play important roles in regulating appetite and metabolism. Leptin is produced by adipose tissue and acts on the hypothalamus to suppress appetite, while ghrelin is produced by the stomach and acts on the hypothalamus to stimulate appetite. Here are some key points about how these hormones act on neurons to affect appetite:\n",
            "\n",
            "1. Leptin receptors: Leptin binds to its receptor, OB-Rb, on the surface of neurons in the hypothalamus, specifically in the arcuate nucleus and the paraventricular nucleus. This binding activates signaling pathways that suppress appetite and increase energy expenditure. (Source: Kunos et al., 2000)\n",
            "2. Ghrelin receptors: Ghrelin binds to its receptor, GHSR, on the surface of neurons in the hypothalamus, specifically in the ventromedial nucleus. This binding activates signaling pathways that stimulate appetite and increase food intake. (Source: Mantei et al., 2009)\n",
            "3. Neuronal circuits: Leptin and ghrelin act on specific neuronal circuits in the hypothalamus to regulate appetite. For example, leptin activates the melanocortin 4 receptor (MC4R) in the hypothalamus, which inhibits food intake, while ghrelin activates the mesolimbic dopamine system, which increases food seeking behavior. (Source: Hahn et al., 2013)\n",
            "4. Neurotransmitters: Leptin and ghrelin also modulate the activity of neurotransmitters such as dopamine, serotonin, and glutamate in the hypothalamus, which can further influence appetite regulation. For example, leptin decreases the release of dopamine, which can reduce food motivation, while ghrelin increases the release of dopamine, which can increase food seeking behavior. (Source: Hahn et al., 2013)\n",
            "\n",
            "In summary, leptin and ghrelin\n"
          ]
        }
      ],
      "source": [
        "get_llm_response(question_3)"
      ]
    },
    {
      "cell_type": "code",
      "execution_count": 64,
      "metadata": {
        "colab": {
          "base_uri": "https://localhost:8080/"
        },
        "id": "Iv14_-1TTxoC",
        "outputId": "a8b99c48-ca44-4751-b890-48a7981cac22"
      },
      "outputs": [
        {
          "name": "stdout",
          "output_type": "stream",
          "text": [
            " Leptin and ghrelin act on two populations of neurons in the arcuate nucleus of the hypothalamus. The first population produces neuropeptide Y (NPY) and agouti-related peptide (AgRP), which are orexigenic neurotransmitters. Leptin suppresses activity of these neurons, while ghrelin directly stimulates them. The second population of neurons produces pro-opiomelanocortin (POMC), which is the precursor to several hormones, including α-melanocyte stimulating hormone (αMSH). Leptin stimulates these neurons, while ghrelin has no effect on them. Sources: [10], [11], [12], [13]\n",
            "\n",
            "Sources:\n",
            "\n",
            "Title: Neuroendocrine alterations in the exercising human: Implications for energy homeostasis\n",
            "URL: https://www.metabolismjournal.com/article/S0026-0495(13)00020-6/fulltext\n",
            "Text: Leptin and ghrelin appear to exert their effects on appetite primarily via the arcuate nucleus (ARC) of the hypothalamus, acting on two critical populations of neurons. (Fig. 1) One population produces neuropeptide Y (NPY) and agouti-related peptide (AgRP), orexigenic neurotransmitters co-localized to ARC neurons [[10]]. These neurons are directly stimulated by ghrelin, leading to increased food intake and body weight [[11]]. Leptin suppresses activity of NPY/AgRP neurons. A second population of neurons produces pro-opiomelanocortin (POMC), the precursor to several hormones, including α-melanocyte stimulating hormone (αMSH). αMSH binds to the melanocortin-3 and -4 receptors (MC3R and MC4R) which inhibits food intake and in mice alters energy expenditure [[12]]. Leptin stimulates these POMC-producing neurons, thus suppressing appetite. Overlap in the actions of the POMC and NPY/AgRP neurons occurs via the action of AgRP, which antagonizes the action of αMSH at the MC3R and MC4R [[13]].\n",
            "\n",
            "Title: Neuroendocrine alterations in the exercising human: Implications for energy homeostasis\n",
            "URL: https://www.metabolismjournal.com/article/S0026-0495(13)00020-6/fulltext\n",
            "Text: Figure thumbnail gr1\n",
            "Fig. 1Schematic of the overlap between appetite regulation and control of reproductive function. Ghrelin and leptin are the two primary influences. Ghrelin has appetite stimulatory functions and suppresses kisspeptin production, thus inhibiting GnRH secretion. Leptin has appetite suppressive functions and stimulates kisspeptin production. Positive influences are shown as arrowheads and inhibitory influences are shown as bars.\n",
            "View Large Image Figure ViewerDownload Hi-res image Download (PPT)\n",
            "Additional inputs to the appetite/satiety regulatory mechanism include peptide YY (PYY), a 36 amino acid protein produced in the L cells of the distal GI tract. PYY secretion is induced by meals, particularly those high in calories and protein. PYY acts centrally to induce satiety, and its secretion is decreased in obese humans [[14]].\n",
            "\n",
            "Title: Neuroendocrine alterations in the exercising human: Implications for energy homeostasis\n",
            "URL: https://www.metabolismjournal.com/article/S0026-0495(13)00020-6/fulltext\n",
            "Text: Alpha adrenergic blockade can reverse the insulin lowering effects of central administration of leptin in mice [[23]]. It is likely that POMC neurons located in the arcuate nucleus are both leptin sensitive and project to pre-ganglionic sympathetic neurons [[24]]. These circuits apparently act over the short-term and are some of those that affect moment-to-moment energy balance at the whole animal level. Other systems that may be involved in short-term regulation include cholecystokinin, ghrelin and the vagus nerve [25, 26, 27].\n",
            "\n",
            "Title: Neuroendocrine alterations in the exercising human: Implications for energy homeostasis\n",
            "URL: https://www.metabolismjournal.com/article/S0026-0495(13)00020-6/fulltext\n",
            "Text: to leptin. In addition to its central action to inhibit the reproductive system, ghrelin appears to have direct suppressive effects on the testis and ovary [[9]]. Non-acylated forms of ghrelin do not bind to the growth hormone secretogogue receptor, but may have important physiologic roles in other systems nonetheless.\n"
          ]
        }
      ],
      "source": [
        "get_rag_response(question_3)"
      ]
    },
    {
      "cell_type": "markdown",
      "metadata": {
        "id": "rvDQ8bSCVhNU"
      },
      "source": [
        "#### Analysis\n",
        "\n",
        "LLaMa provides a surprisingly good answer, citing specifics that must've been in its training data.\n",
        "\n",
        "RAG also provies a good answer, pulling context primarily from the paragraph we hoped it would (which shows that the embeddings are somewhat good)."
      ]
    }
  ],
  "metadata": {
    "accelerator": "GPU",
    "colab": {
      "gpuType": "T4",
      "provenance": []
    },
    "kernelspec": {
      "display_name": "Python 3",
      "name": "python3"
    },
    "language_info": {
      "codemirror_mode": {
        "name": "ipython",
        "version": 3
      },
      "file_extension": ".py",
      "mimetype": "text/x-python",
      "name": "python",
      "nbconvert_exporter": "python",
      "pygments_lexer": "ipython3",
      "version": "3.9.18"
    },
    "widgets": {
      "application/vnd.jupyter.widget-state+json": {
        "09cb459b7aa4422f9c6cbac75a5ed067": {
          "model_module": "@jupyter-widgets/controls",
          "model_module_version": "1.5.0",
          "model_name": "DescriptionStyleModel",
          "state": {
            "_model_module": "@jupyter-widgets/controls",
            "_model_module_version": "1.5.0",
            "_model_name": "DescriptionStyleModel",
            "_view_count": null,
            "_view_module": "@jupyter-widgets/base",
            "_view_module_version": "1.2.0",
            "_view_name": "StyleView",
            "description_width": ""
          }
        },
        "115c079413ad45fca88fc502f7bc718b": {
          "model_module": "@jupyter-widgets/controls",
          "model_module_version": "1.5.0",
          "model_name": "DescriptionStyleModel",
          "state": {
            "_model_module": "@jupyter-widgets/controls",
            "_model_module_version": "1.5.0",
            "_model_name": "DescriptionStyleModel",
            "_view_count": null,
            "_view_module": "@jupyter-widgets/base",
            "_view_module_version": "1.2.0",
            "_view_name": "StyleView",
            "description_width": ""
          }
        },
        "1383e6a111fd479c87c8a0a03e3fabd9": {
          "model_module": "@jupyter-widgets/base",
          "model_module_version": "1.2.0",
          "model_name": "LayoutModel",
          "state": {
            "_model_module": "@jupyter-widgets/base",
            "_model_module_version": "1.2.0",
            "_model_name": "LayoutModel",
            "_view_count": null,
            "_view_module": "@jupyter-widgets/base",
            "_view_module_version": "1.2.0",
            "_view_name": "LayoutView",
            "align_content": null,
            "align_items": null,
            "align_self": null,
            "border": null,
            "bottom": null,
            "display": null,
            "flex": null,
            "flex_flow": null,
            "grid_area": null,
            "grid_auto_columns": null,
            "grid_auto_flow": null,
            "grid_auto_rows": null,
            "grid_column": null,
            "grid_gap": null,
            "grid_row": null,
            "grid_template_areas": null,
            "grid_template_columns": null,
            "grid_template_rows": null,
            "height": null,
            "justify_content": null,
            "justify_items": null,
            "left": null,
            "margin": null,
            "max_height": null,
            "max_width": null,
            "min_height": null,
            "min_width": null,
            "object_fit": null,
            "object_position": null,
            "order": null,
            "overflow": null,
            "overflow_x": null,
            "overflow_y": null,
            "padding": null,
            "right": null,
            "top": null,
            "visibility": null,
            "width": null
          }
        },
        "183c16ce00504e3f822d65c91dd2b5b7": {
          "model_module": "@jupyter-widgets/base",
          "model_module_version": "1.2.0",
          "model_name": "LayoutModel",
          "state": {
            "_model_module": "@jupyter-widgets/base",
            "_model_module_version": "1.2.0",
            "_model_name": "LayoutModel",
            "_view_count": null,
            "_view_module": "@jupyter-widgets/base",
            "_view_module_version": "1.2.0",
            "_view_name": "LayoutView",
            "align_content": null,
            "align_items": null,
            "align_self": null,
            "border": null,
            "bottom": null,
            "display": null,
            "flex": null,
            "flex_flow": null,
            "grid_area": null,
            "grid_auto_columns": null,
            "grid_auto_flow": null,
            "grid_auto_rows": null,
            "grid_column": null,
            "grid_gap": null,
            "grid_row": null,
            "grid_template_areas": null,
            "grid_template_columns": null,
            "grid_template_rows": null,
            "height": null,
            "justify_content": null,
            "justify_items": null,
            "left": null,
            "margin": null,
            "max_height": null,
            "max_width": null,
            "min_height": null,
            "min_width": null,
            "object_fit": null,
            "object_position": null,
            "order": null,
            "overflow": null,
            "overflow_x": null,
            "overflow_y": null,
            "padding": null,
            "right": null,
            "top": null,
            "visibility": null,
            "width": null
          }
        },
        "1997906c24d6466c88a1435717abe592": {
          "model_module": "@jupyter-widgets/base",
          "model_module_version": "1.2.0",
          "model_name": "LayoutModel",
          "state": {
            "_model_module": "@jupyter-widgets/base",
            "_model_module_version": "1.2.0",
            "_model_name": "LayoutModel",
            "_view_count": null,
            "_view_module": "@jupyter-widgets/base",
            "_view_module_version": "1.2.0",
            "_view_name": "LayoutView",
            "align_content": null,
            "align_items": null,
            "align_self": null,
            "border": null,
            "bottom": null,
            "display": null,
            "flex": null,
            "flex_flow": null,
            "grid_area": null,
            "grid_auto_columns": null,
            "grid_auto_flow": null,
            "grid_auto_rows": null,
            "grid_column": null,
            "grid_gap": null,
            "grid_row": null,
            "grid_template_areas": null,
            "grid_template_columns": null,
            "grid_template_rows": null,
            "height": null,
            "justify_content": null,
            "justify_items": null,
            "left": null,
            "margin": null,
            "max_height": null,
            "max_width": null,
            "min_height": null,
            "min_width": null,
            "object_fit": null,
            "object_position": null,
            "order": null,
            "overflow": null,
            "overflow_x": null,
            "overflow_y": null,
            "padding": null,
            "right": null,
            "top": null,
            "visibility": null,
            "width": null
          }
        },
        "20efe88ca043459c88f245646aefe00a": {
          "model_module": "@jupyter-widgets/base",
          "model_module_version": "1.2.0",
          "model_name": "LayoutModel",
          "state": {
            "_model_module": "@jupyter-widgets/base",
            "_model_module_version": "1.2.0",
            "_model_name": "LayoutModel",
            "_view_count": null,
            "_view_module": "@jupyter-widgets/base",
            "_view_module_version": "1.2.0",
            "_view_name": "LayoutView",
            "align_content": null,
            "align_items": null,
            "align_self": null,
            "border": null,
            "bottom": null,
            "display": null,
            "flex": null,
            "flex_flow": null,
            "grid_area": null,
            "grid_auto_columns": null,
            "grid_auto_flow": null,
            "grid_auto_rows": null,
            "grid_column": null,
            "grid_gap": null,
            "grid_row": null,
            "grid_template_areas": null,
            "grid_template_columns": null,
            "grid_template_rows": null,
            "height": null,
            "justify_content": null,
            "justify_items": null,
            "left": null,
            "margin": null,
            "max_height": null,
            "max_width": null,
            "min_height": null,
            "min_width": null,
            "object_fit": null,
            "object_position": null,
            "order": null,
            "overflow": null,
            "overflow_x": null,
            "overflow_y": null,
            "padding": null,
            "right": null,
            "top": null,
            "visibility": null,
            "width": null
          }
        },
        "22c5953c9338449c8777b05a9cfdff4a": {
          "model_module": "@jupyter-widgets/controls",
          "model_module_version": "1.5.0",
          "model_name": "HTMLModel",
          "state": {
            "_dom_classes": [],
            "_model_module": "@jupyter-widgets/controls",
            "_model_module_version": "1.5.0",
            "_model_name": "HTMLModel",
            "_view_count": null,
            "_view_module": "@jupyter-widgets/controls",
            "_view_module_version": "1.5.0",
            "_view_name": "HTMLView",
            "description": "",
            "description_tooltip": null,
            "layout": "IPY_MODEL_fcaf5b3fa98d4241a75cc1dcff9bb56e",
            "placeholder": "​",
            "style": "IPY_MODEL_ec32f2252aee4385b0a3be4874757f56",
            "value": " 1.84M/1.84M [00:00&lt;00:00, 8.80MB/s]"
          }
        },
        "2333af4e4f504efebf30c5e8c4ddce44": {
          "model_module": "@jupyter-widgets/controls",
          "model_module_version": "1.5.0",
          "model_name": "FloatProgressModel",
          "state": {
            "_dom_classes": [],
            "_model_module": "@jupyter-widgets/controls",
            "_model_module_version": "1.5.0",
            "_model_name": "FloatProgressModel",
            "_view_count": null,
            "_view_module": "@jupyter-widgets/controls",
            "_view_module_version": "1.5.0",
            "_view_name": "ProgressView",
            "bar_style": "success",
            "description": "",
            "description_tooltip": null,
            "layout": "IPY_MODEL_747709af2355456dabc5b18f6dca4a32",
            "max": 6178962272,
            "min": 0,
            "orientation": "horizontal",
            "style": "IPY_MODEL_ddb1c8d763174ac489c39cd1a3518e7f",
            "value": 6178962272
          }
        },
        "248ec19f070341089b82199c60865015": {
          "model_module": "@jupyter-widgets/base",
          "model_module_version": "1.2.0",
          "model_name": "LayoutModel",
          "state": {
            "_model_module": "@jupyter-widgets/base",
            "_model_module_version": "1.2.0",
            "_model_name": "LayoutModel",
            "_view_count": null,
            "_view_module": "@jupyter-widgets/base",
            "_view_module_version": "1.2.0",
            "_view_name": "LayoutView",
            "align_content": null,
            "align_items": null,
            "align_self": null,
            "border": null,
            "bottom": null,
            "display": null,
            "flex": null,
            "flex_flow": null,
            "grid_area": null,
            "grid_auto_columns": null,
            "grid_auto_flow": null,
            "grid_auto_rows": null,
            "grid_column": null,
            "grid_gap": null,
            "grid_row": null,
            "grid_template_areas": null,
            "grid_template_columns": null,
            "grid_template_rows": null,
            "height": null,
            "justify_content": null,
            "justify_items": null,
            "left": null,
            "margin": null,
            "max_height": null,
            "max_width": null,
            "min_height": null,
            "min_width": null,
            "object_fit": null,
            "object_position": null,
            "order": null,
            "overflow": null,
            "overflow_x": null,
            "overflow_y": null,
            "padding": null,
            "right": null,
            "top": null,
            "visibility": null,
            "width": null
          }
        },
        "24d4a7bed5204e6aa4d605dd252f74a3": {
          "model_module": "@jupyter-widgets/base",
          "model_module_version": "1.2.0",
          "model_name": "LayoutModel",
          "state": {
            "_model_module": "@jupyter-widgets/base",
            "_model_module_version": "1.2.0",
            "_model_name": "LayoutModel",
            "_view_count": null,
            "_view_module": "@jupyter-widgets/base",
            "_view_module_version": "1.2.0",
            "_view_name": "LayoutView",
            "align_content": null,
            "align_items": null,
            "align_self": null,
            "border": null,
            "bottom": null,
            "display": null,
            "flex": null,
            "flex_flow": null,
            "grid_area": null,
            "grid_auto_columns": null,
            "grid_auto_flow": null,
            "grid_auto_rows": null,
            "grid_column": null,
            "grid_gap": null,
            "grid_row": null,
            "grid_template_areas": null,
            "grid_template_columns": null,
            "grid_template_rows": null,
            "height": null,
            "justify_content": null,
            "justify_items": null,
            "left": null,
            "margin": null,
            "max_height": null,
            "max_width": null,
            "min_height": null,
            "min_width": null,
            "object_fit": null,
            "object_position": null,
            "order": null,
            "overflow": null,
            "overflow_x": null,
            "overflow_y": null,
            "padding": null,
            "right": null,
            "top": null,
            "visibility": null,
            "width": null
          }
        },
        "2501615b5e9a49ec8908d4738cbaabf0": {
          "model_module": "@jupyter-widgets/controls",
          "model_module_version": "1.5.0",
          "model_name": "HBoxModel",
          "state": {
            "_dom_classes": [],
            "_model_module": "@jupyter-widgets/controls",
            "_model_module_version": "1.5.0",
            "_model_name": "HBoxModel",
            "_view_count": null,
            "_view_module": "@jupyter-widgets/controls",
            "_view_module_version": "1.5.0",
            "_view_name": "HBoxView",
            "box_style": "",
            "children": [
              "IPY_MODEL_cc37abad2aa3413ba051ddd7bf75055b",
              "IPY_MODEL_67261a48bf1d43cda92ef89b5c512db9",
              "IPY_MODEL_a04f067c0e704a53a2a4bbc1de68a4a7"
            ],
            "layout": "IPY_MODEL_b9747ad807994c35854afa446a1b4361"
          }
        },
        "2b6b96a805c54be289b98ad7b82f30b1": {
          "model_module": "@jupyter-widgets/controls",
          "model_module_version": "1.5.0",
          "model_name": "DescriptionStyleModel",
          "state": {
            "_model_module": "@jupyter-widgets/controls",
            "_model_module_version": "1.5.0",
            "_model_name": "DescriptionStyleModel",
            "_view_count": null,
            "_view_module": "@jupyter-widgets/base",
            "_view_module_version": "1.2.0",
            "_view_name": "StyleView",
            "description_width": ""
          }
        },
        "2ee279ff4cac47d89bd2b81ec4253bab": {
          "model_module": "@jupyter-widgets/controls",
          "model_module_version": "1.5.0",
          "model_name": "ProgressStyleModel",
          "state": {
            "_model_module": "@jupyter-widgets/controls",
            "_model_module_version": "1.5.0",
            "_model_name": "ProgressStyleModel",
            "_view_count": null,
            "_view_module": "@jupyter-widgets/base",
            "_view_module_version": "1.2.0",
            "_view_name": "StyleView",
            "bar_color": null,
            "description_width": ""
          }
        },
        "33e569e15d6248989656c1a1ce6cebeb": {
          "model_module": "@jupyter-widgets/controls",
          "model_module_version": "1.5.0",
          "model_name": "DescriptionStyleModel",
          "state": {
            "_model_module": "@jupyter-widgets/controls",
            "_model_module_version": "1.5.0",
            "_model_name": "DescriptionStyleModel",
            "_view_count": null,
            "_view_module": "@jupyter-widgets/base",
            "_view_module_version": "1.2.0",
            "_view_name": "StyleView",
            "description_width": ""
          }
        },
        "38dea41a10fe4c4287aec674765609a0": {
          "model_module": "@jupyter-widgets/controls",
          "model_module_version": "1.5.0",
          "model_name": "FloatProgressModel",
          "state": {
            "_dom_classes": [],
            "_model_module": "@jupyter-widgets/controls",
            "_model_module_version": "1.5.0",
            "_model_name": "FloatProgressModel",
            "_view_count": null,
            "_view_module": "@jupyter-widgets/controls",
            "_view_module_version": "1.5.0",
            "_view_name": "ProgressView",
            "bar_style": "success",
            "description": "",
            "description_tooltip": null,
            "layout": "IPY_MODEL_ea43fed4314a43699aa34b47e1806c1d",
            "max": 414,
            "min": 0,
            "orientation": "horizontal",
            "style": "IPY_MODEL_2ee279ff4cac47d89bd2b81ec4253bab",
            "value": 414
          }
        },
        "3a09aa06f57c45a9bf604dc0a8943d4e": {
          "model_module": "@jupyter-widgets/controls",
          "model_module_version": "1.5.0",
          "model_name": "DescriptionStyleModel",
          "state": {
            "_model_module": "@jupyter-widgets/controls",
            "_model_module_version": "1.5.0",
            "_model_name": "DescriptionStyleModel",
            "_view_count": null,
            "_view_module": "@jupyter-widgets/base",
            "_view_module_version": "1.2.0",
            "_view_name": "StyleView",
            "description_width": ""
          }
        },
        "3b63ecb60c384efda0508985c4811a1c": {
          "model_module": "@jupyter-widgets/controls",
          "model_module_version": "1.5.0",
          "model_name": "HTMLModel",
          "state": {
            "_dom_classes": [],
            "_model_module": "@jupyter-widgets/controls",
            "_model_module_version": "1.5.0",
            "_model_name": "HTMLModel",
            "_view_count": null,
            "_view_module": "@jupyter-widgets/controls",
            "_view_module_version": "1.5.0",
            "_view_name": "HTMLView",
            "description": "",
            "description_tooltip": null,
            "layout": "IPY_MODEL_55ccefecb15f43929b2306405db6954b",
            "placeholder": "​",
            "style": "IPY_MODEL_baca521808a64889b1d443f18e4a54a5",
            "value": " 1.62k/1.62k [00:00&lt;00:00, 91.4kB/s]"
          }
        },
        "3c0526a04c07498683de2b6961ae0953": {
          "model_module": "@jupyter-widgets/controls",
          "model_module_version": "1.5.0",
          "model_name": "HTMLModel",
          "state": {
            "_dom_classes": [],
            "_model_module": "@jupyter-widgets/controls",
            "_model_module_version": "1.5.0",
            "_model_name": "HTMLModel",
            "_view_count": null,
            "_view_module": "@jupyter-widgets/controls",
            "_view_module_version": "1.5.0",
            "_view_name": "HTMLView",
            "description": "",
            "description_tooltip": null,
            "layout": "IPY_MODEL_daaec8c24cb146439b9e7e784bdfd619",
            "placeholder": "​",
            "style": "IPY_MODEL_3a09aa06f57c45a9bf604dc0a8943d4e",
            "value": "Downloading (…)of-00003.safetensors: 100%"
          }
        },
        "3cbd615feff04153b4e74cf5f5ed7ac7": {
          "model_module": "@jupyter-widgets/controls",
          "model_module_version": "1.5.0",
          "model_name": "DescriptionStyleModel",
          "state": {
            "_model_module": "@jupyter-widgets/controls",
            "_model_module_version": "1.5.0",
            "_model_name": "DescriptionStyleModel",
            "_view_count": null,
            "_view_module": "@jupyter-widgets/base",
            "_view_module_version": "1.2.0",
            "_view_name": "StyleView",
            "description_width": ""
          }
        },
        "3e204598b1d74222a05627f6d8573cdf": {
          "model_module": "@jupyter-widgets/controls",
          "model_module_version": "1.5.0",
          "model_name": "HTMLModel",
          "state": {
            "_dom_classes": [],
            "_model_module": "@jupyter-widgets/controls",
            "_model_module_version": "1.5.0",
            "_model_name": "HTMLModel",
            "_view_count": null,
            "_view_module": "@jupyter-widgets/controls",
            "_view_module_version": "1.5.0",
            "_view_name": "HTMLView",
            "description": "",
            "description_tooltip": null,
            "layout": "IPY_MODEL_d43b7e84d9ea4873800cf10b19975c84",
            "placeholder": "​",
            "style": "IPY_MODEL_523276fe9ea943b9a302598c884a3b9f",
            "value": " 3/3 [03:23&lt;00:00, 70.53s/it]"
          }
        },
        "3ff6cef73c694c2586896958deb21e33": {
          "model_module": "@jupyter-widgets/controls",
          "model_module_version": "1.5.0",
          "model_name": "HBoxModel",
          "state": {
            "_dom_classes": [],
            "_model_module": "@jupyter-widgets/controls",
            "_model_module_version": "1.5.0",
            "_model_name": "HBoxModel",
            "_view_count": null,
            "_view_module": "@jupyter-widgets/controls",
            "_view_module_version": "1.5.0",
            "_view_name": "HBoxView",
            "box_style": "",
            "children": [
              "IPY_MODEL_875c241414234c5197de7ac24bafaed1",
              "IPY_MODEL_e1e67803799c4dbeb23bb76318b70a27",
              "IPY_MODEL_512eb1a8e953414bb66b63f90fb3b42a"
            ],
            "layout": "IPY_MODEL_8e8e89ecfd284b18b5e4033360d7b0db"
          }
        },
        "401aa4936bf246aa97ce411a113b70ea": {
          "model_module": "@jupyter-widgets/controls",
          "model_module_version": "1.5.0",
          "model_name": "ProgressStyleModel",
          "state": {
            "_model_module": "@jupyter-widgets/controls",
            "_model_module_version": "1.5.0",
            "_model_name": "ProgressStyleModel",
            "_view_count": null,
            "_view_module": "@jupyter-widgets/base",
            "_view_module_version": "1.2.0",
            "_view_name": "StyleView",
            "bar_color": null,
            "description_width": ""
          }
        },
        "474c6842281447789c5aaceac8429284": {
          "model_module": "@jupyter-widgets/controls",
          "model_module_version": "1.5.0",
          "model_name": "ProgressStyleModel",
          "state": {
            "_model_module": "@jupyter-widgets/controls",
            "_model_module_version": "1.5.0",
            "_model_name": "ProgressStyleModel",
            "_view_count": null,
            "_view_module": "@jupyter-widgets/base",
            "_view_module_version": "1.2.0",
            "_view_name": "StyleView",
            "bar_color": null,
            "description_width": ""
          }
        },
        "4998bd6b46bb4a8294f40ed7fc171b9f": {
          "model_module": "@jupyter-widgets/base",
          "model_module_version": "1.2.0",
          "model_name": "LayoutModel",
          "state": {
            "_model_module": "@jupyter-widgets/base",
            "_model_module_version": "1.2.0",
            "_model_name": "LayoutModel",
            "_view_count": null,
            "_view_module": "@jupyter-widgets/base",
            "_view_module_version": "1.2.0",
            "_view_name": "LayoutView",
            "align_content": null,
            "align_items": null,
            "align_self": null,
            "border": null,
            "bottom": null,
            "display": null,
            "flex": null,
            "flex_flow": null,
            "grid_area": null,
            "grid_auto_columns": null,
            "grid_auto_flow": null,
            "grid_auto_rows": null,
            "grid_column": null,
            "grid_gap": null,
            "grid_row": null,
            "grid_template_areas": null,
            "grid_template_columns": null,
            "grid_template_rows": null,
            "height": null,
            "justify_content": null,
            "justify_items": null,
            "left": null,
            "margin": null,
            "max_height": null,
            "max_width": null,
            "min_height": null,
            "min_width": null,
            "object_fit": null,
            "object_position": null,
            "order": null,
            "overflow": null,
            "overflow_x": null,
            "overflow_y": null,
            "padding": null,
            "right": null,
            "top": null,
            "visibility": null,
            "width": null
          }
        },
        "4d415084f0374b849613e674365a6715": {
          "model_module": "@jupyter-widgets/base",
          "model_module_version": "1.2.0",
          "model_name": "LayoutModel",
          "state": {
            "_model_module": "@jupyter-widgets/base",
            "_model_module_version": "1.2.0",
            "_model_name": "LayoutModel",
            "_view_count": null,
            "_view_module": "@jupyter-widgets/base",
            "_view_module_version": "1.2.0",
            "_view_name": "LayoutView",
            "align_content": null,
            "align_items": null,
            "align_self": null,
            "border": null,
            "bottom": null,
            "display": null,
            "flex": null,
            "flex_flow": null,
            "grid_area": null,
            "grid_auto_columns": null,
            "grid_auto_flow": null,
            "grid_auto_rows": null,
            "grid_column": null,
            "grid_gap": null,
            "grid_row": null,
            "grid_template_areas": null,
            "grid_template_columns": null,
            "grid_template_rows": null,
            "height": null,
            "justify_content": null,
            "justify_items": null,
            "left": null,
            "margin": null,
            "max_height": null,
            "max_width": null,
            "min_height": null,
            "min_width": null,
            "object_fit": null,
            "object_position": null,
            "order": null,
            "overflow": null,
            "overflow_x": null,
            "overflow_y": null,
            "padding": null,
            "right": null,
            "top": null,
            "visibility": null,
            "width": null
          }
        },
        "4d85422bdceb42388ac1edf94624019c": {
          "model_module": "@jupyter-widgets/base",
          "model_module_version": "1.2.0",
          "model_name": "LayoutModel",
          "state": {
            "_model_module": "@jupyter-widgets/base",
            "_model_module_version": "1.2.0",
            "_model_name": "LayoutModel",
            "_view_count": null,
            "_view_module": "@jupyter-widgets/base",
            "_view_module_version": "1.2.0",
            "_view_name": "LayoutView",
            "align_content": null,
            "align_items": null,
            "align_self": null,
            "border": null,
            "bottom": null,
            "display": null,
            "flex": null,
            "flex_flow": null,
            "grid_area": null,
            "grid_auto_columns": null,
            "grid_auto_flow": null,
            "grid_auto_rows": null,
            "grid_column": null,
            "grid_gap": null,
            "grid_row": null,
            "grid_template_areas": null,
            "grid_template_columns": null,
            "grid_template_rows": null,
            "height": null,
            "justify_content": null,
            "justify_items": null,
            "left": null,
            "margin": null,
            "max_height": null,
            "max_width": null,
            "min_height": null,
            "min_width": null,
            "object_fit": null,
            "object_position": null,
            "order": null,
            "overflow": null,
            "overflow_x": null,
            "overflow_y": null,
            "padding": null,
            "right": null,
            "top": null,
            "visibility": null,
            "width": null
          }
        },
        "512eb1a8e953414bb66b63f90fb3b42a": {
          "model_module": "@jupyter-widgets/controls",
          "model_module_version": "1.5.0",
          "model_name": "HTMLModel",
          "state": {
            "_dom_classes": [],
            "_model_module": "@jupyter-widgets/controls",
            "_model_module_version": "1.5.0",
            "_model_name": "HTMLModel",
            "_view_count": null,
            "_view_module": "@jupyter-widgets/controls",
            "_view_module_version": "1.5.0",
            "_view_name": "HTMLView",
            "description": "",
            "description_tooltip": null,
            "layout": "IPY_MODEL_b3d11d37553c495eb137b35af057993c",
            "placeholder": "​",
            "style": "IPY_MODEL_2b6b96a805c54be289b98ad7b82f30b1",
            "value": " 3/3 [01:56&lt;00:00, 36.65s/it]"
          }
        },
        "523276fe9ea943b9a302598c884a3b9f": {
          "model_module": "@jupyter-widgets/controls",
          "model_module_version": "1.5.0",
          "model_name": "DescriptionStyleModel",
          "state": {
            "_model_module": "@jupyter-widgets/controls",
            "_model_module_version": "1.5.0",
            "_model_name": "DescriptionStyleModel",
            "_view_count": null,
            "_view_module": "@jupyter-widgets/base",
            "_view_module_version": "1.2.0",
            "_view_name": "StyleView",
            "description_width": ""
          }
        },
        "55ccefecb15f43929b2306405db6954b": {
          "model_module": "@jupyter-widgets/base",
          "model_module_version": "1.2.0",
          "model_name": "LayoutModel",
          "state": {
            "_model_module": "@jupyter-widgets/base",
            "_model_module_version": "1.2.0",
            "_model_name": "LayoutModel",
            "_view_count": null,
            "_view_module": "@jupyter-widgets/base",
            "_view_module_version": "1.2.0",
            "_view_name": "LayoutView",
            "align_content": null,
            "align_items": null,
            "align_self": null,
            "border": null,
            "bottom": null,
            "display": null,
            "flex": null,
            "flex_flow": null,
            "grid_area": null,
            "grid_auto_columns": null,
            "grid_auto_flow": null,
            "grid_auto_rows": null,
            "grid_column": null,
            "grid_gap": null,
            "grid_row": null,
            "grid_template_areas": null,
            "grid_template_columns": null,
            "grid_template_rows": null,
            "height": null,
            "justify_content": null,
            "justify_items": null,
            "left": null,
            "margin": null,
            "max_height": null,
            "max_width": null,
            "min_height": null,
            "min_width": null,
            "object_fit": null,
            "object_position": null,
            "order": null,
            "overflow": null,
            "overflow_x": null,
            "overflow_y": null,
            "padding": null,
            "right": null,
            "top": null,
            "visibility": null,
            "width": null
          }
        },
        "59abf730af064f7f90843988276668b5": {
          "model_module": "@jupyter-widgets/base",
          "model_module_version": "1.2.0",
          "model_name": "LayoutModel",
          "state": {
            "_model_module": "@jupyter-widgets/base",
            "_model_module_version": "1.2.0",
            "_model_name": "LayoutModel",
            "_view_count": null,
            "_view_module": "@jupyter-widgets/base",
            "_view_module_version": "1.2.0",
            "_view_name": "LayoutView",
            "align_content": null,
            "align_items": null,
            "align_self": null,
            "border": null,
            "bottom": null,
            "display": null,
            "flex": null,
            "flex_flow": null,
            "grid_area": null,
            "grid_auto_columns": null,
            "grid_auto_flow": null,
            "grid_auto_rows": null,
            "grid_column": null,
            "grid_gap": null,
            "grid_row": null,
            "grid_template_areas": null,
            "grid_template_columns": null,
            "grid_template_rows": null,
            "height": null,
            "justify_content": null,
            "justify_items": null,
            "left": null,
            "margin": null,
            "max_height": null,
            "max_width": null,
            "min_height": null,
            "min_width": null,
            "object_fit": null,
            "object_position": null,
            "order": null,
            "overflow": null,
            "overflow_x": null,
            "overflow_y": null,
            "padding": null,
            "right": null,
            "top": null,
            "visibility": null,
            "width": null
          }
        },
        "5ceb62be34ae4a4ab4724c5dc726585f": {
          "model_module": "@jupyter-widgets/base",
          "model_module_version": "1.2.0",
          "model_name": "LayoutModel",
          "state": {
            "_model_module": "@jupyter-widgets/base",
            "_model_module_version": "1.2.0",
            "_model_name": "LayoutModel",
            "_view_count": null,
            "_view_module": "@jupyter-widgets/base",
            "_view_module_version": "1.2.0",
            "_view_name": "LayoutView",
            "align_content": null,
            "align_items": null,
            "align_self": null,
            "border": null,
            "bottom": null,
            "display": null,
            "flex": null,
            "flex_flow": null,
            "grid_area": null,
            "grid_auto_columns": null,
            "grid_auto_flow": null,
            "grid_auto_rows": null,
            "grid_column": null,
            "grid_gap": null,
            "grid_row": null,
            "grid_template_areas": null,
            "grid_template_columns": null,
            "grid_template_rows": null,
            "height": null,
            "justify_content": null,
            "justify_items": null,
            "left": null,
            "margin": null,
            "max_height": null,
            "max_width": null,
            "min_height": null,
            "min_width": null,
            "object_fit": null,
            "object_position": null,
            "order": null,
            "overflow": null,
            "overflow_x": null,
            "overflow_y": null,
            "padding": null,
            "right": null,
            "top": null,
            "visibility": null,
            "width": null
          }
        },
        "5f9d1418e5894ccd9a9eed706588e501": {
          "model_module": "@jupyter-widgets/controls",
          "model_module_version": "1.5.0",
          "model_name": "HTMLModel",
          "state": {
            "_dom_classes": [],
            "_model_module": "@jupyter-widgets/controls",
            "_model_module_version": "1.5.0",
            "_model_name": "HTMLModel",
            "_view_count": null,
            "_view_module": "@jupyter-widgets/controls",
            "_view_module_version": "1.5.0",
            "_view_name": "HTMLView",
            "description": "",
            "description_tooltip": null,
            "layout": "IPY_MODEL_f30e42a21c554b2ebdf0567dddbe7f35",
            "placeholder": "​",
            "style": "IPY_MODEL_73eefe0244bb49e7be7608cde3d0505e",
            "value": " 6.18G/6.18G [01:29&lt;00:00, 91.4MB/s]"
          }
        },
        "6181ee50b0884aeebb033ba347ab793b": {
          "model_module": "@jupyter-widgets/base",
          "model_module_version": "1.2.0",
          "model_name": "LayoutModel",
          "state": {
            "_model_module": "@jupyter-widgets/base",
            "_model_module_version": "1.2.0",
            "_model_name": "LayoutModel",
            "_view_count": null,
            "_view_module": "@jupyter-widgets/base",
            "_view_module_version": "1.2.0",
            "_view_name": "LayoutView",
            "align_content": null,
            "align_items": null,
            "align_self": null,
            "border": null,
            "bottom": null,
            "display": null,
            "flex": null,
            "flex_flow": null,
            "grid_area": null,
            "grid_auto_columns": null,
            "grid_auto_flow": null,
            "grid_auto_rows": null,
            "grid_column": null,
            "grid_gap": null,
            "grid_row": null,
            "grid_template_areas": null,
            "grid_template_columns": null,
            "grid_template_rows": null,
            "height": null,
            "justify_content": null,
            "justify_items": null,
            "left": null,
            "margin": null,
            "max_height": null,
            "max_width": null,
            "min_height": null,
            "min_width": null,
            "object_fit": null,
            "object_position": null,
            "order": null,
            "overflow": null,
            "overflow_x": null,
            "overflow_y": null,
            "padding": null,
            "right": null,
            "top": null,
            "visibility": null,
            "width": null
          }
        },
        "61f9e8e86263409eae541373955cc46e": {
          "model_module": "@jupyter-widgets/controls",
          "model_module_version": "1.5.0",
          "model_name": "ProgressStyleModel",
          "state": {
            "_model_module": "@jupyter-widgets/controls",
            "_model_module_version": "1.5.0",
            "_model_name": "ProgressStyleModel",
            "_view_count": null,
            "_view_module": "@jupyter-widgets/base",
            "_view_module_version": "1.2.0",
            "_view_name": "StyleView",
            "bar_color": null,
            "description_width": ""
          }
        },
        "62c74e76bba64d7896f6cd85c1cb7222": {
          "model_module": "@jupyter-widgets/controls",
          "model_module_version": "1.5.0",
          "model_name": "ProgressStyleModel",
          "state": {
            "_model_module": "@jupyter-widgets/controls",
            "_model_module_version": "1.5.0",
            "_model_name": "ProgressStyleModel",
            "_view_count": null,
            "_view_module": "@jupyter-widgets/base",
            "_view_module_version": "1.2.0",
            "_view_name": "StyleView",
            "bar_color": null,
            "description_width": ""
          }
        },
        "67261a48bf1d43cda92ef89b5c512db9": {
          "model_module": "@jupyter-widgets/controls",
          "model_module_version": "1.5.0",
          "model_name": "FloatProgressModel",
          "state": {
            "_dom_classes": [],
            "_model_module": "@jupyter-widgets/controls",
            "_model_module_version": "1.5.0",
            "_model_name": "FloatProgressModel",
            "_view_count": null,
            "_view_module": "@jupyter-widgets/controls",
            "_view_module_version": "1.5.0",
            "_view_name": "ProgressView",
            "bar_style": "success",
            "description": "",
            "description_tooltip": null,
            "layout": "IPY_MODEL_5ceb62be34ae4a4ab4724c5dc726585f",
            "max": 499723,
            "min": 0,
            "orientation": "horizontal",
            "style": "IPY_MODEL_61f9e8e86263409eae541373955cc46e",
            "value": 499723
          }
        },
        "6916f3d4c46b4846af31145482954851": {
          "model_module": "@jupyter-widgets/controls",
          "model_module_version": "1.5.0",
          "model_name": "HBoxModel",
          "state": {
            "_dom_classes": [],
            "_model_module": "@jupyter-widgets/controls",
            "_model_module_version": "1.5.0",
            "_model_name": "HBoxModel",
            "_view_count": null,
            "_view_module": "@jupyter-widgets/controls",
            "_view_module_version": "1.5.0",
            "_view_name": "HBoxView",
            "box_style": "",
            "children": [
              "IPY_MODEL_3c0526a04c07498683de2b6961ae0953",
              "IPY_MODEL_2333af4e4f504efebf30c5e8c4ddce44",
              "IPY_MODEL_5f9d1418e5894ccd9a9eed706588e501"
            ],
            "layout": "IPY_MODEL_c62afed1821e47d582b7c89e43ba86e4"
          }
        },
        "6f239958bba54fb7aa765eab90700bda": {
          "model_module": "@jupyter-widgets/controls",
          "model_module_version": "1.5.0",
          "model_name": "HTMLModel",
          "state": {
            "_dom_classes": [],
            "_model_module": "@jupyter-widgets/controls",
            "_model_module_version": "1.5.0",
            "_model_name": "HTMLModel",
            "_view_count": null,
            "_view_module": "@jupyter-widgets/controls",
            "_view_module_version": "1.5.0",
            "_view_name": "HTMLView",
            "description": "",
            "description_tooltip": null,
            "layout": "IPY_MODEL_1383e6a111fd479c87c8a0a03e3fabd9",
            "placeholder": "​",
            "style": "IPY_MODEL_7e8df1618284462e94dfbd0299f70a83",
            "value": "Downloading (…)neration_config.json: 100%"
          }
        },
        "73eefe0244bb49e7be7608cde3d0505e": {
          "model_module": "@jupyter-widgets/controls",
          "model_module_version": "1.5.0",
          "model_name": "DescriptionStyleModel",
          "state": {
            "_model_module": "@jupyter-widgets/controls",
            "_model_module_version": "1.5.0",
            "_model_name": "DescriptionStyleModel",
            "_view_count": null,
            "_view_module": "@jupyter-widgets/base",
            "_view_module_version": "1.2.0",
            "_view_name": "StyleView",
            "description_width": ""
          }
        },
        "747709af2355456dabc5b18f6dca4a32": {
          "model_module": "@jupyter-widgets/base",
          "model_module_version": "1.2.0",
          "model_name": "LayoutModel",
          "state": {
            "_model_module": "@jupyter-widgets/base",
            "_model_module_version": "1.2.0",
            "_model_name": "LayoutModel",
            "_view_count": null,
            "_view_module": "@jupyter-widgets/base",
            "_view_module_version": "1.2.0",
            "_view_name": "LayoutView",
            "align_content": null,
            "align_items": null,
            "align_self": null,
            "border": null,
            "bottom": null,
            "display": null,
            "flex": null,
            "flex_flow": null,
            "grid_area": null,
            "grid_auto_columns": null,
            "grid_auto_flow": null,
            "grid_auto_rows": null,
            "grid_column": null,
            "grid_gap": null,
            "grid_row": null,
            "grid_template_areas": null,
            "grid_template_columns": null,
            "grid_template_rows": null,
            "height": null,
            "justify_content": null,
            "justify_items": null,
            "left": null,
            "margin": null,
            "max_height": null,
            "max_width": null,
            "min_height": null,
            "min_width": null,
            "object_fit": null,
            "object_position": null,
            "order": null,
            "overflow": null,
            "overflow_x": null,
            "overflow_y": null,
            "padding": null,
            "right": null,
            "top": null,
            "visibility": null,
            "width": null
          }
        },
        "74ce0ccca7b64db28a3a5ed592f19386": {
          "model_module": "@jupyter-widgets/controls",
          "model_module_version": "1.5.0",
          "model_name": "DescriptionStyleModel",
          "state": {
            "_model_module": "@jupyter-widgets/controls",
            "_model_module_version": "1.5.0",
            "_model_name": "DescriptionStyleModel",
            "_view_count": null,
            "_view_module": "@jupyter-widgets/base",
            "_view_module_version": "1.2.0",
            "_view_name": "StyleView",
            "description_width": ""
          }
        },
        "76241c8a90444857beed0303af99c494": {
          "model_module": "@jupyter-widgets/base",
          "model_module_version": "1.2.0",
          "model_name": "LayoutModel",
          "state": {
            "_model_module": "@jupyter-widgets/base",
            "_model_module_version": "1.2.0",
            "_model_name": "LayoutModel",
            "_view_count": null,
            "_view_module": "@jupyter-widgets/base",
            "_view_module_version": "1.2.0",
            "_view_name": "LayoutView",
            "align_content": null,
            "align_items": null,
            "align_self": null,
            "border": null,
            "bottom": null,
            "display": null,
            "flex": null,
            "flex_flow": null,
            "grid_area": null,
            "grid_auto_columns": null,
            "grid_auto_flow": null,
            "grid_auto_rows": null,
            "grid_column": null,
            "grid_gap": null,
            "grid_row": null,
            "grid_template_areas": null,
            "grid_template_columns": null,
            "grid_template_rows": null,
            "height": null,
            "justify_content": null,
            "justify_items": null,
            "left": null,
            "margin": null,
            "max_height": null,
            "max_width": null,
            "min_height": null,
            "min_width": null,
            "object_fit": null,
            "object_position": null,
            "order": null,
            "overflow": null,
            "overflow_x": null,
            "overflow_y": null,
            "padding": null,
            "right": null,
            "top": null,
            "visibility": null,
            "width": null
          }
        },
        "7e8df1618284462e94dfbd0299f70a83": {
          "model_module": "@jupyter-widgets/controls",
          "model_module_version": "1.5.0",
          "model_name": "DescriptionStyleModel",
          "state": {
            "_model_module": "@jupyter-widgets/controls",
            "_model_module_version": "1.5.0",
            "_model_name": "DescriptionStyleModel",
            "_view_count": null,
            "_view_module": "@jupyter-widgets/base",
            "_view_module_version": "1.2.0",
            "_view_name": "StyleView",
            "description_width": ""
          }
        },
        "8362a13564db4a95b8356570f53aa6b3": {
          "model_module": "@jupyter-widgets/controls",
          "model_module_version": "1.5.0",
          "model_name": "FloatProgressModel",
          "state": {
            "_dom_classes": [],
            "_model_module": "@jupyter-widgets/controls",
            "_model_module_version": "1.5.0",
            "_model_name": "FloatProgressModel",
            "_view_count": null,
            "_view_module": "@jupyter-widgets/controls",
            "_view_module_version": "1.5.0",
            "_view_name": "ProgressView",
            "bar_style": "success",
            "description": "",
            "description_tooltip": null,
            "layout": "IPY_MODEL_e4e83a1c94a04fbaa071614a4a8ce36d",
            "max": 188,
            "min": 0,
            "orientation": "horizontal",
            "style": "IPY_MODEL_401aa4936bf246aa97ce411a113b70ea",
            "value": 188
          }
        },
        "871a433344394afaab2c91cb46b57dff": {
          "model_module": "@jupyter-widgets/controls",
          "model_module_version": "1.5.0",
          "model_name": "FloatProgressModel",
          "state": {
            "_dom_classes": [],
            "_model_module": "@jupyter-widgets/controls",
            "_model_module_version": "1.5.0",
            "_model_name": "FloatProgressModel",
            "_view_count": null,
            "_view_module": "@jupyter-widgets/controls",
            "_view_module_version": "1.5.0",
            "_view_name": "ProgressView",
            "bar_style": "success",
            "description": "",
            "description_tooltip": null,
            "layout": "IPY_MODEL_fd62b3c66bd94bca9f5bd43e7eb54ef6",
            "max": 3,
            "min": 0,
            "orientation": "horizontal",
            "style": "IPY_MODEL_ec95a73f404b482493cb321baa92a772",
            "value": 3
          }
        },
        "875c241414234c5197de7ac24bafaed1": {
          "model_module": "@jupyter-widgets/controls",
          "model_module_version": "1.5.0",
          "model_name": "HTMLModel",
          "state": {
            "_dom_classes": [],
            "_model_module": "@jupyter-widgets/controls",
            "_model_module_version": "1.5.0",
            "_model_name": "HTMLModel",
            "_view_count": null,
            "_view_module": "@jupyter-widgets/controls",
            "_view_module_version": "1.5.0",
            "_view_name": "HTMLView",
            "description": "",
            "description_tooltip": null,
            "layout": "IPY_MODEL_bb723e3d908b4f6cadafd0714a401924",
            "placeholder": "​",
            "style": "IPY_MODEL_115c079413ad45fca88fc502f7bc718b",
            "value": "Loading checkpoint shards: 100%"
          }
        },
        "89fecc56898244418cfbe4509d62a738": {
          "model_module": "@jupyter-widgets/controls",
          "model_module_version": "1.5.0",
          "model_name": "ProgressStyleModel",
          "state": {
            "_model_module": "@jupyter-widgets/controls",
            "_model_module_version": "1.5.0",
            "_model_name": "ProgressStyleModel",
            "_view_count": null,
            "_view_module": "@jupyter-widgets/base",
            "_view_module_version": "1.2.0",
            "_view_name": "StyleView",
            "bar_color": null,
            "description_width": ""
          }
        },
        "8ddeccddc79a466f882969d523c18102": {
          "model_module": "@jupyter-widgets/controls",
          "model_module_version": "1.5.0",
          "model_name": "HBoxModel",
          "state": {
            "_dom_classes": [],
            "_model_module": "@jupyter-widgets/controls",
            "_model_module_version": "1.5.0",
            "_model_name": "HBoxModel",
            "_view_count": null,
            "_view_module": "@jupyter-widgets/controls",
            "_view_module_version": "1.5.0",
            "_view_name": "HBoxView",
            "box_style": "",
            "children": [
              "IPY_MODEL_6f239958bba54fb7aa765eab90700bda",
              "IPY_MODEL_8362a13564db4a95b8356570f53aa6b3",
              "IPY_MODEL_c69fd843f6494f2f9c94f31f7f513f60"
            ],
            "layout": "IPY_MODEL_d4b9f8c2b7d846488d7bce50c7063846"
          }
        },
        "8e8e89ecfd284b18b5e4033360d7b0db": {
          "model_module": "@jupyter-widgets/base",
          "model_module_version": "1.2.0",
          "model_name": "LayoutModel",
          "state": {
            "_model_module": "@jupyter-widgets/base",
            "_model_module_version": "1.2.0",
            "_model_name": "LayoutModel",
            "_view_count": null,
            "_view_module": "@jupyter-widgets/base",
            "_view_module_version": "1.2.0",
            "_view_name": "LayoutView",
            "align_content": null,
            "align_items": null,
            "align_self": null,
            "border": null,
            "bottom": null,
            "display": null,
            "flex": null,
            "flex_flow": null,
            "grid_area": null,
            "grid_auto_columns": null,
            "grid_auto_flow": null,
            "grid_auto_rows": null,
            "grid_column": null,
            "grid_gap": null,
            "grid_row": null,
            "grid_template_areas": null,
            "grid_template_columns": null,
            "grid_template_rows": null,
            "height": null,
            "justify_content": null,
            "justify_items": null,
            "left": null,
            "margin": null,
            "max_height": null,
            "max_width": null,
            "min_height": null,
            "min_width": null,
            "object_fit": null,
            "object_position": null,
            "order": null,
            "overflow": null,
            "overflow_x": null,
            "overflow_y": null,
            "padding": null,
            "right": null,
            "top": null,
            "visibility": null,
            "width": null
          }
        },
        "922842d3e1994c8bae0cced20577469e": {
          "model_module": "@jupyter-widgets/controls",
          "model_module_version": "1.5.0",
          "model_name": "HTMLModel",
          "state": {
            "_dom_classes": [],
            "_model_module": "@jupyter-widgets/controls",
            "_model_module_version": "1.5.0",
            "_model_name": "HTMLModel",
            "_view_count": null,
            "_view_module": "@jupyter-widgets/controls",
            "_view_module_version": "1.5.0",
            "_view_name": "HTMLView",
            "description": "",
            "description_tooltip": null,
            "layout": "IPY_MODEL_e13207c45f4c47cca809888e18f9dd4d",
            "placeholder": "​",
            "style": "IPY_MODEL_3cbd615feff04153b4e74cf5f5ed7ac7",
            "value": "Downloading (…)cial_tokens_map.json: 100%"
          }
        },
        "92d0893bfce24e9abda13480d938673c": {
          "model_module": "@jupyter-widgets/controls",
          "model_module_version": "1.5.0",
          "model_name": "HTMLModel",
          "state": {
            "_dom_classes": [],
            "_model_module": "@jupyter-widgets/controls",
            "_model_module_version": "1.5.0",
            "_model_name": "HTMLModel",
            "_view_count": null,
            "_view_module": "@jupyter-widgets/controls",
            "_view_module_version": "1.5.0",
            "_view_name": "HTMLView",
            "description": "",
            "description_tooltip": null,
            "layout": "IPY_MODEL_eebd369e36a74c9fb8b32a5d76063677",
            "placeholder": "​",
            "style": "IPY_MODEL_e31b832cc91e4f0c9b253f32fdee116d",
            "value": "Downloading shards: 100%"
          }
        },
        "94e2511ac7434ac1980291d66a7d2b65": {
          "model_module": "@jupyter-widgets/controls",
          "model_module_version": "1.5.0",
          "model_name": "HBoxModel",
          "state": {
            "_dom_classes": [],
            "_model_module": "@jupyter-widgets/controls",
            "_model_module_version": "1.5.0",
            "_model_name": "HBoxModel",
            "_view_count": null,
            "_view_module": "@jupyter-widgets/controls",
            "_view_module_version": "1.5.0",
            "_view_name": "HBoxView",
            "box_style": "",
            "children": [
              "IPY_MODEL_c5745e2c54204010bbf6aaec146e99a2",
              "IPY_MODEL_9a945ef3bbd74de8903d28eebe76af49",
              "IPY_MODEL_22c5953c9338449c8777b05a9cfdff4a"
            ],
            "layout": "IPY_MODEL_4d85422bdceb42388ac1edf94624019c"
          }
        },
        "9a56649d7ff945a78f21c909dc9b00b3": {
          "model_module": "@jupyter-widgets/base",
          "model_module_version": "1.2.0",
          "model_name": "LayoutModel",
          "state": {
            "_model_module": "@jupyter-widgets/base",
            "_model_module_version": "1.2.0",
            "_model_name": "LayoutModel",
            "_view_count": null,
            "_view_module": "@jupyter-widgets/base",
            "_view_module_version": "1.2.0",
            "_view_name": "LayoutView",
            "align_content": null,
            "align_items": null,
            "align_self": null,
            "border": null,
            "bottom": null,
            "display": null,
            "flex": null,
            "flex_flow": null,
            "grid_area": null,
            "grid_auto_columns": null,
            "grid_auto_flow": null,
            "grid_auto_rows": null,
            "grid_column": null,
            "grid_gap": null,
            "grid_row": null,
            "grid_template_areas": null,
            "grid_template_columns": null,
            "grid_template_rows": null,
            "height": null,
            "justify_content": null,
            "justify_items": null,
            "left": null,
            "margin": null,
            "max_height": null,
            "max_width": null,
            "min_height": null,
            "min_width": null,
            "object_fit": null,
            "object_position": null,
            "order": null,
            "overflow": null,
            "overflow_x": null,
            "overflow_y": null,
            "padding": null,
            "right": null,
            "top": null,
            "visibility": null,
            "width": null
          }
        },
        "9a945ef3bbd74de8903d28eebe76af49": {
          "model_module": "@jupyter-widgets/controls",
          "model_module_version": "1.5.0",
          "model_name": "FloatProgressModel",
          "state": {
            "_dom_classes": [],
            "_model_module": "@jupyter-widgets/controls",
            "_model_module_version": "1.5.0",
            "_model_name": "FloatProgressModel",
            "_view_count": null,
            "_view_module": "@jupyter-widgets/controls",
            "_view_module_version": "1.5.0",
            "_view_name": "ProgressView",
            "bar_style": "success",
            "description": "",
            "description_tooltip": null,
            "layout": "IPY_MODEL_76241c8a90444857beed0303af99c494",
            "max": 1842767,
            "min": 0,
            "orientation": "horizontal",
            "style": "IPY_MODEL_89fecc56898244418cfbe4509d62a738",
            "value": 1842767
          }
        },
        "9b3b2b176520487da4450ef368c7de83": {
          "model_module": "@jupyter-widgets/controls",
          "model_module_version": "1.5.0",
          "model_name": "FloatProgressModel",
          "state": {
            "_dom_classes": [],
            "_model_module": "@jupyter-widgets/controls",
            "_model_module_version": "1.5.0",
            "_model_name": "FloatProgressModel",
            "_view_count": null,
            "_view_module": "@jupyter-widgets/controls",
            "_view_module_version": "1.5.0",
            "_view_name": "ProgressView",
            "bar_style": "success",
            "description": "",
            "description_tooltip": null,
            "layout": "IPY_MODEL_ba5b2ad975cb41408ff30074c307b6a8",
            "max": 9904129368,
            "min": 0,
            "orientation": "horizontal",
            "style": "IPY_MODEL_62c74e76bba64d7896f6cd85c1cb7222",
            "value": 9904129368
          }
        },
        "9e0e23fa342743f5befd2488d8c1eefd": {
          "model_module": "@jupyter-widgets/base",
          "model_module_version": "1.2.0",
          "model_name": "LayoutModel",
          "state": {
            "_model_module": "@jupyter-widgets/base",
            "_model_module_version": "1.2.0",
            "_model_name": "LayoutModel",
            "_view_count": null,
            "_view_module": "@jupyter-widgets/base",
            "_view_module_version": "1.2.0",
            "_view_name": "LayoutView",
            "align_content": null,
            "align_items": null,
            "align_self": null,
            "border": null,
            "bottom": null,
            "display": null,
            "flex": null,
            "flex_flow": null,
            "grid_area": null,
            "grid_auto_columns": null,
            "grid_auto_flow": null,
            "grid_auto_rows": null,
            "grid_column": null,
            "grid_gap": null,
            "grid_row": null,
            "grid_template_areas": null,
            "grid_template_columns": null,
            "grid_template_rows": null,
            "height": null,
            "justify_content": null,
            "justify_items": null,
            "left": null,
            "margin": null,
            "max_height": null,
            "max_width": null,
            "min_height": null,
            "min_width": null,
            "object_fit": null,
            "object_position": null,
            "order": null,
            "overflow": null,
            "overflow_x": null,
            "overflow_y": null,
            "padding": null,
            "right": null,
            "top": null,
            "visibility": null,
            "width": null
          }
        },
        "a04f067c0e704a53a2a4bbc1de68a4a7": {
          "model_module": "@jupyter-widgets/controls",
          "model_module_version": "1.5.0",
          "model_name": "HTMLModel",
          "state": {
            "_dom_classes": [],
            "_model_module": "@jupyter-widgets/controls",
            "_model_module_version": "1.5.0",
            "_model_name": "HTMLModel",
            "_view_count": null,
            "_view_module": "@jupyter-widgets/controls",
            "_view_module_version": "1.5.0",
            "_view_name": "HTMLView",
            "description": "",
            "description_tooltip": null,
            "layout": "IPY_MODEL_24d4a7bed5204e6aa4d605dd252f74a3",
            "placeholder": "​",
            "style": "IPY_MODEL_33e569e15d6248989656c1a1ce6cebeb",
            "value": " 500k/500k [00:00&lt;00:00, 8.14MB/s]"
          }
        },
        "a5782cce6ad249648ae3fe34f1ce7e58": {
          "model_module": "@jupyter-widgets/controls",
          "model_module_version": "1.5.0",
          "model_name": "HTMLModel",
          "state": {
            "_dom_classes": [],
            "_model_module": "@jupyter-widgets/controls",
            "_model_module_version": "1.5.0",
            "_model_name": "HTMLModel",
            "_view_count": null,
            "_view_module": "@jupyter-widgets/controls",
            "_view_module_version": "1.5.0",
            "_view_name": "HTMLView",
            "description": "",
            "description_tooltip": null,
            "layout": "IPY_MODEL_20efe88ca043459c88f245646aefe00a",
            "placeholder": "​",
            "style": "IPY_MODEL_c3a6ec39b2b042c9bdb03bde73437811",
            "value": "Downloading (…)of-00003.safetensors: 100%"
          }
        },
        "a5c03bbcb0ff42c69096df07da5130b7": {
          "model_module": "@jupyter-widgets/controls",
          "model_module_version": "1.5.0",
          "model_name": "HBoxModel",
          "state": {
            "_dom_classes": [],
            "_model_module": "@jupyter-widgets/controls",
            "_model_module_version": "1.5.0",
            "_model_name": "HBoxModel",
            "_view_count": null,
            "_view_module": "@jupyter-widgets/controls",
            "_view_module_version": "1.5.0",
            "_view_name": "HBoxView",
            "box_style": "",
            "children": [
              "IPY_MODEL_922842d3e1994c8bae0cced20577469e",
              "IPY_MODEL_38dea41a10fe4c4287aec674765609a0",
              "IPY_MODEL_c6dd6c4192454d1c915d0f115859f50d"
            ],
            "layout": "IPY_MODEL_248ec19f070341089b82199c60865015"
          }
        },
        "ace4b449ff87485c87ee164bda10a0dd": {
          "model_module": "@jupyter-widgets/base",
          "model_module_version": "1.2.0",
          "model_name": "LayoutModel",
          "state": {
            "_model_module": "@jupyter-widgets/base",
            "_model_module_version": "1.2.0",
            "_model_name": "LayoutModel",
            "_view_count": null,
            "_view_module": "@jupyter-widgets/base",
            "_view_module_version": "1.2.0",
            "_view_name": "LayoutView",
            "align_content": null,
            "align_items": null,
            "align_self": null,
            "border": null,
            "bottom": null,
            "display": null,
            "flex": null,
            "flex_flow": null,
            "grid_area": null,
            "grid_auto_columns": null,
            "grid_auto_flow": null,
            "grid_auto_rows": null,
            "grid_column": null,
            "grid_gap": null,
            "grid_row": null,
            "grid_template_areas": null,
            "grid_template_columns": null,
            "grid_template_rows": null,
            "height": null,
            "justify_content": null,
            "justify_items": null,
            "left": null,
            "margin": null,
            "max_height": null,
            "max_width": null,
            "min_height": null,
            "min_width": null,
            "object_fit": null,
            "object_position": null,
            "order": null,
            "overflow": null,
            "overflow_x": null,
            "overflow_y": null,
            "padding": null,
            "right": null,
            "top": null,
            "visibility": null,
            "width": null
          }
        },
        "b3d11d37553c495eb137b35af057993c": {
          "model_module": "@jupyter-widgets/base",
          "model_module_version": "1.2.0",
          "model_name": "LayoutModel",
          "state": {
            "_model_module": "@jupyter-widgets/base",
            "_model_module_version": "1.2.0",
            "_model_name": "LayoutModel",
            "_view_count": null,
            "_view_module": "@jupyter-widgets/base",
            "_view_module_version": "1.2.0",
            "_view_name": "LayoutView",
            "align_content": null,
            "align_items": null,
            "align_self": null,
            "border": null,
            "bottom": null,
            "display": null,
            "flex": null,
            "flex_flow": null,
            "grid_area": null,
            "grid_auto_columns": null,
            "grid_auto_flow": null,
            "grid_auto_rows": null,
            "grid_column": null,
            "grid_gap": null,
            "grid_row": null,
            "grid_template_areas": null,
            "grid_template_columns": null,
            "grid_template_rows": null,
            "height": null,
            "justify_content": null,
            "justify_items": null,
            "left": null,
            "margin": null,
            "max_height": null,
            "max_width": null,
            "min_height": null,
            "min_width": null,
            "object_fit": null,
            "object_position": null,
            "order": null,
            "overflow": null,
            "overflow_x": null,
            "overflow_y": null,
            "padding": null,
            "right": null,
            "top": null,
            "visibility": null,
            "width": null
          }
        },
        "b547127bc6e64a6fa956d9e43100522c": {
          "model_module": "@jupyter-widgets/controls",
          "model_module_version": "1.5.0",
          "model_name": "HTMLModel",
          "state": {
            "_dom_classes": [],
            "_model_module": "@jupyter-widgets/controls",
            "_model_module_version": "1.5.0",
            "_model_name": "HTMLModel",
            "_view_count": null,
            "_view_module": "@jupyter-widgets/controls",
            "_view_module_version": "1.5.0",
            "_view_name": "HTMLView",
            "description": "",
            "description_tooltip": null,
            "layout": "IPY_MODEL_ace4b449ff87485c87ee164bda10a0dd",
            "placeholder": "​",
            "style": "IPY_MODEL_74ce0ccca7b64db28a3a5ed592f19386",
            "value": " 9.90G/9.90G [01:54&lt;00:00, 164MB/s]"
          }
        },
        "b6b15cc3d48e48c98eeaa83344eeef1a": {
          "model_module": "@jupyter-widgets/controls",
          "model_module_version": "1.5.0",
          "model_name": "DescriptionStyleModel",
          "state": {
            "_model_module": "@jupyter-widgets/controls",
            "_model_module_version": "1.5.0",
            "_model_name": "DescriptionStyleModel",
            "_view_count": null,
            "_view_module": "@jupyter-widgets/base",
            "_view_module_version": "1.2.0",
            "_view_name": "StyleView",
            "description_width": ""
          }
        },
        "b9747ad807994c35854afa446a1b4361": {
          "model_module": "@jupyter-widgets/base",
          "model_module_version": "1.2.0",
          "model_name": "LayoutModel",
          "state": {
            "_model_module": "@jupyter-widgets/base",
            "_model_module_version": "1.2.0",
            "_model_name": "LayoutModel",
            "_view_count": null,
            "_view_module": "@jupyter-widgets/base",
            "_view_module_version": "1.2.0",
            "_view_name": "LayoutView",
            "align_content": null,
            "align_items": null,
            "align_self": null,
            "border": null,
            "bottom": null,
            "display": null,
            "flex": null,
            "flex_flow": null,
            "grid_area": null,
            "grid_auto_columns": null,
            "grid_auto_flow": null,
            "grid_auto_rows": null,
            "grid_column": null,
            "grid_gap": null,
            "grid_row": null,
            "grid_template_areas": null,
            "grid_template_columns": null,
            "grid_template_rows": null,
            "height": null,
            "justify_content": null,
            "justify_items": null,
            "left": null,
            "margin": null,
            "max_height": null,
            "max_width": null,
            "min_height": null,
            "min_width": null,
            "object_fit": null,
            "object_position": null,
            "order": null,
            "overflow": null,
            "overflow_x": null,
            "overflow_y": null,
            "padding": null,
            "right": null,
            "top": null,
            "visibility": null,
            "width": null
          }
        },
        "ba5b2ad975cb41408ff30074c307b6a8": {
          "model_module": "@jupyter-widgets/base",
          "model_module_version": "1.2.0",
          "model_name": "LayoutModel",
          "state": {
            "_model_module": "@jupyter-widgets/base",
            "_model_module_version": "1.2.0",
            "_model_name": "LayoutModel",
            "_view_count": null,
            "_view_module": "@jupyter-widgets/base",
            "_view_module_version": "1.2.0",
            "_view_name": "LayoutView",
            "align_content": null,
            "align_items": null,
            "align_self": null,
            "border": null,
            "bottom": null,
            "display": null,
            "flex": null,
            "flex_flow": null,
            "grid_area": null,
            "grid_auto_columns": null,
            "grid_auto_flow": null,
            "grid_auto_rows": null,
            "grid_column": null,
            "grid_gap": null,
            "grid_row": null,
            "grid_template_areas": null,
            "grid_template_columns": null,
            "grid_template_rows": null,
            "height": null,
            "justify_content": null,
            "justify_items": null,
            "left": null,
            "margin": null,
            "max_height": null,
            "max_width": null,
            "min_height": null,
            "min_width": null,
            "object_fit": null,
            "object_position": null,
            "order": null,
            "overflow": null,
            "overflow_x": null,
            "overflow_y": null,
            "padding": null,
            "right": null,
            "top": null,
            "visibility": null,
            "width": null
          }
        },
        "baca521808a64889b1d443f18e4a54a5": {
          "model_module": "@jupyter-widgets/controls",
          "model_module_version": "1.5.0",
          "model_name": "DescriptionStyleModel",
          "state": {
            "_model_module": "@jupyter-widgets/controls",
            "_model_module_version": "1.5.0",
            "_model_name": "DescriptionStyleModel",
            "_view_count": null,
            "_view_module": "@jupyter-widgets/base",
            "_view_module_version": "1.2.0",
            "_view_name": "StyleView",
            "description_width": ""
          }
        },
        "bb6fbb35d9364a509149112d14c1aa60": {
          "model_module": "@jupyter-widgets/controls",
          "model_module_version": "1.5.0",
          "model_name": "FloatProgressModel",
          "state": {
            "_dom_classes": [],
            "_model_module": "@jupyter-widgets/controls",
            "_model_module_version": "1.5.0",
            "_model_name": "FloatProgressModel",
            "_view_count": null,
            "_view_module": "@jupyter-widgets/controls",
            "_view_module_version": "1.5.0",
            "_view_name": "ProgressView",
            "bar_style": "success",
            "description": "",
            "description_tooltip": null,
            "layout": "IPY_MODEL_9e0e23fa342743f5befd2488d8c1eefd",
            "max": 1618,
            "min": 0,
            "orientation": "horizontal",
            "style": "IPY_MODEL_474c6842281447789c5aaceac8429284",
            "value": 1618
          }
        },
        "bb723e3d908b4f6cadafd0714a401924": {
          "model_module": "@jupyter-widgets/base",
          "model_module_version": "1.2.0",
          "model_name": "LayoutModel",
          "state": {
            "_model_module": "@jupyter-widgets/base",
            "_model_module_version": "1.2.0",
            "_model_name": "LayoutModel",
            "_view_count": null,
            "_view_module": "@jupyter-widgets/base",
            "_view_module_version": "1.2.0",
            "_view_name": "LayoutView",
            "align_content": null,
            "align_items": null,
            "align_self": null,
            "border": null,
            "bottom": null,
            "display": null,
            "flex": null,
            "flex_flow": null,
            "grid_area": null,
            "grid_auto_columns": null,
            "grid_auto_flow": null,
            "grid_auto_rows": null,
            "grid_column": null,
            "grid_gap": null,
            "grid_row": null,
            "grid_template_areas": null,
            "grid_template_columns": null,
            "grid_template_rows": null,
            "height": null,
            "justify_content": null,
            "justify_items": null,
            "left": null,
            "margin": null,
            "max_height": null,
            "max_width": null,
            "min_height": null,
            "min_width": null,
            "object_fit": null,
            "object_position": null,
            "order": null,
            "overflow": null,
            "overflow_x": null,
            "overflow_y": null,
            "padding": null,
            "right": null,
            "top": null,
            "visibility": null,
            "width": null
          }
        },
        "c0f37b83dd3748818d8178cf926a4852": {
          "model_module": "@jupyter-widgets/controls",
          "model_module_version": "1.5.0",
          "model_name": "HBoxModel",
          "state": {
            "_dom_classes": [],
            "_model_module": "@jupyter-widgets/controls",
            "_model_module_version": "1.5.0",
            "_model_name": "HBoxModel",
            "_view_count": null,
            "_view_module": "@jupyter-widgets/controls",
            "_view_module_version": "1.5.0",
            "_view_name": "HBoxView",
            "box_style": "",
            "children": [
              "IPY_MODEL_a5782cce6ad249648ae3fe34f1ce7e58",
              "IPY_MODEL_9b3b2b176520487da4450ef368c7de83",
              "IPY_MODEL_b547127bc6e64a6fa956d9e43100522c"
            ],
            "layout": "IPY_MODEL_4d415084f0374b849613e674365a6715"
          }
        },
        "c3a6ec39b2b042c9bdb03bde73437811": {
          "model_module": "@jupyter-widgets/controls",
          "model_module_version": "1.5.0",
          "model_name": "DescriptionStyleModel",
          "state": {
            "_model_module": "@jupyter-widgets/controls",
            "_model_module_version": "1.5.0",
            "_model_name": "DescriptionStyleModel",
            "_view_count": null,
            "_view_module": "@jupyter-widgets/base",
            "_view_module_version": "1.2.0",
            "_view_name": "StyleView",
            "description_width": ""
          }
        },
        "c5745e2c54204010bbf6aaec146e99a2": {
          "model_module": "@jupyter-widgets/controls",
          "model_module_version": "1.5.0",
          "model_name": "HTMLModel",
          "state": {
            "_dom_classes": [],
            "_model_module": "@jupyter-widgets/controls",
            "_model_module_version": "1.5.0",
            "_model_name": "HTMLModel",
            "_view_count": null,
            "_view_module": "@jupyter-widgets/controls",
            "_view_module_version": "1.5.0",
            "_view_name": "HTMLView",
            "description": "",
            "description_tooltip": null,
            "layout": "IPY_MODEL_59abf730af064f7f90843988276668b5",
            "placeholder": "​",
            "style": "IPY_MODEL_b6b15cc3d48e48c98eeaa83344eeef1a",
            "value": "Downloading (…)/main/tokenizer.json: 100%"
          }
        },
        "c581b90f2ed047afb76e6ba5bd9c27f7": {
          "model_module": "@jupyter-widgets/controls",
          "model_module_version": "1.5.0",
          "model_name": "DescriptionStyleModel",
          "state": {
            "_model_module": "@jupyter-widgets/controls",
            "_model_module_version": "1.5.0",
            "_model_name": "DescriptionStyleModel",
            "_view_count": null,
            "_view_module": "@jupyter-widgets/base",
            "_view_module_version": "1.2.0",
            "_view_name": "StyleView",
            "description_width": ""
          }
        },
        "c62afed1821e47d582b7c89e43ba86e4": {
          "model_module": "@jupyter-widgets/base",
          "model_module_version": "1.2.0",
          "model_name": "LayoutModel",
          "state": {
            "_model_module": "@jupyter-widgets/base",
            "_model_module_version": "1.2.0",
            "_model_name": "LayoutModel",
            "_view_count": null,
            "_view_module": "@jupyter-widgets/base",
            "_view_module_version": "1.2.0",
            "_view_name": "LayoutView",
            "align_content": null,
            "align_items": null,
            "align_self": null,
            "border": null,
            "bottom": null,
            "display": null,
            "flex": null,
            "flex_flow": null,
            "grid_area": null,
            "grid_auto_columns": null,
            "grid_auto_flow": null,
            "grid_auto_rows": null,
            "grid_column": null,
            "grid_gap": null,
            "grid_row": null,
            "grid_template_areas": null,
            "grid_template_columns": null,
            "grid_template_rows": null,
            "height": null,
            "justify_content": null,
            "justify_items": null,
            "left": null,
            "margin": null,
            "max_height": null,
            "max_width": null,
            "min_height": null,
            "min_width": null,
            "object_fit": null,
            "object_position": null,
            "order": null,
            "overflow": null,
            "overflow_x": null,
            "overflow_y": null,
            "padding": null,
            "right": null,
            "top": null,
            "visibility": null,
            "width": null
          }
        },
        "c69fd843f6494f2f9c94f31f7f513f60": {
          "model_module": "@jupyter-widgets/controls",
          "model_module_version": "1.5.0",
          "model_name": "HTMLModel",
          "state": {
            "_dom_classes": [],
            "_model_module": "@jupyter-widgets/controls",
            "_model_module_version": "1.5.0",
            "_model_name": "HTMLModel",
            "_view_count": null,
            "_view_module": "@jupyter-widgets/controls",
            "_view_module_version": "1.5.0",
            "_view_name": "HTMLView",
            "description": "",
            "description_tooltip": null,
            "layout": "IPY_MODEL_dbeeaefe9bcb45d2aa5251771dfe69cf",
            "placeholder": "​",
            "style": "IPY_MODEL_e63f878fcd04434989cf4c4284c4e809",
            "value": " 188/188 [00:00&lt;00:00, 10.7kB/s]"
          }
        },
        "c6dd6c4192454d1c915d0f115859f50d": {
          "model_module": "@jupyter-widgets/controls",
          "model_module_version": "1.5.0",
          "model_name": "HTMLModel",
          "state": {
            "_dom_classes": [],
            "_model_module": "@jupyter-widgets/controls",
            "_model_module_version": "1.5.0",
            "_model_name": "HTMLModel",
            "_view_count": null,
            "_view_module": "@jupyter-widgets/controls",
            "_view_module_version": "1.5.0",
            "_view_name": "HTMLView",
            "description": "",
            "description_tooltip": null,
            "layout": "IPY_MODEL_6181ee50b0884aeebb033ba347ab793b",
            "placeholder": "​",
            "style": "IPY_MODEL_09cb459b7aa4422f9c6cbac75a5ed067",
            "value": " 414/414 [00:00&lt;00:00, 26.1kB/s]"
          }
        },
        "c8b5c0629f5a47aabbe866cafc96905e": {
          "model_module": "@jupyter-widgets/controls",
          "model_module_version": "1.5.0",
          "model_name": "HBoxModel",
          "state": {
            "_dom_classes": [],
            "_model_module": "@jupyter-widgets/controls",
            "_model_module_version": "1.5.0",
            "_model_name": "HBoxModel",
            "_view_count": null,
            "_view_module": "@jupyter-widgets/controls",
            "_view_module_version": "1.5.0",
            "_view_name": "HBoxView",
            "box_style": "",
            "children": [
              "IPY_MODEL_92d0893bfce24e9abda13480d938673c",
              "IPY_MODEL_871a433344394afaab2c91cb46b57dff",
              "IPY_MODEL_3e204598b1d74222a05627f6d8573cdf"
            ],
            "layout": "IPY_MODEL_183c16ce00504e3f822d65c91dd2b5b7"
          }
        },
        "cc37abad2aa3413ba051ddd7bf75055b": {
          "model_module": "@jupyter-widgets/controls",
          "model_module_version": "1.5.0",
          "model_name": "HTMLModel",
          "state": {
            "_dom_classes": [],
            "_model_module": "@jupyter-widgets/controls",
            "_model_module_version": "1.5.0",
            "_model_name": "HTMLModel",
            "_view_count": null,
            "_view_module": "@jupyter-widgets/controls",
            "_view_module_version": "1.5.0",
            "_view_name": "HTMLView",
            "description": "",
            "description_tooltip": null,
            "layout": "IPY_MODEL_4998bd6b46bb4a8294f40ed7fc171b9f",
            "placeholder": "​",
            "style": "IPY_MODEL_c581b90f2ed047afb76e6ba5bd9c27f7",
            "value": "Downloading tokenizer.model: 100%"
          }
        },
        "cddb0856b10f4bc096f040cbbc1efb0e": {
          "model_module": "@jupyter-widgets/controls",
          "model_module_version": "1.5.0",
          "model_name": "HTMLModel",
          "state": {
            "_dom_classes": [],
            "_model_module": "@jupyter-widgets/controls",
            "_model_module_version": "1.5.0",
            "_model_name": "HTMLModel",
            "_view_count": null,
            "_view_module": "@jupyter-widgets/controls",
            "_view_module_version": "1.5.0",
            "_view_name": "HTMLView",
            "description": "",
            "description_tooltip": null,
            "layout": "IPY_MODEL_1997906c24d6466c88a1435717abe592",
            "placeholder": "​",
            "style": "IPY_MODEL_e949f47b2b0a4f2f9123b5338df6da01",
            "value": "Downloading (…)okenizer_config.json: 100%"
          }
        },
        "d43b7e84d9ea4873800cf10b19975c84": {
          "model_module": "@jupyter-widgets/base",
          "model_module_version": "1.2.0",
          "model_name": "LayoutModel",
          "state": {
            "_model_module": "@jupyter-widgets/base",
            "_model_module_version": "1.2.0",
            "_model_name": "LayoutModel",
            "_view_count": null,
            "_view_module": "@jupyter-widgets/base",
            "_view_module_version": "1.2.0",
            "_view_name": "LayoutView",
            "align_content": null,
            "align_items": null,
            "align_self": null,
            "border": null,
            "bottom": null,
            "display": null,
            "flex": null,
            "flex_flow": null,
            "grid_area": null,
            "grid_auto_columns": null,
            "grid_auto_flow": null,
            "grid_auto_rows": null,
            "grid_column": null,
            "grid_gap": null,
            "grid_row": null,
            "grid_template_areas": null,
            "grid_template_columns": null,
            "grid_template_rows": null,
            "height": null,
            "justify_content": null,
            "justify_items": null,
            "left": null,
            "margin": null,
            "max_height": null,
            "max_width": null,
            "min_height": null,
            "min_width": null,
            "object_fit": null,
            "object_position": null,
            "order": null,
            "overflow": null,
            "overflow_x": null,
            "overflow_y": null,
            "padding": null,
            "right": null,
            "top": null,
            "visibility": null,
            "width": null
          }
        },
        "d4b9f8c2b7d846488d7bce50c7063846": {
          "model_module": "@jupyter-widgets/base",
          "model_module_version": "1.2.0",
          "model_name": "LayoutModel",
          "state": {
            "_model_module": "@jupyter-widgets/base",
            "_model_module_version": "1.2.0",
            "_model_name": "LayoutModel",
            "_view_count": null,
            "_view_module": "@jupyter-widgets/base",
            "_view_module_version": "1.2.0",
            "_view_name": "LayoutView",
            "align_content": null,
            "align_items": null,
            "align_self": null,
            "border": null,
            "bottom": null,
            "display": null,
            "flex": null,
            "flex_flow": null,
            "grid_area": null,
            "grid_auto_columns": null,
            "grid_auto_flow": null,
            "grid_auto_rows": null,
            "grid_column": null,
            "grid_gap": null,
            "grid_row": null,
            "grid_template_areas": null,
            "grid_template_columns": null,
            "grid_template_rows": null,
            "height": null,
            "justify_content": null,
            "justify_items": null,
            "left": null,
            "margin": null,
            "max_height": null,
            "max_width": null,
            "min_height": null,
            "min_width": null,
            "object_fit": null,
            "object_position": null,
            "order": null,
            "overflow": null,
            "overflow_x": null,
            "overflow_y": null,
            "padding": null,
            "right": null,
            "top": null,
            "visibility": null,
            "width": null
          }
        },
        "daaec8c24cb146439b9e7e784bdfd619": {
          "model_module": "@jupyter-widgets/base",
          "model_module_version": "1.2.0",
          "model_name": "LayoutModel",
          "state": {
            "_model_module": "@jupyter-widgets/base",
            "_model_module_version": "1.2.0",
            "_model_name": "LayoutModel",
            "_view_count": null,
            "_view_module": "@jupyter-widgets/base",
            "_view_module_version": "1.2.0",
            "_view_name": "LayoutView",
            "align_content": null,
            "align_items": null,
            "align_self": null,
            "border": null,
            "bottom": null,
            "display": null,
            "flex": null,
            "flex_flow": null,
            "grid_area": null,
            "grid_auto_columns": null,
            "grid_auto_flow": null,
            "grid_auto_rows": null,
            "grid_column": null,
            "grid_gap": null,
            "grid_row": null,
            "grid_template_areas": null,
            "grid_template_columns": null,
            "grid_template_rows": null,
            "height": null,
            "justify_content": null,
            "justify_items": null,
            "left": null,
            "margin": null,
            "max_height": null,
            "max_width": null,
            "min_height": null,
            "min_width": null,
            "object_fit": null,
            "object_position": null,
            "order": null,
            "overflow": null,
            "overflow_x": null,
            "overflow_y": null,
            "padding": null,
            "right": null,
            "top": null,
            "visibility": null,
            "width": null
          }
        },
        "dbeeaefe9bcb45d2aa5251771dfe69cf": {
          "model_module": "@jupyter-widgets/base",
          "model_module_version": "1.2.0",
          "model_name": "LayoutModel",
          "state": {
            "_model_module": "@jupyter-widgets/base",
            "_model_module_version": "1.2.0",
            "_model_name": "LayoutModel",
            "_view_count": null,
            "_view_module": "@jupyter-widgets/base",
            "_view_module_version": "1.2.0",
            "_view_name": "LayoutView",
            "align_content": null,
            "align_items": null,
            "align_self": null,
            "border": null,
            "bottom": null,
            "display": null,
            "flex": null,
            "flex_flow": null,
            "grid_area": null,
            "grid_auto_columns": null,
            "grid_auto_flow": null,
            "grid_auto_rows": null,
            "grid_column": null,
            "grid_gap": null,
            "grid_row": null,
            "grid_template_areas": null,
            "grid_template_columns": null,
            "grid_template_rows": null,
            "height": null,
            "justify_content": null,
            "justify_items": null,
            "left": null,
            "margin": null,
            "max_height": null,
            "max_width": null,
            "min_height": null,
            "min_width": null,
            "object_fit": null,
            "object_position": null,
            "order": null,
            "overflow": null,
            "overflow_x": null,
            "overflow_y": null,
            "padding": null,
            "right": null,
            "top": null,
            "visibility": null,
            "width": null
          }
        },
        "dd43de4555d2450b8c80e9663de4f87f": {
          "model_module": "@jupyter-widgets/base",
          "model_module_version": "1.2.0",
          "model_name": "LayoutModel",
          "state": {
            "_model_module": "@jupyter-widgets/base",
            "_model_module_version": "1.2.0",
            "_model_name": "LayoutModel",
            "_view_count": null,
            "_view_module": "@jupyter-widgets/base",
            "_view_module_version": "1.2.0",
            "_view_name": "LayoutView",
            "align_content": null,
            "align_items": null,
            "align_self": null,
            "border": null,
            "bottom": null,
            "display": null,
            "flex": null,
            "flex_flow": null,
            "grid_area": null,
            "grid_auto_columns": null,
            "grid_auto_flow": null,
            "grid_auto_rows": null,
            "grid_column": null,
            "grid_gap": null,
            "grid_row": null,
            "grid_template_areas": null,
            "grid_template_columns": null,
            "grid_template_rows": null,
            "height": null,
            "justify_content": null,
            "justify_items": null,
            "left": null,
            "margin": null,
            "max_height": null,
            "max_width": null,
            "min_height": null,
            "min_width": null,
            "object_fit": null,
            "object_position": null,
            "order": null,
            "overflow": null,
            "overflow_x": null,
            "overflow_y": null,
            "padding": null,
            "right": null,
            "top": null,
            "visibility": null,
            "width": null
          }
        },
        "ddb1c8d763174ac489c39cd1a3518e7f": {
          "model_module": "@jupyter-widgets/controls",
          "model_module_version": "1.5.0",
          "model_name": "ProgressStyleModel",
          "state": {
            "_model_module": "@jupyter-widgets/controls",
            "_model_module_version": "1.5.0",
            "_model_name": "ProgressStyleModel",
            "_view_count": null,
            "_view_module": "@jupyter-widgets/base",
            "_view_module_version": "1.2.0",
            "_view_name": "StyleView",
            "bar_color": null,
            "description_width": ""
          }
        },
        "e13207c45f4c47cca809888e18f9dd4d": {
          "model_module": "@jupyter-widgets/base",
          "model_module_version": "1.2.0",
          "model_name": "LayoutModel",
          "state": {
            "_model_module": "@jupyter-widgets/base",
            "_model_module_version": "1.2.0",
            "_model_name": "LayoutModel",
            "_view_count": null,
            "_view_module": "@jupyter-widgets/base",
            "_view_module_version": "1.2.0",
            "_view_name": "LayoutView",
            "align_content": null,
            "align_items": null,
            "align_self": null,
            "border": null,
            "bottom": null,
            "display": null,
            "flex": null,
            "flex_flow": null,
            "grid_area": null,
            "grid_auto_columns": null,
            "grid_auto_flow": null,
            "grid_auto_rows": null,
            "grid_column": null,
            "grid_gap": null,
            "grid_row": null,
            "grid_template_areas": null,
            "grid_template_columns": null,
            "grid_template_rows": null,
            "height": null,
            "justify_content": null,
            "justify_items": null,
            "left": null,
            "margin": null,
            "max_height": null,
            "max_width": null,
            "min_height": null,
            "min_width": null,
            "object_fit": null,
            "object_position": null,
            "order": null,
            "overflow": null,
            "overflow_x": null,
            "overflow_y": null,
            "padding": null,
            "right": null,
            "top": null,
            "visibility": null,
            "width": null
          }
        },
        "e1e67803799c4dbeb23bb76318b70a27": {
          "model_module": "@jupyter-widgets/controls",
          "model_module_version": "1.5.0",
          "model_name": "FloatProgressModel",
          "state": {
            "_dom_classes": [],
            "_model_module": "@jupyter-widgets/controls",
            "_model_module_version": "1.5.0",
            "_model_name": "FloatProgressModel",
            "_view_count": null,
            "_view_module": "@jupyter-widgets/controls",
            "_view_module_version": "1.5.0",
            "_view_name": "ProgressView",
            "bar_style": "success",
            "description": "",
            "description_tooltip": null,
            "layout": "IPY_MODEL_dd43de4555d2450b8c80e9663de4f87f",
            "max": 3,
            "min": 0,
            "orientation": "horizontal",
            "style": "IPY_MODEL_f8dd19c62c844e24b8d8c216e3b1aca5",
            "value": 3
          }
        },
        "e31b832cc91e4f0c9b253f32fdee116d": {
          "model_module": "@jupyter-widgets/controls",
          "model_module_version": "1.5.0",
          "model_name": "DescriptionStyleModel",
          "state": {
            "_model_module": "@jupyter-widgets/controls",
            "_model_module_version": "1.5.0",
            "_model_name": "DescriptionStyleModel",
            "_view_count": null,
            "_view_module": "@jupyter-widgets/base",
            "_view_module_version": "1.2.0",
            "_view_name": "StyleView",
            "description_width": ""
          }
        },
        "e4e83a1c94a04fbaa071614a4a8ce36d": {
          "model_module": "@jupyter-widgets/base",
          "model_module_version": "1.2.0",
          "model_name": "LayoutModel",
          "state": {
            "_model_module": "@jupyter-widgets/base",
            "_model_module_version": "1.2.0",
            "_model_name": "LayoutModel",
            "_view_count": null,
            "_view_module": "@jupyter-widgets/base",
            "_view_module_version": "1.2.0",
            "_view_name": "LayoutView",
            "align_content": null,
            "align_items": null,
            "align_self": null,
            "border": null,
            "bottom": null,
            "display": null,
            "flex": null,
            "flex_flow": null,
            "grid_area": null,
            "grid_auto_columns": null,
            "grid_auto_flow": null,
            "grid_auto_rows": null,
            "grid_column": null,
            "grid_gap": null,
            "grid_row": null,
            "grid_template_areas": null,
            "grid_template_columns": null,
            "grid_template_rows": null,
            "height": null,
            "justify_content": null,
            "justify_items": null,
            "left": null,
            "margin": null,
            "max_height": null,
            "max_width": null,
            "min_height": null,
            "min_width": null,
            "object_fit": null,
            "object_position": null,
            "order": null,
            "overflow": null,
            "overflow_x": null,
            "overflow_y": null,
            "padding": null,
            "right": null,
            "top": null,
            "visibility": null,
            "width": null
          }
        },
        "e63f878fcd04434989cf4c4284c4e809": {
          "model_module": "@jupyter-widgets/controls",
          "model_module_version": "1.5.0",
          "model_name": "DescriptionStyleModel",
          "state": {
            "_model_module": "@jupyter-widgets/controls",
            "_model_module_version": "1.5.0",
            "_model_name": "DescriptionStyleModel",
            "_view_count": null,
            "_view_module": "@jupyter-widgets/base",
            "_view_module_version": "1.2.0",
            "_view_name": "StyleView",
            "description_width": ""
          }
        },
        "e949f47b2b0a4f2f9123b5338df6da01": {
          "model_module": "@jupyter-widgets/controls",
          "model_module_version": "1.5.0",
          "model_name": "DescriptionStyleModel",
          "state": {
            "_model_module": "@jupyter-widgets/controls",
            "_model_module_version": "1.5.0",
            "_model_name": "DescriptionStyleModel",
            "_view_count": null,
            "_view_module": "@jupyter-widgets/base",
            "_view_module_version": "1.2.0",
            "_view_name": "StyleView",
            "description_width": ""
          }
        },
        "ea43fed4314a43699aa34b47e1806c1d": {
          "model_module": "@jupyter-widgets/base",
          "model_module_version": "1.2.0",
          "model_name": "LayoutModel",
          "state": {
            "_model_module": "@jupyter-widgets/base",
            "_model_module_version": "1.2.0",
            "_model_name": "LayoutModel",
            "_view_count": null,
            "_view_module": "@jupyter-widgets/base",
            "_view_module_version": "1.2.0",
            "_view_name": "LayoutView",
            "align_content": null,
            "align_items": null,
            "align_self": null,
            "border": null,
            "bottom": null,
            "display": null,
            "flex": null,
            "flex_flow": null,
            "grid_area": null,
            "grid_auto_columns": null,
            "grid_auto_flow": null,
            "grid_auto_rows": null,
            "grid_column": null,
            "grid_gap": null,
            "grid_row": null,
            "grid_template_areas": null,
            "grid_template_columns": null,
            "grid_template_rows": null,
            "height": null,
            "justify_content": null,
            "justify_items": null,
            "left": null,
            "margin": null,
            "max_height": null,
            "max_width": null,
            "min_height": null,
            "min_width": null,
            "object_fit": null,
            "object_position": null,
            "order": null,
            "overflow": null,
            "overflow_x": null,
            "overflow_y": null,
            "padding": null,
            "right": null,
            "top": null,
            "visibility": null,
            "width": null
          }
        },
        "ec32f2252aee4385b0a3be4874757f56": {
          "model_module": "@jupyter-widgets/controls",
          "model_module_version": "1.5.0",
          "model_name": "DescriptionStyleModel",
          "state": {
            "_model_module": "@jupyter-widgets/controls",
            "_model_module_version": "1.5.0",
            "_model_name": "DescriptionStyleModel",
            "_view_count": null,
            "_view_module": "@jupyter-widgets/base",
            "_view_module_version": "1.2.0",
            "_view_name": "StyleView",
            "description_width": ""
          }
        },
        "ec95a73f404b482493cb321baa92a772": {
          "model_module": "@jupyter-widgets/controls",
          "model_module_version": "1.5.0",
          "model_name": "ProgressStyleModel",
          "state": {
            "_model_module": "@jupyter-widgets/controls",
            "_model_module_version": "1.5.0",
            "_model_name": "ProgressStyleModel",
            "_view_count": null,
            "_view_module": "@jupyter-widgets/base",
            "_view_module_version": "1.2.0",
            "_view_name": "StyleView",
            "bar_color": null,
            "description_width": ""
          }
        },
        "eebd369e36a74c9fb8b32a5d76063677": {
          "model_module": "@jupyter-widgets/base",
          "model_module_version": "1.2.0",
          "model_name": "LayoutModel",
          "state": {
            "_model_module": "@jupyter-widgets/base",
            "_model_module_version": "1.2.0",
            "_model_name": "LayoutModel",
            "_view_count": null,
            "_view_module": "@jupyter-widgets/base",
            "_view_module_version": "1.2.0",
            "_view_name": "LayoutView",
            "align_content": null,
            "align_items": null,
            "align_self": null,
            "border": null,
            "bottom": null,
            "display": null,
            "flex": null,
            "flex_flow": null,
            "grid_area": null,
            "grid_auto_columns": null,
            "grid_auto_flow": null,
            "grid_auto_rows": null,
            "grid_column": null,
            "grid_gap": null,
            "grid_row": null,
            "grid_template_areas": null,
            "grid_template_columns": null,
            "grid_template_rows": null,
            "height": null,
            "justify_content": null,
            "justify_items": null,
            "left": null,
            "margin": null,
            "max_height": null,
            "max_width": null,
            "min_height": null,
            "min_width": null,
            "object_fit": null,
            "object_position": null,
            "order": null,
            "overflow": null,
            "overflow_x": null,
            "overflow_y": null,
            "padding": null,
            "right": null,
            "top": null,
            "visibility": null,
            "width": null
          }
        },
        "f30e42a21c554b2ebdf0567dddbe7f35": {
          "model_module": "@jupyter-widgets/base",
          "model_module_version": "1.2.0",
          "model_name": "LayoutModel",
          "state": {
            "_model_module": "@jupyter-widgets/base",
            "_model_module_version": "1.2.0",
            "_model_name": "LayoutModel",
            "_view_count": null,
            "_view_module": "@jupyter-widgets/base",
            "_view_module_version": "1.2.0",
            "_view_name": "LayoutView",
            "align_content": null,
            "align_items": null,
            "align_self": null,
            "border": null,
            "bottom": null,
            "display": null,
            "flex": null,
            "flex_flow": null,
            "grid_area": null,
            "grid_auto_columns": null,
            "grid_auto_flow": null,
            "grid_auto_rows": null,
            "grid_column": null,
            "grid_gap": null,
            "grid_row": null,
            "grid_template_areas": null,
            "grid_template_columns": null,
            "grid_template_rows": null,
            "height": null,
            "justify_content": null,
            "justify_items": null,
            "left": null,
            "margin": null,
            "max_height": null,
            "max_width": null,
            "min_height": null,
            "min_width": null,
            "object_fit": null,
            "object_position": null,
            "order": null,
            "overflow": null,
            "overflow_x": null,
            "overflow_y": null,
            "padding": null,
            "right": null,
            "top": null,
            "visibility": null,
            "width": null
          }
        },
        "f8dd19c62c844e24b8d8c216e3b1aca5": {
          "model_module": "@jupyter-widgets/controls",
          "model_module_version": "1.5.0",
          "model_name": "ProgressStyleModel",
          "state": {
            "_model_module": "@jupyter-widgets/controls",
            "_model_module_version": "1.5.0",
            "_model_name": "ProgressStyleModel",
            "_view_count": null,
            "_view_module": "@jupyter-widgets/base",
            "_view_module_version": "1.2.0",
            "_view_name": "StyleView",
            "bar_color": null,
            "description_width": ""
          }
        },
        "fae4ffbb2732463080a5606e36175ef5": {
          "model_module": "@jupyter-widgets/controls",
          "model_module_version": "1.5.0",
          "model_name": "HBoxModel",
          "state": {
            "_dom_classes": [],
            "_model_module": "@jupyter-widgets/controls",
            "_model_module_version": "1.5.0",
            "_model_name": "HBoxModel",
            "_view_count": null,
            "_view_module": "@jupyter-widgets/controls",
            "_view_module_version": "1.5.0",
            "_view_name": "HBoxView",
            "box_style": "",
            "children": [
              "IPY_MODEL_cddb0856b10f4bc096f040cbbc1efb0e",
              "IPY_MODEL_bb6fbb35d9364a509149112d14c1aa60",
              "IPY_MODEL_3b63ecb60c384efda0508985c4811a1c"
            ],
            "layout": "IPY_MODEL_9a56649d7ff945a78f21c909dc9b00b3"
          }
        },
        "fcaf5b3fa98d4241a75cc1dcff9bb56e": {
          "model_module": "@jupyter-widgets/base",
          "model_module_version": "1.2.0",
          "model_name": "LayoutModel",
          "state": {
            "_model_module": "@jupyter-widgets/base",
            "_model_module_version": "1.2.0",
            "_model_name": "LayoutModel",
            "_view_count": null,
            "_view_module": "@jupyter-widgets/base",
            "_view_module_version": "1.2.0",
            "_view_name": "LayoutView",
            "align_content": null,
            "align_items": null,
            "align_self": null,
            "border": null,
            "bottom": null,
            "display": null,
            "flex": null,
            "flex_flow": null,
            "grid_area": null,
            "grid_auto_columns": null,
            "grid_auto_flow": null,
            "grid_auto_rows": null,
            "grid_column": null,
            "grid_gap": null,
            "grid_row": null,
            "grid_template_areas": null,
            "grid_template_columns": null,
            "grid_template_rows": null,
            "height": null,
            "justify_content": null,
            "justify_items": null,
            "left": null,
            "margin": null,
            "max_height": null,
            "max_width": null,
            "min_height": null,
            "min_width": null,
            "object_fit": null,
            "object_position": null,
            "order": null,
            "overflow": null,
            "overflow_x": null,
            "overflow_y": null,
            "padding": null,
            "right": null,
            "top": null,
            "visibility": null,
            "width": null
          }
        },
        "fd62b3c66bd94bca9f5bd43e7eb54ef6": {
          "model_module": "@jupyter-widgets/base",
          "model_module_version": "1.2.0",
          "model_name": "LayoutModel",
          "state": {
            "_model_module": "@jupyter-widgets/base",
            "_model_module_version": "1.2.0",
            "_model_name": "LayoutModel",
            "_view_count": null,
            "_view_module": "@jupyter-widgets/base",
            "_view_module_version": "1.2.0",
            "_view_name": "LayoutView",
            "align_content": null,
            "align_items": null,
            "align_self": null,
            "border": null,
            "bottom": null,
            "display": null,
            "flex": null,
            "flex_flow": null,
            "grid_area": null,
            "grid_auto_columns": null,
            "grid_auto_flow": null,
            "grid_auto_rows": null,
            "grid_column": null,
            "grid_gap": null,
            "grid_row": null,
            "grid_template_areas": null,
            "grid_template_columns": null,
            "grid_template_rows": null,
            "height": null,
            "justify_content": null,
            "justify_items": null,
            "left": null,
            "margin": null,
            "max_height": null,
            "max_width": null,
            "min_height": null,
            "min_width": null,
            "object_fit": null,
            "object_position": null,
            "order": null,
            "overflow": null,
            "overflow_x": null,
            "overflow_y": null,
            "padding": null,
            "right": null,
            "top": null,
            "visibility": null,
            "width": null
          }
        }
      }
    }
  },
  "nbformat": 4,
  "nbformat_minor": 0
}
