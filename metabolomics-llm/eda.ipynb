{
 "cells": [
  {
   "cell_type": "code",
   "execution_count": 1,
   "metadata": {},
   "outputs": [],
   "source": [
    "import matplotlib.pyplot as plt\n",
    "import numpy as np\n",
    "import pandas as pd\n",
    "from utils import get_works_from_years"
   ]
  },
  {
   "cell_type": "code",
   "execution_count": 2,
   "metadata": {},
   "outputs": [],
   "source": [
    "# Get data\n",
    "df = get_works_from_years(start_year=2000, end_year=2023)"
   ]
  },
  {
   "cell_type": "code",
   "execution_count": 3,
   "metadata": {},
   "outputs": [
    {
     "data": {
      "text/plain": [
       "(22049, 7)"
      ]
     },
     "execution_count": 3,
     "metadata": {},
     "output_type": "execute_result"
    }
   ],
   "source": [
    "df.shape"
   ]
  },
  {
   "cell_type": "code",
   "execution_count": 4,
   "metadata": {},
   "outputs": [
    {
     "data": {
      "text/html": [
       "<div>\n",
       "<style scoped>\n",
       "    .dataframe tbody tr th:only-of-type {\n",
       "        vertical-align: middle;\n",
       "    }\n",
       "\n",
       "    .dataframe tbody tr th {\n",
       "        vertical-align: top;\n",
       "    }\n",
       "\n",
       "    .dataframe thead th {\n",
       "        text-align: right;\n",
       "    }\n",
       "</style>\n",
       "<table border=\"1\" class=\"dataframe\">\n",
       "  <thead>\n",
       "    <tr style=\"text-align: right;\">\n",
       "      <th></th>\n",
       "      <th>title</th>\n",
       "      <th>type</th>\n",
       "      <th>citations</th>\n",
       "      <th>published_date</th>\n",
       "      <th>updated_date</th>\n",
       "      <th>text</th>\n",
       "      <th>url</th>\n",
       "    </tr>\n",
       "    <tr>\n",
       "      <th>id</th>\n",
       "      <th></th>\n",
       "      <th></th>\n",
       "      <th></th>\n",
       "      <th></th>\n",
       "      <th></th>\n",
       "      <th></th>\n",
       "      <th></th>\n",
       "    </tr>\n",
       "  </thead>\n",
       "  <tbody>\n",
       "    <tr>\n",
       "      <th>1333645</th>\n",
       "      <td>Communal weeding</td>\n",
       "      <td></td>\n",
       "      <td>None</td>\n",
       "      <td>2000-12-06T00:00:00</td>\n",
       "      <td>2019-12-02T14:00:48</td>\n",
       "      <td>http://genomebiology.com/2000/1/6/reports/4024...</td>\n",
       "      <td>https://core.ac.uk/download/pdf/3232542.pdf</td>\n",
       "    </tr>\n",
       "    <tr>\n",
       "      <th>123838892</th>\n",
       "      <td>Smart News, Issues 6, Summer 2001</td>\n",
       "      <td>research</td>\n",
       "      <td>None</td>\n",
       "      <td>2001-01-01T00:00:00</td>\n",
       "      <td>2022-05-16T16:13:54</td>\n",
       "      <td>Life SciencesCareers Thrivein IowaLife science...</td>\n",
       "      <td>https://core.ac.uk/download/11343694.pdf</td>\n",
       "    </tr>\n",
       "    <tr>\n",
       "      <th>3584178</th>\n",
       "      <td>Combining Genomics, Metabolome Analysis, and B...</td>\n",
       "      <td></td>\n",
       "      <td>None</td>\n",
       "      <td>2001-01-01T00:00:00</td>\n",
       "      <td>2021-03-26T22:54:07</td>\n",
       "      <td>Review Article\\nCombining genomics, metabolome...</td>\n",
       "      <td>https://core.ac.uk/download/pdf/8108090.pdf</td>\n",
       "    </tr>\n",
       "    <tr>\n",
       "      <th>214317</th>\n",
       "      <td>New Scientific and Technological Developments ...</td>\n",
       "      <td>research</td>\n",
       "      <td>None</td>\n",
       "      <td>2001-01-01T00:00:00</td>\n",
       "      <td>2022-03-16T07:31:13</td>\n",
       "      <td>\\n1 \\nNEW SCIENTIFIC AND TECHNOLOGICAL DEVELO...</td>\n",
       "      <td>https://core.ac.uk/download/6242.pdf</td>\n",
       "    </tr>\n",
       "    <tr>\n",
       "      <th>6610849</th>\n",
       "      <td>GENDB : a second generation genome annotation ...</td>\n",
       "      <td>unknown</td>\n",
       "      <td>None</td>\n",
       "      <td>2001-01-01T00:00:00</td>\n",
       "      <td>2022-01-12T22:33:13</td>\n",
       "      <td>Universität Bielefeld\\nTechnische Fakultät\\nAG...</td>\n",
       "      <td>https://core.ac.uk/download/15986698.pdf</td>\n",
       "    </tr>\n",
       "  </tbody>\n",
       "</table>\n",
       "</div>"
      ],
      "text/plain": [
       "                                                       title      type  \\\n",
       "id                                                                       \n",
       "1333645                                     Communal weeding             \n",
       "123838892                  Smart News, Issues 6, Summer 2001  research   \n",
       "3584178    Combining Genomics, Metabolome Analysis, and B...             \n",
       "214317     New Scientific and Technological Developments ...  research   \n",
       "6610849    GENDB : a second generation genome annotation ...   unknown   \n",
       "\n",
       "          citations       published_date         updated_date  \\\n",
       "id                                                              \n",
       "1333645        None  2000-12-06T00:00:00  2019-12-02T14:00:48   \n",
       "123838892      None  2001-01-01T00:00:00  2022-05-16T16:13:54   \n",
       "3584178        None  2001-01-01T00:00:00  2021-03-26T22:54:07   \n",
       "214317         None  2001-01-01T00:00:00  2022-03-16T07:31:13   \n",
       "6610849        None  2001-01-01T00:00:00  2022-01-12T22:33:13   \n",
       "\n",
       "                                                        text  \\\n",
       "id                                                             \n",
       "1333645    http://genomebiology.com/2000/1/6/reports/4024...   \n",
       "123838892  Life SciencesCareers Thrivein IowaLife science...   \n",
       "3584178    Review Article\\nCombining genomics, metabolome...   \n",
       "214317      \\n1 \\nNEW SCIENTIFIC AND TECHNOLOGICAL DEVELO...   \n",
       "6610849    Universität Bielefeld\\nTechnische Fakultät\\nAG...   \n",
       "\n",
       "                                                   url  \n",
       "id                                                      \n",
       "1333645    https://core.ac.uk/download/pdf/3232542.pdf  \n",
       "123838892     https://core.ac.uk/download/11343694.pdf  \n",
       "3584178    https://core.ac.uk/download/pdf/8108090.pdf  \n",
       "214317            https://core.ac.uk/download/6242.pdf  \n",
       "6610849       https://core.ac.uk/download/15986698.pdf  "
      ]
     },
     "execution_count": 4,
     "metadata": {},
     "output_type": "execute_result"
    }
   ],
   "source": [
    "df.head()"
   ]
  },
  {
   "cell_type": "markdown",
   "metadata": {},
   "source": [
    "# Data Types"
   ]
  },
  {
   "cell_type": "code",
   "execution_count": 5,
   "metadata": {},
   "outputs": [
    {
     "data": {
      "text/plain": [
       "title             object\n",
       "type              object\n",
       "citations         object\n",
       "published_date    object\n",
       "updated_date      object\n",
       "text              object\n",
       "url               object\n",
       "dtype: object"
      ]
     },
     "execution_count": 5,
     "metadata": {},
     "output_type": "execute_result"
    }
   ],
   "source": [
    "df.dtypes"
   ]
  },
  {
   "cell_type": "markdown",
   "metadata": {},
   "source": [
    "Will convert these to be more specific in handling of each feature below."
   ]
  },
  {
   "cell_type": "markdown",
   "metadata": {},
   "source": [
    "# Null Values"
   ]
  },
  {
   "cell_type": "code",
   "execution_count": 6,
   "metadata": {},
   "outputs": [
    {
     "data": {
      "text/plain": [
       "title             0.00\n",
       "type              0.93\n",
       "citations         1.00\n",
       "published_date    0.00\n",
       "updated_date      0.00\n",
       "text              0.01\n",
       "url               0.00\n",
       "dtype: float64"
      ]
     },
     "execution_count": 6,
     "metadata": {},
     "output_type": "execute_result"
    }
   ],
   "source": [
    "df = df.replace(\"\", None)\n",
    "na = df.isna()\n",
    "round(na.mean(), 2)"
   ]
  },
  {
   "cell_type": "markdown",
   "metadata": {},
   "source": [
    "# Duplicates"
   ]
  },
  {
   "cell_type": "markdown",
   "metadata": {},
   "source": [
    "We only care about knowing of duplicates in the text we will be using to train our model, so we need only check the column `text`."
   ]
  },
  {
   "cell_type": "code",
   "execution_count": 7,
   "metadata": {},
   "outputs": [],
   "source": [
    "def find_duplicates(df: pd.DataFrame, feature: str) -> pd.DataFrame:\n",
    "    assert feature in df.columns, f\"{feature} is not a feature in DataFrame.\"\n",
    "    duplicate_values = df[df[feature].duplicated() & df[feature].notna() & (df[feature] != \"\")][feature]\n",
    "    duplicates = df[df[feature].isin(duplicate_values)].sort_values(feature)\n",
    "    return duplicates"
   ]
  },
  {
   "cell_type": "code",
   "execution_count": 8,
   "metadata": {},
   "outputs": [
    {
     "data": {
      "text/html": [
       "<div>\n",
       "<style scoped>\n",
       "    .dataframe tbody tr th:only-of-type {\n",
       "        vertical-align: middle;\n",
       "    }\n",
       "\n",
       "    .dataframe tbody tr th {\n",
       "        vertical-align: top;\n",
       "    }\n",
       "\n",
       "    .dataframe thead th {\n",
       "        text-align: right;\n",
       "    }\n",
       "</style>\n",
       "<table border=\"1\" class=\"dataframe\">\n",
       "  <thead>\n",
       "    <tr style=\"text-align: right;\">\n",
       "      <th></th>\n",
       "      <th>title</th>\n",
       "      <th>type</th>\n",
       "      <th>citations</th>\n",
       "      <th>published_date</th>\n",
       "      <th>updated_date</th>\n",
       "      <th>text</th>\n",
       "      <th>url</th>\n",
       "    </tr>\n",
       "    <tr>\n",
       "      <th>id</th>\n",
       "      <th></th>\n",
       "      <th></th>\n",
       "      <th></th>\n",
       "      <th></th>\n",
       "      <th></th>\n",
       "      <th></th>\n",
       "      <th></th>\n",
       "    </tr>\n",
       "  </thead>\n",
       "  <tbody>\n",
       "    <tr>\n",
       "      <th>17897440</th>\n",
       "      <td>The Role of Persistent Organic Pollutants in O...</td>\n",
       "      <td>None</td>\n",
       "      <td>None</td>\n",
       "      <td>2022-01-01T00:00:00</td>\n",
       "      <td>2023-03-26T18:35:46</td>\n",
       "      <td>\u0001\u0002\u0003\u0001\u0004\u0005\u0006\u0007\b\u0001\u0001\u0002\u0003\u0004\u0005\u0006\u0007Citation: Aaseth, J.; Javorac...</td>\n",
       "      <td>https://core.ac.uk/download/511303485.pdf</td>\n",
       "    </tr>\n",
       "    <tr>\n",
       "      <th>139945166</th>\n",
       "      <td>The Role of Persistent Organic Pollutants in O...</td>\n",
       "      <td>None</td>\n",
       "      <td>None</td>\n",
       "      <td>2022-01-01T00:00:00</td>\n",
       "      <td>2023-03-02T22:21:18</td>\n",
       "      <td>\u0001\u0002\u0003\u0001\u0004\u0005\u0006\u0007\b\u0001\u0001\u0002\u0003\u0004\u0005\u0006\u0007Citation: Aaseth, J.; Javorac...</td>\n",
       "      <td>https://core.ac.uk/download/554651010.pdf</td>\n",
       "    </tr>\n",
       "    <tr>\n",
       "      <th>46207646</th>\n",
       "      <td>The Impact of the Quality of Nutrition and Lif...</td>\n",
       "      <td>None</td>\n",
       "      <td>None</td>\n",
       "      <td>2022-02-28T00:00:00</td>\n",
       "      <td>2023-02-11T02:48:35</td>\n",
       "      <td>\u0001\u0002\u0003\u0001\u0004\u0005\u0006\u0007\b\u0001\u0001\u0002\u0003\u0004\u0005\u0006\u0007Citation: Gama, M.I.; Pinto, ...</td>\n",
       "      <td>https://core.ac.uk/download/516521871.pdf</td>\n",
       "    </tr>\n",
       "    <tr>\n",
       "      <th>45586099</th>\n",
       "      <td>The Impact of the Quality of Nutrition and Lif...</td>\n",
       "      <td>None</td>\n",
       "      <td>None</td>\n",
       "      <td>2022-01-01T00:00:00</td>\n",
       "      <td>2023-04-05T02:05:43</td>\n",
       "      <td>\u0001\u0002\u0003\u0001\u0004\u0005\u0006\u0007\b\u0001\u0001\u0002\u0003\u0004\u0005\u0006\u0007Citation: Gama, M.I.; Pinto, ...</td>\n",
       "      <td>https://core.ac.uk/download/491626104.pdf</td>\n",
       "    </tr>\n",
       "    <tr>\n",
       "      <th>128452118</th>\n",
       "      <td>Metabolomic Approaches for Detection and Ident...</td>\n",
       "      <td>None</td>\n",
       "      <td>None</td>\n",
       "      <td>2022-01-01T00:00:00</td>\n",
       "      <td>2023-02-11T02:52:47</td>\n",
       "      <td>\u0001\u0002\u0003\u0001\u0004\u0005\u0006\u0007\b\u0001\u0001\u0002\u0003\u0004\u0005\u0006\u0007Citation: di Meo, N.A.; Loizz...</td>\n",
       "      <td>https://core.ac.uk/download/541259738.pdf</td>\n",
       "    </tr>\n",
       "    <tr>\n",
       "      <th>...</th>\n",
       "      <td>...</td>\n",
       "      <td>...</td>\n",
       "      <td>...</td>\n",
       "      <td>...</td>\n",
       "      <td>...</td>\n",
       "      <td>...</td>\n",
       "      <td>...</td>\n",
       "    </tr>\n",
       "    <tr>\n",
       "      <th>144698103</th>\n",
       "      <td>Estimates, trends, and drivers of the global b...</td>\n",
       "      <td>None</td>\n",
       "      <td>None</td>\n",
       "      <td>2022-01-01T00:00:00</td>\n",
       "      <td>2023-07-22T12:30:24</td>\n",
       "      <td>www.thelancet.com/planetary-health   Vol 6   J...</td>\n",
       "      <td>https://core.ac.uk/download/564141903.pdf</td>\n",
       "    </tr>\n",
       "    <tr>\n",
       "      <th>11182681</th>\n",
       "      <td>Special Issue on “fruit metabolism and metabol...</td>\n",
       "      <td>None</td>\n",
       "      <td>None</td>\n",
       "      <td>2020-01-01T00:00:00</td>\n",
       "      <td>2023-02-11T01:53:34</td>\n",
       "      <td>Metabolites 2020, 10, 230; doi:10.3390/metabo...</td>\n",
       "      <td>https://core.ac.uk/download/326023166.pdf</td>\n",
       "    </tr>\n",
       "    <tr>\n",
       "      <th>130735351</th>\n",
       "      <td>Special Issue on “fruit metabolism and metabol...</td>\n",
       "      <td>None</td>\n",
       "      <td>None</td>\n",
       "      <td>2020-06-01T01:00:00</td>\n",
       "      <td>2022-11-13T00:36:32</td>\n",
       "      <td>Metabolites 2020, 10, 230; doi:10.3390/metabo...</td>\n",
       "      <td>https://core.ac.uk/download/326023166.pdf</td>\n",
       "    </tr>\n",
       "    <tr>\n",
       "      <th>131969266</th>\n",
       "      <td>Hepatic encephalopathy: Novel insights into cl...</td>\n",
       "      <td>None</td>\n",
       "      <td>None</td>\n",
       "      <td>2020-12-01T00:00:00</td>\n",
       "      <td>2022-11-21T23:08:55</td>\n",
       "      <td>© 2020. This manuscript version is made availa...</td>\n",
       "      <td>https://core.ac.uk/download/346619555.pdf</td>\n",
       "    </tr>\n",
       "    <tr>\n",
       "      <th>17884568</th>\n",
       "      <td>Hepatic encephalopathy : novel insights into c...</td>\n",
       "      <td>None</td>\n",
       "      <td>None</td>\n",
       "      <td>2020-01-01T00:00:00</td>\n",
       "      <td>2022-11-21T23:08:55</td>\n",
       "      <td>© 2020. This manuscript version is made availa...</td>\n",
       "      <td>https://core.ac.uk/download/343691347.pdf</td>\n",
       "    </tr>\n",
       "  </tbody>\n",
       "</table>\n",
       "<p>758 rows × 7 columns</p>\n",
       "</div>"
      ],
      "text/plain": [
       "                                                       title  type citations  \\\n",
       "id                                                                             \n",
       "17897440   The Role of Persistent Organic Pollutants in O...  None      None   \n",
       "139945166  The Role of Persistent Organic Pollutants in O...  None      None   \n",
       "46207646   The Impact of the Quality of Nutrition and Lif...  None      None   \n",
       "45586099   The Impact of the Quality of Nutrition and Lif...  None      None   \n",
       "128452118  Metabolomic Approaches for Detection and Ident...  None      None   \n",
       "...                                                      ...   ...       ...   \n",
       "144698103  Estimates, trends, and drivers of the global b...  None      None   \n",
       "11182681   Special Issue on “fruit metabolism and metabol...  None      None   \n",
       "130735351  Special Issue on “fruit metabolism and metabol...  None      None   \n",
       "131969266  Hepatic encephalopathy: Novel insights into cl...  None      None   \n",
       "17884568   Hepatic encephalopathy : novel insights into c...  None      None   \n",
       "\n",
       "                published_date         updated_date  \\\n",
       "id                                                    \n",
       "17897440   2022-01-01T00:00:00  2023-03-26T18:35:46   \n",
       "139945166  2022-01-01T00:00:00  2023-03-02T22:21:18   \n",
       "46207646   2022-02-28T00:00:00  2023-02-11T02:48:35   \n",
       "45586099   2022-01-01T00:00:00  2023-04-05T02:05:43   \n",
       "128452118  2022-01-01T00:00:00  2023-02-11T02:52:47   \n",
       "...                        ...                  ...   \n",
       "144698103  2022-01-01T00:00:00  2023-07-22T12:30:24   \n",
       "11182681   2020-01-01T00:00:00  2023-02-11T01:53:34   \n",
       "130735351  2020-06-01T01:00:00  2022-11-13T00:36:32   \n",
       "131969266  2020-12-01T00:00:00  2022-11-21T23:08:55   \n",
       "17884568   2020-01-01T00:00:00  2022-11-21T23:08:55   \n",
       "\n",
       "                                                        text  \\\n",
       "id                                                             \n",
       "17897440   \u0001\u0002\u0003\u0001\u0004\u0005\u0006\u0007\b\u0001\u0001\u0002\u0003\u0004\u0005\u0006\u0007Citation: Aaseth, J.; Javorac...   \n",
       "139945166  \u0001\u0002\u0003\u0001\u0004\u0005\u0006\u0007\b\u0001\u0001\u0002\u0003\u0004\u0005\u0006\u0007Citation: Aaseth, J.; Javorac...   \n",
       "46207646   \u0001\u0002\u0003\u0001\u0004\u0005\u0006\u0007\b\u0001\u0001\u0002\u0003\u0004\u0005\u0006\u0007Citation: Gama, M.I.; Pinto, ...   \n",
       "45586099   \u0001\u0002\u0003\u0001\u0004\u0005\u0006\u0007\b\u0001\u0001\u0002\u0003\u0004\u0005\u0006\u0007Citation: Gama, M.I.; Pinto, ...   \n",
       "128452118  \u0001\u0002\u0003\u0001\u0004\u0005\u0006\u0007\b\u0001\u0001\u0002\u0003\u0004\u0005\u0006\u0007Citation: di Meo, N.A.; Loizz...   \n",
       "...                                                      ...   \n",
       "144698103  www.thelancet.com/planetary-health   Vol 6   J...   \n",
       "11182681    Metabolites 2020, 10, 230; doi:10.3390/metabo...   \n",
       "130735351   Metabolites 2020, 10, 230; doi:10.3390/metabo...   \n",
       "131969266  © 2020. This manuscript version is made availa...   \n",
       "17884568   © 2020. This manuscript version is made availa...   \n",
       "\n",
       "                                                 url  \n",
       "id                                                    \n",
       "17897440   https://core.ac.uk/download/511303485.pdf  \n",
       "139945166  https://core.ac.uk/download/554651010.pdf  \n",
       "46207646   https://core.ac.uk/download/516521871.pdf  \n",
       "45586099   https://core.ac.uk/download/491626104.pdf  \n",
       "128452118  https://core.ac.uk/download/541259738.pdf  \n",
       "...                                              ...  \n",
       "144698103  https://core.ac.uk/download/564141903.pdf  \n",
       "11182681   https://core.ac.uk/download/326023166.pdf  \n",
       "130735351  https://core.ac.uk/download/326023166.pdf  \n",
       "131969266  https://core.ac.uk/download/346619555.pdf  \n",
       "17884568   https://core.ac.uk/download/343691347.pdf  \n",
       "\n",
       "[758 rows x 7 columns]"
      ]
     },
     "execution_count": 8,
     "metadata": {},
     "output_type": "execute_result"
    }
   ],
   "source": [
    "find_duplicates(df, \"text\")"
   ]
  },
  {
   "cell_type": "markdown",
   "metadata": {},
   "source": [
    "If multiples works have the same `text`, we will take keep only the copy that was updated most recently."
   ]
  },
  {
   "cell_type": "code",
   "execution_count": 9,
   "metadata": {},
   "outputs": [],
   "source": [
    "df = df.sort_values(\"updated_date\")\n",
    "df = df.drop_duplicates(\"text\", keep=\"last\")"
   ]
  },
  {
   "cell_type": "markdown",
   "metadata": {},
   "source": [
    "##### TODO: soften the above so that it finds approximate and not just exact matches"
   ]
  },
  {
   "cell_type": "markdown",
   "metadata": {},
   "source": [
    "# Features"
   ]
  },
  {
   "cell_type": "code",
   "execution_count": 10,
   "metadata": {},
   "outputs": [],
   "source": [
    "def plot_feature(feature):\n",
    "    value_counts = df[feature].value_counts(dropna=False)\n",
    "    value, count = [\"na\" if not v else v for v in value_counts.index], value_counts.values\n",
    "    plt.bar(value, count)\n",
    "    plt.xlabel(f\"{feature}\")\n",
    "    plt.ylabel(\"count\")\n",
    "    plt.title(f\"{feature} data\")"
   ]
  },
  {
   "cell_type": "markdown",
   "metadata": {},
   "source": [
    "## Type"
   ]
  },
  {
   "cell_type": "code",
   "execution_count": 11,
   "metadata": {},
   "outputs": [
    {
     "data": {
      "image/png": "[encoded data removed]",
      "text/plain": [
       "<Figure size 640x480 with 1 Axes>"
      ]
     },
     "metadata": {},
     "output_type": "display_data"
    }
   ],
   "source": [
    "plot_feature(\"type\")"
   ]
  },
  {
   "cell_type": "markdown",
   "metadata": {},
   "source": [
    "What works are of \"unknown\" type?"
   ]
  },
  {
   "cell_type": "code",
   "execution_count": 12,
   "metadata": {},
   "outputs": [
    {
     "data": {
      "text/html": [
       "<div>\n",
       "<style scoped>\n",
       "    .dataframe tbody tr th:only-of-type {\n",
       "        vertical-align: middle;\n",
       "    }\n",
       "\n",
       "    .dataframe tbody tr th {\n",
       "        vertical-align: top;\n",
       "    }\n",
       "\n",
       "    .dataframe thead th {\n",
       "        text-align: right;\n",
       "    }\n",
       "</style>\n",
       "<table border=\"1\" class=\"dataframe\">\n",
       "  <thead>\n",
       "    <tr style=\"text-align: right;\">\n",
       "      <th></th>\n",
       "      <th>title</th>\n",
       "      <th>type</th>\n",
       "      <th>citations</th>\n",
       "      <th>published_date</th>\n",
       "      <th>updated_date</th>\n",
       "      <th>text</th>\n",
       "      <th>url</th>\n",
       "    </tr>\n",
       "    <tr>\n",
       "      <th>id</th>\n",
       "      <th></th>\n",
       "      <th></th>\n",
       "      <th></th>\n",
       "      <th></th>\n",
       "      <th></th>\n",
       "      <th></th>\n",
       "      <th></th>\n",
       "    </tr>\n",
       "  </thead>\n",
       "  <tbody>\n",
       "    <tr>\n",
       "      <th>42933739</th>\n",
       "      <td>DNA adduct formation due to the gastrointestin...</td>\n",
       "      <td>unknown</td>\n",
       "      <td>None</td>\n",
       "      <td>2017-01-01T00:00:00</td>\n",
       "      <td>2021-06-25T21:31:35</td>\n",
       "      <td>\\n \\n \\n \\n \\n \\n \\n \\n \\n \\n \\n \\n \\n \\n \\n ...</td>\n",
       "      <td>https://core.ac.uk/download/84042579.pdf</td>\n",
       "    </tr>\n",
       "    <tr>\n",
       "      <th>37973996</th>\n",
       "      <td>New horizons in treatment of osteoporosis</td>\n",
       "      <td>unknown</td>\n",
       "      <td>None</td>\n",
       "      <td>2017-01-01T00:00:00</td>\n",
       "      <td>2021-06-25T21:41:23</td>\n",
       "      <td>REVIEW ARTICLE Open Access\\nNew horizons in tr...</td>\n",
       "      <td>https://core.ac.uk/download/74565021.pdf</td>\n",
       "    </tr>\n",
       "    <tr>\n",
       "      <th>77792529</th>\n",
       "      <td>Forest genomics and biotechnology</td>\n",
       "      <td>unknown</td>\n",
       "      <td>None</td>\n",
       "      <td>2019-01-01T00:00:00</td>\n",
       "      <td>2021-06-25T22:01:57</td>\n",
       "      <td>EDITED BY :  Isabel Allona, Matias Kirst, Wout...</td>\n",
       "      <td>https://core.ac.uk/download/286549180.pdf</td>\n",
       "    </tr>\n",
       "    <tr>\n",
       "      <th>47068008</th>\n",
       "      <td>Transcriptomic and metabolic responses of Calo...</td>\n",
       "      <td>unknown</td>\n",
       "      <td>None</td>\n",
       "      <td>2017-12-01T00:00:00</td>\n",
       "      <td>2021-11-21T06:41:39</td>\n",
       "      <td>RESEARCH ARTICLE Open Access\\nTranscriptomic a...</td>\n",
       "      <td>https://core.ac.uk/download/145643408.pdf</td>\n",
       "    </tr>\n",
       "    <tr>\n",
       "      <th>46228193</th>\n",
       "      <td>Role of oxidative stress, inflammation and fib...</td>\n",
       "      <td>unknown</td>\n",
       "      <td>None</td>\n",
       "      <td>2016-12-07T02:08:16</td>\n",
       "      <td>2022-01-01T11:36:25</td>\n",
       "      <td>Boston University\\nOpenBU http://open.bu.edu\\n...</td>\n",
       "      <td>https://open.bu.edu/bitstream/2144/19761/1/Grz...</td>\n",
       "    </tr>\n",
       "    <tr>\n",
       "      <th>...</th>\n",
       "      <td>...</td>\n",
       "      <td>...</td>\n",
       "      <td>...</td>\n",
       "      <td>...</td>\n",
       "      <td>...</td>\n",
       "      <td>...</td>\n",
       "      <td>...</td>\n",
       "    </tr>\n",
       "    <tr>\n",
       "      <th>9006268</th>\n",
       "      <td>Statistical considerations in reporting cardio...</td>\n",
       "      <td>unknown</td>\n",
       "      <td>None</td>\n",
       "      <td>2018-08-01T00:00:00</td>\n",
       "      <td>2023-05-01T05:16:15</td>\n",
       "      <td>Edinburgh Research Explorer              ...</td>\n",
       "      <td>https://core.ac.uk/download/160670502.pdf</td>\n",
       "    </tr>\n",
       "    <tr>\n",
       "      <th>25215557</th>\n",
       "      <td>Education and Social Work Handbook 2009</td>\n",
       "      <td>unknown</td>\n",
       "      <td>None</td>\n",
       "      <td>2009-01-01T00:00:00</td>\n",
       "      <td>2023-08-05T00:08:47</td>\n",
       "      <td>Education and Social Work\\nhandbook 2009\\nSet ...</td>\n",
       "      <td>https://core.ac.uk/download/41231938.pdf</td>\n",
       "    </tr>\n",
       "    <tr>\n",
       "      <th>2041554</th>\n",
       "      <td>Toward interoperable bioscience data</td>\n",
       "      <td>unknown</td>\n",
       "      <td>None</td>\n",
       "      <td>2012-01-01T00:00:00</td>\n",
       "      <td>2023-08-06T00:34:08</td>\n",
       "      <td>nature genetics | volume 44 | number 2 | Febru...</td>\n",
       "      <td>https://core.ac.uk/download/4169516.pdf</td>\n",
       "    </tr>\n",
       "    <tr>\n",
       "      <th>8062210</th>\n",
       "      <td>Increased understandings of ruminal acidosis i...</td>\n",
       "      <td>unknown</td>\n",
       "      <td>None</td>\n",
       "      <td>2014-01-01T00:00:00</td>\n",
       "      <td>2023-09-23T23:56:41</td>\n",
       "      <td>Copyright and use of this thesis\\nThis thesis ...</td>\n",
       "      <td>https://core.ac.uk/download/41239625.pdf</td>\n",
       "    </tr>\n",
       "    <tr>\n",
       "      <th>25219093</th>\n",
       "      <td>Agriculture, Food and Natural Resources Handbo...</td>\n",
       "      <td>unknown</td>\n",
       "      <td>None</td>\n",
       "      <td>2009-01-01T00:00:00</td>\n",
       "      <td>2023-09-27T10:46:54</td>\n",
       "      <td>Agriculture, Food and \\nNatural Resources\\nhan...</td>\n",
       "      <td>https://core.ac.uk/download/41232074.pdf</td>\n",
       "    </tr>\n",
       "  </tbody>\n",
       "</table>\n",
       "<p>98 rows × 7 columns</p>\n",
       "</div>"
      ],
      "text/plain": [
       "                                                      title     type  \\\n",
       "id                                                                     \n",
       "42933739  DNA adduct formation due to the gastrointestin...  unknown   \n",
       "37973996          New horizons in treatment of osteoporosis  unknown   \n",
       "77792529                  Forest genomics and biotechnology  unknown   \n",
       "47068008  Transcriptomic and metabolic responses of Calo...  unknown   \n",
       "46228193  Role of oxidative stress, inflammation and fib...  unknown   \n",
       "...                                                     ...      ...   \n",
       "9006268   Statistical considerations in reporting cardio...  unknown   \n",
       "25215557            Education and Social Work Handbook 2009  unknown   \n",
       "2041554                Toward interoperable bioscience data  unknown   \n",
       "8062210   Increased understandings of ruminal acidosis i...  unknown   \n",
       "25219093  Agriculture, Food and Natural Resources Handbo...  unknown   \n",
       "\n",
       "         citations       published_date         updated_date  \\\n",
       "id                                                             \n",
       "42933739      None  2017-01-01T00:00:00  2021-06-25T21:31:35   \n",
       "37973996      None  2017-01-01T00:00:00  2021-06-25T21:41:23   \n",
       "77792529      None  2019-01-01T00:00:00  2021-06-25T22:01:57   \n",
       "47068008      None  2017-12-01T00:00:00  2021-11-21T06:41:39   \n",
       "46228193      None  2016-12-07T02:08:16  2022-01-01T11:36:25   \n",
       "...            ...                  ...                  ...   \n",
       "9006268       None  2018-08-01T00:00:00  2023-05-01T05:16:15   \n",
       "25215557      None  2009-01-01T00:00:00  2023-08-05T00:08:47   \n",
       "2041554       None  2012-01-01T00:00:00  2023-08-06T00:34:08   \n",
       "8062210       None  2014-01-01T00:00:00  2023-09-23T23:56:41   \n",
       "25219093      None  2009-01-01T00:00:00  2023-09-27T10:46:54   \n",
       "\n",
       "                                                       text  \\\n",
       "id                                                            \n",
       "42933739   \\n \\n \\n \\n \\n \\n \\n \\n \\n \\n \\n \\n \\n \\n \\n ...   \n",
       "37973996  REVIEW ARTICLE Open Access\\nNew horizons in tr...   \n",
       "77792529  EDITED BY :  Isabel Allona, Matias Kirst, Wout...   \n",
       "47068008  RESEARCH ARTICLE Open Access\\nTranscriptomic a...   \n",
       "46228193  Boston University\\nOpenBU http://open.bu.edu\\n...   \n",
       "...                                                     ...   \n",
       "9006268        Edinburgh Research Explorer              ...   \n",
       "25215557  Education and Social Work\\nhandbook 2009\\nSet ...   \n",
       "2041554   nature genetics | volume 44 | number 2 | Febru...   \n",
       "8062210   Copyright and use of this thesis\\nThis thesis ...   \n",
       "25219093  Agriculture, Food and \\nNatural Resources\\nhan...   \n",
       "\n",
       "                                                        url  \n",
       "id                                                           \n",
       "42933739           https://core.ac.uk/download/84042579.pdf  \n",
       "37973996           https://core.ac.uk/download/74565021.pdf  \n",
       "77792529          https://core.ac.uk/download/286549180.pdf  \n",
       "47068008          https://core.ac.uk/download/145643408.pdf  \n",
       "46228193  https://open.bu.edu/bitstream/2144/19761/1/Grz...  \n",
       "...                                                     ...  \n",
       "9006268           https://core.ac.uk/download/160670502.pdf  \n",
       "25215557           https://core.ac.uk/download/41231938.pdf  \n",
       "2041554             https://core.ac.uk/download/4169516.pdf  \n",
       "8062210            https://core.ac.uk/download/41239625.pdf  \n",
       "25219093           https://core.ac.uk/download/41232074.pdf  \n",
       "\n",
       "[98 rows x 7 columns]"
      ]
     },
     "execution_count": 12,
     "metadata": {},
     "output_type": "execute_result"
    }
   ],
   "source": [
    "df[df.type == \"unknown\"]"
   ]
  },
  {
   "cell_type": "markdown",
   "metadata": {},
   "source": [
    "## Citations"
   ]
  },
  {
   "cell_type": "markdown",
   "metadata": {},
   "source": [
    "Citations seem to be mostly or all `None`, making it a useless feature."
   ]
  },
  {
   "cell_type": "code",
   "execution_count": 13,
   "metadata": {},
   "outputs": [
    {
     "data": {
      "text/plain": [
       "True"
      ]
     },
     "execution_count": 13,
     "metadata": {},
     "output_type": "execute_result"
    }
   ],
   "source": [
    "np.all(df.citations.isna())"
   ]
  },
  {
   "cell_type": "markdown",
   "metadata": {},
   "source": [
    "## Dates"
   ]
  },
  {
   "cell_type": "markdown",
   "metadata": {},
   "source": [
    "Convert to datetime format."
   ]
  },
  {
   "cell_type": "code",
   "execution_count": 14,
   "metadata": {},
   "outputs": [],
   "source": [
    "df[\"published_date\"] = pd.to_datetime(df.published_date)\n",
    "df[\"updated_date\"] = pd.to_datetime(df.updated_date)"
   ]
  },
  {
   "cell_type": "markdown",
   "metadata": {},
   "source": [
    "Distribution of dates."
   ]
  },
  {
   "cell_type": "code",
   "execution_count": 23,
   "metadata": {},
   "outputs": [
    {
     "data": {
      "image/png": "[encoded data removed]",
      "text/plain": [
       "<Figure size 1200x500 with 2 Axes>"
      ]
     },
     "metadata": {},
     "output_type": "display_data"
    }
   ],
   "source": [
    "works_published_per_year = df.groupby(df.published_date.dt.year)[\"text\"].count()\n",
    "works_updated_per_year = df.groupby(df.updated_date.dt.year)[\"text\"].count()\n",
    "works_per_year = [works_published_per_year, works_updated_per_year]\n",
    "titles = [\"Published\", \"Updated\"]\n",
    "\n",
    "fig, axs = plt.subplots(1, len(works_per_year), figsize=(12, 5))\n",
    "for i in range(len(works_per_year)):\n",
    "    data = works_per_year[i]\n",
    "    year, count = data.index, data.values\n",
    "    axs[i].bar(year, count)\n",
    "    axs[i].set_title(titles[i])\n",
    "    axs[i].set_xticks(year)\n",
    "    axs[i].set_xticklabels(year, rotation=45)\n",
    "    axs[i].set_ylabel('Number of Works')"
   ]
  },
  {
   "cell_type": "markdown",
   "metadata": {},
   "source": [
    "## Text"
   ]
  },
  {
   "cell_type": "markdown",
   "metadata": {},
   "source": [
    "Works without text."
   ]
  },
  {
   "cell_type": "code",
   "execution_count": 24,
   "metadata": {},
   "outputs": [
    {
     "data": {
      "text/plain": [
       "1"
      ]
     },
     "execution_count": 24,
     "metadata": {},
     "output_type": "execute_result"
    }
   ],
   "source": [
    "df.text.isna().sum()"
   ]
  },
  {
   "cell_type": "code",
   "execution_count": 25,
   "metadata": {},
   "outputs": [],
   "source": [
    "df = df.dropna(subset=\"text\")"
   ]
  },
  {
   "cell_type": "markdown",
   "metadata": {},
   "source": [
    "Distribution of length."
   ]
  },
  {
   "cell_type": "code",
   "execution_count": 26,
   "metadata": {},
   "outputs": [],
   "source": [
    "word_counts = df.text.map(lambda x: len(x.split()))"
   ]
  },
  {
   "cell_type": "code",
   "execution_count": 28,
   "metadata": {},
   "outputs": [
    {
     "data": {
      "image/png": "[encoded data removed]",
      "text/plain": [
       "<Figure size 1000x1000 with 3 Axes>"
      ]
     },
     "metadata": {},
     "output_type": "display_data"
    }
   ],
   "source": [
    "all_works = word_counts\n",
    "medium_works = word_counts[word_counts <= 100000]\n",
    "short_works = word_counts[word_counts <= 20000]\n",
    "data = [all_works, medium_works, short_works]\n",
    "titles = [\"All Works\", \"Works <= 100K Words\", \"Works <= 20K Words\"]\n",
    "\n",
    "fig, axs = plt.subplots(len(data), 1, figsize=(10, 10))\n",
    "for i in range(len(data)):\n",
    "    axs[i].hist(data[i], bins=20)\n",
    "    axs[i].set_title(titles[i])"
   ]
  },
  {
   "cell_type": "markdown",
   "metadata": {},
   "source": [
    "Mentions of \"metabolomics\"."
   ]
  },
  {
   "cell_type": "code",
   "execution_count": 27,
   "metadata": {},
   "outputs": [
    {
     "data": {
      "text/plain": [
       "Text(0, 0.5, 'Number of Works')"
      ]
     },
     "execution_count": 27,
     "metadata": {},
     "output_type": "execute_result"
    },
    {
     "data": {
      "image/png": "[encoded data removed]",
      "text/plain": [
       "<Figure size 640x480 with 1 Axes>"
      ]
     },
     "metadata": {},
     "output_type": "display_data"
    }
   ],
   "source": [
    "occurrences = df.text.map(lambda x: x.count(\"metabolomics\"))\n",
    "plt.hist(occurrences, bins=20, density=True)\n",
    "plt.xlabel(\"Count of 'metabolomics'\")\n",
    "plt.ylabel(\"Number of Works\")"
   ]
  }
 ],
 "metadata": {
  "kernelspec": {
   "display_name": "Python 3",
   "language": "python",
   "name": "python3"
  },
  "language_info": {
   "codemirror_mode": {
    "name": "ipython",
    "version": 3
   },
   "file_extension": ".py",
   "mimetype": "text/x-python",
   "name": "python",
   "nbconvert_exporter": "python",
   "pygments_lexer": "ipython3",
   "version": "3.9.18"
  }
 },
 "nbformat": 4,
 "nbformat_minor": 2
}
